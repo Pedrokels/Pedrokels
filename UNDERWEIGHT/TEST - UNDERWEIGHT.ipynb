{
 "cells": [
  {
   "cell_type": "code",
   "execution_count": 1,
   "id": "307ba9e6",
   "metadata": {},
   "outputs": [],
   "source": [
    "import numpy as np \n",
    "import pandas as pd \n",
    "import matplotlib.pyplot as plt\n",
    "import seaborn as sns\n",
    "import plotly.express as px\n",
    "import plotly.figure_factory as ff\n",
    "import plotly.graph_objects as go\n",
    "from plotly.subplots import make_subplots\n",
    "from sklearn.metrics import accuracy_score, precision_score, recall_score, f1_score,\\\n",
    "roc_auc_score, roc_curve, plot_roc_curve, auc\n",
    "from sklearn.model_selection import GridSearchCV\n",
    "from imblearn.over_sampling import SMOTE\n",
    "import scikitplot as skplt\n",
    "\n",
    "from sklearn.svm import SVC\n",
    "from xgboost import XGBClassifier\n",
    "from sklearn.linear_model import LogisticRegression\n",
    "from sklearn.tree  import DecisionTreeClassifier\n",
    "from sklearn.ensemble import RandomForestClassifier\n",
    "from sklearn.preprocessing import LabelEncoder, MinMaxScaler \n",
    "from sklearn.model_selection import train_test_split\n",
    "from imblearn.under_sampling import RandomUnderSampler\n",
    "from imblearn.over_sampling import RandomOverSampler\n",
    "from sklearn.ensemble import RandomForestClassifier, AdaBoostClassifier\n",
    "from sklearn.preprocessing import OneHotEncoder, StandardScaler\n",
    "import warnings\n",
    "warnings.filterwarnings(\"ignore\")"
   ]
  },
  {
   "cell_type": "code",
   "execution_count": 2,
   "id": "45da1c21",
   "metadata": {},
   "outputs": [
    {
     "data": {
      "text/html": [
       "<div>\n",
       "<style scoped>\n",
       "    .dataframe tbody tr th:only-of-type {\n",
       "        vertical-align: middle;\n",
       "    }\n",
       "\n",
       "    .dataframe tbody tr th {\n",
       "        vertical-align: top;\n",
       "    }\n",
       "\n",
       "    .dataframe thead th {\n",
       "        text-align: right;\n",
       "    }\n",
       "</style>\n",
       "<table border=\"1\" class=\"dataframe\">\n",
       "  <thead>\n",
       "    <tr style=\"text-align: right;\">\n",
       "      <th></th>\n",
       "      <th>age_child</th>\n",
       "      <th>agemos</th>\n",
       "      <th>AgeGroup</th>\n",
       "      <th>sex_child</th>\n",
       "      <th>gastation</th>\n",
       "      <th>place_delivery</th>\n",
       "      <th>assistd</th>\n",
       "      <th>typeofd</th>\n",
       "      <th>pregtype</th>\n",
       "      <th>bw_grams</th>\n",
       "      <th>...</th>\n",
       "      <th>drinksafe</th>\n",
       "      <th>makesafe</th>\n",
       "      <th>wcooking</th>\n",
       "      <th>whands</th>\n",
       "      <th>collect</th>\n",
       "      <th>burn</th>\n",
       "      <th>composting</th>\n",
       "      <th>dump</th>\n",
       "      <th>segregate</th>\n",
       "      <th>underweight</th>\n",
       "    </tr>\n",
       "  </thead>\n",
       "  <tbody>\n",
       "    <tr>\n",
       "      <th>0</th>\n",
       "      <td>4</td>\n",
       "      <td>48</td>\n",
       "      <td>3</td>\n",
       "      <td>2</td>\n",
       "      <td>1</td>\n",
       "      <td>1</td>\n",
       "      <td>1</td>\n",
       "      <td>1</td>\n",
       "      <td>1</td>\n",
       "      <td>2400</td>\n",
       "      <td>...</td>\n",
       "      <td>0</td>\n",
       "      <td>0</td>\n",
       "      <td>2</td>\n",
       "      <td>2</td>\n",
       "      <td>0</td>\n",
       "      <td>0</td>\n",
       "      <td>1</td>\n",
       "      <td>0</td>\n",
       "      <td>0</td>\n",
       "      <td>1</td>\n",
       "    </tr>\n",
       "    <tr>\n",
       "      <th>1</th>\n",
       "      <td>3</td>\n",
       "      <td>34</td>\n",
       "      <td>1</td>\n",
       "      <td>2</td>\n",
       "      <td>1</td>\n",
       "      <td>1</td>\n",
       "      <td>1</td>\n",
       "      <td>1</td>\n",
       "      <td>1</td>\n",
       "      <td>2500</td>\n",
       "      <td>...</td>\n",
       "      <td>9</td>\n",
       "      <td>9</td>\n",
       "      <td>2</td>\n",
       "      <td>2</td>\n",
       "      <td>0</td>\n",
       "      <td>1</td>\n",
       "      <td>0</td>\n",
       "      <td>1</td>\n",
       "      <td>1</td>\n",
       "      <td>0</td>\n",
       "    </tr>\n",
       "    <tr>\n",
       "      <th>2</th>\n",
       "      <td>4</td>\n",
       "      <td>51</td>\n",
       "      <td>3</td>\n",
       "      <td>1</td>\n",
       "      <td>1</td>\n",
       "      <td>1</td>\n",
       "      <td>1</td>\n",
       "      <td>1</td>\n",
       "      <td>1</td>\n",
       "      <td>2500</td>\n",
       "      <td>...</td>\n",
       "      <td>0</td>\n",
       "      <td>0</td>\n",
       "      <td>2</td>\n",
       "      <td>2</td>\n",
       "      <td>0</td>\n",
       "      <td>0</td>\n",
       "      <td>1</td>\n",
       "      <td>0</td>\n",
       "      <td>0</td>\n",
       "      <td>1</td>\n",
       "    </tr>\n",
       "    <tr>\n",
       "      <th>3</th>\n",
       "      <td>4</td>\n",
       "      <td>51</td>\n",
       "      <td>3</td>\n",
       "      <td>2</td>\n",
       "      <td>1</td>\n",
       "      <td>0</td>\n",
       "      <td>1</td>\n",
       "      <td>1</td>\n",
       "      <td>1</td>\n",
       "      <td>3200</td>\n",
       "      <td>...</td>\n",
       "      <td>0</td>\n",
       "      <td>0</td>\n",
       "      <td>2</td>\n",
       "      <td>2</td>\n",
       "      <td>0</td>\n",
       "      <td>1</td>\n",
       "      <td>0</td>\n",
       "      <td>0</td>\n",
       "      <td>0</td>\n",
       "      <td>0</td>\n",
       "    </tr>\n",
       "    <tr>\n",
       "      <th>4</th>\n",
       "      <td>2</td>\n",
       "      <td>28</td>\n",
       "      <td>1</td>\n",
       "      <td>2</td>\n",
       "      <td>1</td>\n",
       "      <td>1</td>\n",
       "      <td>1</td>\n",
       "      <td>1</td>\n",
       "      <td>1</td>\n",
       "      <td>2800</td>\n",
       "      <td>...</td>\n",
       "      <td>9</td>\n",
       "      <td>9</td>\n",
       "      <td>2</td>\n",
       "      <td>2</td>\n",
       "      <td>0</td>\n",
       "      <td>1</td>\n",
       "      <td>0</td>\n",
       "      <td>1</td>\n",
       "      <td>0</td>\n",
       "      <td>1</td>\n",
       "    </tr>\n",
       "  </tbody>\n",
       "</table>\n",
       "<p>5 rows × 42 columns</p>\n",
       "</div>"
      ],
      "text/plain": [
       "   age_child  agemos  AgeGroup  sex_child  gastation  place_delivery  assistd  \\\n",
       "0          4      48         3          2          1               1        1   \n",
       "1          3      34         1          2          1               1        1   \n",
       "2          4      51         3          1          1               1        1   \n",
       "3          4      51         3          2          1               0        1   \n",
       "4          2      28         1          2          1               1        1   \n",
       "\n",
       "   typeofd  pregtype  bw_grams  ...  drinksafe  makesafe  wcooking  whands  \\\n",
       "0        1         1      2400  ...          0         0         2       2   \n",
       "1        1         1      2500  ...          9         9         2       2   \n",
       "2        1         1      2500  ...          0         0         2       2   \n",
       "3        1         1      3200  ...          0         0         2       2   \n",
       "4        1         1      2800  ...          9         9         2       2   \n",
       "\n",
       "   collect  burn  composting  dump  segregate  underweight  \n",
       "0        0     0           1     0          0            1  \n",
       "1        0     1           0     1          1            0  \n",
       "2        0     0           1     0          0            1  \n",
       "3        0     1           0     0          0            0  \n",
       "4        0     1           0     1          0            1  \n",
       "\n",
       "[5 rows x 42 columns]"
      ]
     },
     "execution_count": 2,
     "metadata": {},
     "output_type": "execute_result"
    }
   ],
   "source": [
    "data=pd.read_csv(\"2018_2019_24-59mos_underweight_complete.csv\")\n",
    "data.head()"
   ]
  },
  {
   "cell_type": "code",
   "execution_count": 3,
   "id": "6c53860a",
   "metadata": {},
   "outputs": [
    {
     "data": {
      "text/html": [
       "<div>\n",
       "<style scoped>\n",
       "    .dataframe tbody tr th:only-of-type {\n",
       "        vertical-align: middle;\n",
       "    }\n",
       "\n",
       "    .dataframe tbody tr th {\n",
       "        vertical-align: top;\n",
       "    }\n",
       "\n",
       "    .dataframe thead th {\n",
       "        text-align: right;\n",
       "    }\n",
       "</style>\n",
       "<table border=\"1\" class=\"dataframe\">\n",
       "  <thead>\n",
       "    <tr style=\"text-align: right;\">\n",
       "      <th></th>\n",
       "      <th>age_child</th>\n",
       "      <th>agemos</th>\n",
       "      <th>AgeGroup</th>\n",
       "      <th>sex_child</th>\n",
       "      <th>gastation</th>\n",
       "      <th>place_delivery</th>\n",
       "      <th>assistd</th>\n",
       "      <th>typeofd</th>\n",
       "      <th>pregtype</th>\n",
       "      <th>bw_grams</th>\n",
       "      <th>...</th>\n",
       "      <th>drinksafe</th>\n",
       "      <th>makesafe</th>\n",
       "      <th>wcooking</th>\n",
       "      <th>whands</th>\n",
       "      <th>collect</th>\n",
       "      <th>burn</th>\n",
       "      <th>composting</th>\n",
       "      <th>dump</th>\n",
       "      <th>segregate</th>\n",
       "      <th>underweight</th>\n",
       "    </tr>\n",
       "  </thead>\n",
       "  <tbody>\n",
       "    <tr>\n",
       "      <th>count</th>\n",
       "      <td>14490.000000</td>\n",
       "      <td>14490.000000</td>\n",
       "      <td>14490.000000</td>\n",
       "      <td>14490.000000</td>\n",
       "      <td>14490.000000</td>\n",
       "      <td>14490.000000</td>\n",
       "      <td>14490.000000</td>\n",
       "      <td>14490.000000</td>\n",
       "      <td>14490.000000</td>\n",
       "      <td>14490.000000</td>\n",
       "      <td>...</td>\n",
       "      <td>14490.000000</td>\n",
       "      <td>14490.000000</td>\n",
       "      <td>14490.000000</td>\n",
       "      <td>14490.000000</td>\n",
       "      <td>14490.000000</td>\n",
       "      <td>14490.000000</td>\n",
       "      <td>14490.000000</td>\n",
       "      <td>14490.000000</td>\n",
       "      <td>14490.000000</td>\n",
       "      <td>14490.000000</td>\n",
       "    </tr>\n",
       "    <tr>\n",
       "      <th>mean</th>\n",
       "      <td>3.390338</td>\n",
       "      <td>42.464182</td>\n",
       "      <td>2.038923</td>\n",
       "      <td>1.481366</td>\n",
       "      <td>0.975983</td>\n",
       "      <td>0.888820</td>\n",
       "      <td>0.912491</td>\n",
       "      <td>1.114217</td>\n",
       "      <td>1.012215</td>\n",
       "      <td>2975.107246</td>\n",
       "      <td>...</td>\n",
       "      <td>2.116908</td>\n",
       "      <td>2.339337</td>\n",
       "      <td>11.801311</td>\n",
       "      <td>10.927398</td>\n",
       "      <td>0.463423</td>\n",
       "      <td>0.407660</td>\n",
       "      <td>0.231263</td>\n",
       "      <td>0.192133</td>\n",
       "      <td>0.624983</td>\n",
       "      <td>0.211249</td>\n",
       "    </tr>\n",
       "    <tr>\n",
       "      <th>std</th>\n",
       "      <td>0.912118</td>\n",
       "      <td>10.313172</td>\n",
       "      <td>0.812459</td>\n",
       "      <td>0.499670</td>\n",
       "      <td>0.153106</td>\n",
       "      <td>0.314366</td>\n",
       "      <td>0.282589</td>\n",
       "      <td>0.318085</td>\n",
       "      <td>0.111099</td>\n",
       "      <td>598.736035</td>\n",
       "      <td>...</td>\n",
       "      <td>3.606307</td>\n",
       "      <td>3.626028</td>\n",
       "      <td>15.130543</td>\n",
       "      <td>12.847920</td>\n",
       "      <td>0.498678</td>\n",
       "      <td>0.491416</td>\n",
       "      <td>0.421655</td>\n",
       "      <td>0.393990</td>\n",
       "      <td>0.484144</td>\n",
       "      <td>0.408209</td>\n",
       "    </tr>\n",
       "    <tr>\n",
       "      <th>min</th>\n",
       "      <td>2.000000</td>\n",
       "      <td>24.000000</td>\n",
       "      <td>1.000000</td>\n",
       "      <td>1.000000</td>\n",
       "      <td>0.000000</td>\n",
       "      <td>0.000000</td>\n",
       "      <td>0.000000</td>\n",
       "      <td>1.000000</td>\n",
       "      <td>1.000000</td>\n",
       "      <td>900.000000</td>\n",
       "      <td>...</td>\n",
       "      <td>0.000000</td>\n",
       "      <td>0.000000</td>\n",
       "      <td>1.000000</td>\n",
       "      <td>1.000000</td>\n",
       "      <td>0.000000</td>\n",
       "      <td>0.000000</td>\n",
       "      <td>0.000000</td>\n",
       "      <td>0.000000</td>\n",
       "      <td>0.000000</td>\n",
       "      <td>0.000000</td>\n",
       "    </tr>\n",
       "    <tr>\n",
       "      <th>25%</th>\n",
       "      <td>3.000000</td>\n",
       "      <td>34.000000</td>\n",
       "      <td>1.000000</td>\n",
       "      <td>1.000000</td>\n",
       "      <td>1.000000</td>\n",
       "      <td>1.000000</td>\n",
       "      <td>1.000000</td>\n",
       "      <td>1.000000</td>\n",
       "      <td>1.000000</td>\n",
       "      <td>2629.000000</td>\n",
       "      <td>...</td>\n",
       "      <td>0.000000</td>\n",
       "      <td>0.000000</td>\n",
       "      <td>2.000000</td>\n",
       "      <td>1.000000</td>\n",
       "      <td>0.000000</td>\n",
       "      <td>0.000000</td>\n",
       "      <td>0.000000</td>\n",
       "      <td>0.000000</td>\n",
       "      <td>0.000000</td>\n",
       "      <td>0.000000</td>\n",
       "    </tr>\n",
       "    <tr>\n",
       "      <th>50%</th>\n",
       "      <td>3.000000</td>\n",
       "      <td>43.000000</td>\n",
       "      <td>2.000000</td>\n",
       "      <td>1.000000</td>\n",
       "      <td>1.000000</td>\n",
       "      <td>1.000000</td>\n",
       "      <td>1.000000</td>\n",
       "      <td>1.000000</td>\n",
       "      <td>1.000000</td>\n",
       "      <td>3000.000000</td>\n",
       "      <td>...</td>\n",
       "      <td>0.000000</td>\n",
       "      <td>0.000000</td>\n",
       "      <td>8.000000</td>\n",
       "      <td>5.000000</td>\n",
       "      <td>0.000000</td>\n",
       "      <td>0.000000</td>\n",
       "      <td>0.000000</td>\n",
       "      <td>0.000000</td>\n",
       "      <td>1.000000</td>\n",
       "      <td>0.000000</td>\n",
       "    </tr>\n",
       "    <tr>\n",
       "      <th>75%</th>\n",
       "      <td>4.000000</td>\n",
       "      <td>51.000000</td>\n",
       "      <td>3.000000</td>\n",
       "      <td>2.000000</td>\n",
       "      <td>1.000000</td>\n",
       "      <td>1.000000</td>\n",
       "      <td>1.000000</td>\n",
       "      <td>1.000000</td>\n",
       "      <td>1.000000</td>\n",
       "      <td>3200.000000</td>\n",
       "      <td>...</td>\n",
       "      <td>1.000000</td>\n",
       "      <td>4.000000</td>\n",
       "      <td>13.000000</td>\n",
       "      <td>13.000000</td>\n",
       "      <td>1.000000</td>\n",
       "      <td>1.000000</td>\n",
       "      <td>0.000000</td>\n",
       "      <td>0.000000</td>\n",
       "      <td>1.000000</td>\n",
       "      <td>0.000000</td>\n",
       "    </tr>\n",
       "    <tr>\n",
       "      <th>max</th>\n",
       "      <td>5.000000</td>\n",
       "      <td>60.000000</td>\n",
       "      <td>3.000000</td>\n",
       "      <td>2.000000</td>\n",
       "      <td>1.000000</td>\n",
       "      <td>1.000000</td>\n",
       "      <td>1.000000</td>\n",
       "      <td>2.000000</td>\n",
       "      <td>3.000000</td>\n",
       "      <td>9500.000000</td>\n",
       "      <td>...</td>\n",
       "      <td>9.000000</td>\n",
       "      <td>9.000000</td>\n",
       "      <td>91.000000</td>\n",
       "      <td>91.000000</td>\n",
       "      <td>1.000000</td>\n",
       "      <td>1.000000</td>\n",
       "      <td>1.000000</td>\n",
       "      <td>1.000000</td>\n",
       "      <td>1.000000</td>\n",
       "      <td>1.000000</td>\n",
       "    </tr>\n",
       "  </tbody>\n",
       "</table>\n",
       "<p>8 rows × 42 columns</p>\n",
       "</div>"
      ],
      "text/plain": [
       "          age_child        agemos      AgeGroup     sex_child     gastation  \\\n",
       "count  14490.000000  14490.000000  14490.000000  14490.000000  14490.000000   \n",
       "mean       3.390338     42.464182      2.038923      1.481366      0.975983   \n",
       "std        0.912118     10.313172      0.812459      0.499670      0.153106   \n",
       "min        2.000000     24.000000      1.000000      1.000000      0.000000   \n",
       "25%        3.000000     34.000000      1.000000      1.000000      1.000000   \n",
       "50%        3.000000     43.000000      2.000000      1.000000      1.000000   \n",
       "75%        4.000000     51.000000      3.000000      2.000000      1.000000   \n",
       "max        5.000000     60.000000      3.000000      2.000000      1.000000   \n",
       "\n",
       "       place_delivery       assistd       typeofd      pregtype      bw_grams  \\\n",
       "count    14490.000000  14490.000000  14490.000000  14490.000000  14490.000000   \n",
       "mean         0.888820      0.912491      1.114217      1.012215   2975.107246   \n",
       "std          0.314366      0.282589      0.318085      0.111099    598.736035   \n",
       "min          0.000000      0.000000      1.000000      1.000000    900.000000   \n",
       "25%          1.000000      1.000000      1.000000      1.000000   2629.000000   \n",
       "50%          1.000000      1.000000      1.000000      1.000000   3000.000000   \n",
       "75%          1.000000      1.000000      1.000000      1.000000   3200.000000   \n",
       "max          1.000000      1.000000      2.000000      3.000000   9500.000000   \n",
       "\n",
       "       ...     drinksafe      makesafe      wcooking        whands  \\\n",
       "count  ...  14490.000000  14490.000000  14490.000000  14490.000000   \n",
       "mean   ...      2.116908      2.339337     11.801311     10.927398   \n",
       "std    ...      3.606307      3.626028     15.130543     12.847920   \n",
       "min    ...      0.000000      0.000000      1.000000      1.000000   \n",
       "25%    ...      0.000000      0.000000      2.000000      1.000000   \n",
       "50%    ...      0.000000      0.000000      8.000000      5.000000   \n",
       "75%    ...      1.000000      4.000000     13.000000     13.000000   \n",
       "max    ...      9.000000      9.000000     91.000000     91.000000   \n",
       "\n",
       "            collect          burn    composting          dump     segregate  \\\n",
       "count  14490.000000  14490.000000  14490.000000  14490.000000  14490.000000   \n",
       "mean       0.463423      0.407660      0.231263      0.192133      0.624983   \n",
       "std        0.498678      0.491416      0.421655      0.393990      0.484144   \n",
       "min        0.000000      0.000000      0.000000      0.000000      0.000000   \n",
       "25%        0.000000      0.000000      0.000000      0.000000      0.000000   \n",
       "50%        0.000000      0.000000      0.000000      0.000000      1.000000   \n",
       "75%        1.000000      1.000000      0.000000      0.000000      1.000000   \n",
       "max        1.000000      1.000000      1.000000      1.000000      1.000000   \n",
       "\n",
       "        underweight  \n",
       "count  14490.000000  \n",
       "mean       0.211249  \n",
       "std        0.408209  \n",
       "min        0.000000  \n",
       "25%        0.000000  \n",
       "50%        0.000000  \n",
       "75%        0.000000  \n",
       "max        1.000000  \n",
       "\n",
       "[8 rows x 42 columns]"
      ]
     },
     "execution_count": 3,
     "metadata": {},
     "output_type": "execute_result"
    }
   ],
   "source": [
    "data.describe()"
   ]
  },
  {
   "cell_type": "code",
   "execution_count": 4,
   "id": "c25589d9",
   "metadata": {},
   "outputs": [
    {
     "name": "stdout",
     "output_type": "stream",
     "text": [
      "<class 'pandas.core.frame.DataFrame'>\n",
      "RangeIndex: 14490 entries, 0 to 14489\n",
      "Data columns (total 42 columns):\n",
      " #   Column           Non-Null Count  Dtype\n",
      "---  ------           --------------  -----\n",
      " 0   age_child        14490 non-null  int64\n",
      " 1   agemos           14490 non-null  int64\n",
      " 2   AgeGroup         14490 non-null  int64\n",
      " 3   sex_child        14490 non-null  int64\n",
      " 4   gastation        14490 non-null  int64\n",
      " 5   place_delivery   14490 non-null  int64\n",
      " 6   assistd          14490 non-null  int64\n",
      " 7   typeofd          14490 non-null  int64\n",
      " 8   pregtype         14490 non-null  int64\n",
      " 9   bw_grams         14490 non-null  int64\n",
      " 10  bw_status        14490 non-null  int64\n",
      " 11  ethnicity        14490 non-null  int64\n",
      " 12  age_mom          14490 non-null  int64\n",
      " 13  agegroup_mom     14490 non-null  int64\n",
      " 14  csc_mom          14490 non-null  int64\n",
      " 15  psccat_mom       14490 non-null  int64\n",
      " 16  educ_mom         14490 non-null  int64\n",
      " 17  occup_mom        14490 non-null  int64\n",
      " 18  work_status_mom  14490 non-null  int64\n",
      " 19  age_hh           14490 non-null  int64\n",
      " 20  agegroup_HH      14490 non-null  int64\n",
      " 21  sex_hh           14490 non-null  int64\n",
      " 22  educ_hh          14490 non-null  int64\n",
      " 23  psoc_hh          14490 non-null  int64\n",
      " 24  work_status_hh   14490 non-null  int64\n",
      " 25  urbanity         14490 non-null  int64\n",
      " 26  hhsize           14490 non-null  int64\n",
      " 27  hhsize_code      14490 non-null  int64\n",
      " 28  drinkingwater    14490 non-null  int64\n",
      " 29  recipient_4ps    14490 non-null  int64\n",
      " 30  toilet           14490 non-null  int64\n",
      " 31  electrct1        14490 non-null  int64\n",
      " 32  drinksafe        14490 non-null  int64\n",
      " 33  makesafe         14490 non-null  int64\n",
      " 34  wcooking         14490 non-null  int64\n",
      " 35  whands           14490 non-null  int64\n",
      " 36  collect          14490 non-null  int64\n",
      " 37  burn             14490 non-null  int64\n",
      " 38  composting       14490 non-null  int64\n",
      " 39  dump             14490 non-null  int64\n",
      " 40  segregate        14490 non-null  int64\n",
      " 41  underweight      14490 non-null  int64\n",
      "dtypes: int64(42)\n",
      "memory usage: 4.6 MB\n"
     ]
    }
   ],
   "source": [
    "data.info()"
   ]
  },
  {
   "cell_type": "code",
   "execution_count": 5,
   "id": "1b1dbf5a",
   "metadata": {},
   "outputs": [
    {
     "data": {
      "text/plain": [
       "age_child          0\n",
       "agemos             0\n",
       "AgeGroup           0\n",
       "sex_child          0\n",
       "gastation          0\n",
       "place_delivery     0\n",
       "assistd            0\n",
       "typeofd            0\n",
       "pregtype           0\n",
       "bw_grams           0\n",
       "bw_status          0\n",
       "ethnicity          0\n",
       "age_mom            0\n",
       "agegroup_mom       0\n",
       "csc_mom            0\n",
       "psccat_mom         0\n",
       "educ_mom           0\n",
       "occup_mom          0\n",
       "work_status_mom    0\n",
       "age_hh             0\n",
       "agegroup_HH        0\n",
       "sex_hh             0\n",
       "educ_hh            0\n",
       "psoc_hh            0\n",
       "work_status_hh     0\n",
       "urbanity           0\n",
       "hhsize             0\n",
       "hhsize_code        0\n",
       "drinkingwater      0\n",
       "recipient_4ps      0\n",
       "toilet             0\n",
       "electrct1          0\n",
       "drinksafe          0\n",
       "makesafe           0\n",
       "wcooking           0\n",
       "whands             0\n",
       "collect            0\n",
       "burn               0\n",
       "composting         0\n",
       "dump               0\n",
       "segregate          0\n",
       "underweight        0\n",
       "dtype: int64"
      ]
     },
     "execution_count": 5,
     "metadata": {},
     "output_type": "execute_result"
    }
   ],
   "source": [
    "#here we check if there is missing values or not \n",
    "data.isnull().sum()"
   ]
  },
  {
   "cell_type": "code",
   "execution_count": 6,
   "id": "45a5fadf",
   "metadata": {},
   "outputs": [],
   "source": [
    "df=data.copy() #copy of our data "
   ]
  },
  {
   "cell_type": "code",
   "execution_count": 7,
   "id": "4c2d7bd5",
   "metadata": {},
   "outputs": [
    {
     "data": {
      "text/plain": [
       "<AxesSubplot:>"
      ]
     },
     "execution_count": 7,
     "metadata": {},
     "output_type": "execute_result"
    },
    {
     "data": {
      "image/png": "[encoded data removed]",
      "text/plain": [
       "<Figure size 432x288 with 1 Axes>"
      ]
     },
     "metadata": {
      "needs_background": "light"
     },
     "output_type": "display_data"
    }
   ],
   "source": [
    "sns.heatmap(df.isnull(), yticklabels=False, cbar=False, cmap='BuPu')"
   ]
  },
  {
   "cell_type": "code",
   "execution_count": 8,
   "id": "6a833a01",
   "metadata": {},
   "outputs": [
    {
     "data": {
      "image/png": "[encoded data removed]",
      "text/plain": [
       "<Figure size 432x288 with 1 Axes>"
      ]
     },
     "metadata": {},
     "output_type": "display_data"
    }
   ],
   "source": [
    "data = df[\"underweight\"].value_counts()\n",
    "labels = df[\"underweight\"].value_counts().index\n",
    "\n",
    "palette_color = sns.color_palette('bright')\n",
    "plt.pie(data, labels=labels, colors=palette_color, autopct='%.0f%%')\n",
    "plt.title(\"The percentage of underweight 0: Normal, 1: Underweight\");\n",
    "#There is 201 null BMI values on the dataset. Additionally the data is imbalance therefore we need to solve these issues for better results."
   ]
  },
  {
   "cell_type": "code",
   "execution_count": 9,
   "id": "11c313d0",
   "metadata": {},
   "outputs": [
    {
     "data": {
      "image/png": "[encoded data removed]",
      "text/plain": [
       "<Figure size 2520x432 with 7 Axes>"
      ]
     },
     "metadata": {},
     "output_type": "display_data"
    }
   ],
   "source": [
    "# Set seaborn style palette\n",
    "sns.set_theme(style=\"darkgrid\", palette=\"icefire\")\n",
    "\n",
    "# Array of columns that we would like to plot\n",
    "cols = ['bw_grams','psoc_hh','age_hh','hhsize',\n",
    "           'psccat_mom','drinkingwater','educ_mom']\n",
    "\n",
    "# Instantiate figure and axes for as many subplots as the columns in question\n",
    "fig, ax = plt.subplots(ncols=len(cols), figsize=(5 * len(cols),6), sharex = True)\n",
    "\n",
    "# Draw a Boxen Plot for each column in question\n",
    "for i in range(len(cols)):\n",
    "  (sns.boxenplot(y=df[cols[i]],data=df, showfliers=True,ax=ax[i])).set(xlabel=cols[i])"
   ]
  },
  {
   "cell_type": "code",
   "execution_count": 10,
   "id": "ffb9935e",
   "metadata": {},
   "outputs": [
    {
     "data": {
      "text/plain": [
       "<seaborn.axisgrid.FacetGrid at 0x1a6b82d8220>"
      ]
     },
     "execution_count": 10,
     "metadata": {},
     "output_type": "execute_result"
    },
    {
     "data": {
      "image/png": "[encoded data removed]",
      "text/plain": [
       "<Figure size 360x360 with 1 Axes>"
      ]
     },
     "metadata": {},
     "output_type": "display_data"
    }
   ],
   "source": [
    "sns.catplot(data=df, x=\"underweight\", y=\"bw_grams\", kind=\"box\") #checking for outliers"
   ]
  },
  {
   "cell_type": "code",
   "execution_count": 11,
   "id": "d2d6f8e7",
   "metadata": {},
   "outputs": [],
   "source": [
    "indexAge = data[((df['bw_grams'] < 1900) & (df['underweight'] == 0)) ].index\n",
    "data.drop(indexAge , inplace=True)\n",
    "\n",
    "indexAge = data[((df['bw_grams'] > 4100) & (df['underweight'] == 0)) ].index\n",
    "data.drop(indexAge , inplace=True)\n",
    "\n",
    "indexAge = data[((df['bw_grams'] < 1900) & (df['underweight'] == 1)) ].index\n",
    "data.drop(indexAge , inplace=True)\n",
    "\n",
    "indexAge = data[((df['bw_grams'] > 3800) & (df['underweight'] == 1)) ].index\n",
    "data.drop(indexAge , inplace=True)"
   ]
  },
  {
   "cell_type": "code",
   "execution_count": 12,
   "id": "28a67766",
   "metadata": {},
   "outputs": [
    {
     "data": {
      "text/plain": [
       "<seaborn.axisgrid.FacetGrid at 0x1a6b8253f70>"
      ]
     },
     "execution_count": 12,
     "metadata": {},
     "output_type": "execute_result"
    },
    {
     "data": {
      "image/png": "[encoded data removed]",
      "text/plain": [
       "<Figure size 360x360 with 1 Axes>"
      ]
     },
     "metadata": {},
     "output_type": "display_data"
    }
   ],
   "source": [
    "sns.catplot(data=df, x=\"underweight\", y=\"psoc_hh\", kind=\"box\") #checking for outliers"
   ]
  },
  {
   "cell_type": "code",
   "execution_count": 13,
   "id": "6cb9643a",
   "metadata": {},
   "outputs": [],
   "source": [
    "indexAge = data[((df['psoc_hh'] < 5) & (df['underweight'] == 0)) ].index\n",
    "data.drop(indexAge , inplace=True)\n",
    "\n",
    "indexAge = data[((df['psoc_hh'] > 80) & (df['underweight'] == 0)) ].index\n",
    "data.drop(indexAge , inplace=True)\n",
    "\n",
    "indexAge = data[((df['psoc_hh'] < 5) & (df['underweight'] == 1)) ].index\n",
    "data.drop(indexAge , inplace=True)\n",
    "\n",
    "indexAge = data[((df['psoc_hh'] > 80) & (df['underweight'] == 1)) ].index\n",
    "data.drop(indexAge , inplace=True)"
   ]
  },
  {
   "cell_type": "code",
   "execution_count": 14,
   "id": "dcd04fb3",
   "metadata": {},
   "outputs": [
    {
     "data": {
      "text/plain": [
       "<seaborn.axisgrid.FacetGrid at 0x1a6b858f0a0>"
      ]
     },
     "execution_count": 14,
     "metadata": {},
     "output_type": "execute_result"
    },
    {
     "data": {
      "image/png": "[encoded data removed]",
      "text/plain": [
       "<Figure size 360x360 with 1 Axes>"
      ]
     },
     "metadata": {},
     "output_type": "display_data"
    }
   ],
   "source": [
    "sns.catplot(data=df, x=\"underweight\", y=\"age_hh\", kind=\"box\") #checking for outliers"
   ]
  },
  {
   "cell_type": "code",
   "execution_count": 15,
   "id": "13dd0f17",
   "metadata": {},
   "outputs": [],
   "source": [
    "indexAge = data[((df['age_hh'] > 85) & (df['underweight'] == 0)) ].index\n",
    "data.drop(indexAge , inplace=True)\n",
    "\n",
    "indexAge = data[((df['age_hh'] > 73) & (df['underweight'] == 1)) ].index\n",
    "data.drop(indexAge , inplace=True)"
   ]
  },
  {
   "cell_type": "code",
   "execution_count": 16,
   "id": "9d999e04",
   "metadata": {},
   "outputs": [
    {
     "data": {
      "text/plain": [
       "<seaborn.axisgrid.FacetGrid at 0x1a6b830cbe0>"
      ]
     },
     "execution_count": 16,
     "metadata": {},
     "output_type": "execute_result"
    },
    {
     "data": {
      "image/png": "[encoded data removed]",
      "text/plain": [
       "<Figure size 360x360 with 1 Axes>"
      ]
     },
     "metadata": {},
     "output_type": "display_data"
    }
   ],
   "source": [
    "sns.catplot(data=df, x=\"underweight\", y=\"hhsize\", kind=\"box\") #checking for outliers"
   ]
  },
  {
   "cell_type": "code",
   "execution_count": 17,
   "id": "a0b9005d",
   "metadata": {},
   "outputs": [],
   "source": [
    "indexAge = data[((df['hhsize'] > 12) & (df['underweight'] == 0)) ].index\n",
    "data.drop(indexAge , inplace=True)\n",
    "\n",
    "indexAge = data[((df['hhsize'] > 13) & (df['underweight'] == 1)) ].index\n",
    "data.drop(indexAge , inplace=True)"
   ]
  },
  {
   "cell_type": "code",
   "execution_count": 18,
   "id": "f7023652",
   "metadata": {},
   "outputs": [
    {
     "data": {
      "text/plain": [
       "<seaborn.axisgrid.FacetGrid at 0x1a6b8532d00>"
      ]
     },
     "execution_count": 18,
     "metadata": {},
     "output_type": "execute_result"
    },
    {
     "data": {
      "image/png": "[encoded data removed]",
      "text/plain": [
       "<Figure size 360x360 with 1 Axes>"
      ]
     },
     "metadata": {},
     "output_type": "display_data"
    }
   ],
   "source": [
    "sns.catplot(data=df, x=\"underweight\", y=\"psccat_mom\", kind=\"box\") #checking for outliers"
   ]
  },
  {
   "cell_type": "code",
   "execution_count": 19,
   "id": "c3b01aaf",
   "metadata": {},
   "outputs": [
    {
     "data": {
      "text/plain": [
       "<seaborn.axisgrid.FacetGrid at 0x1a6b86f4cd0>"
      ]
     },
     "execution_count": 19,
     "metadata": {},
     "output_type": "execute_result"
    },
    {
     "data": {
      "image/png": "[encoded data removed]",
      "text/plain": [
       "<Figure size 360x360 with 1 Axes>"
      ]
     },
     "metadata": {},
     "output_type": "display_data"
    }
   ],
   "source": [
    "sns.catplot(data=df, x=\"underweight\", y=\"drinkingwater\", kind=\"box\") #checking for outliers"
   ]
  },
  {
   "cell_type": "code",
   "execution_count": 20,
   "id": "45258dfc",
   "metadata": {},
   "outputs": [
    {
     "data": {
      "text/plain": [
       "<seaborn.axisgrid.FacetGrid at 0x1a6b86b8d00>"
      ]
     },
     "execution_count": 20,
     "metadata": {},
     "output_type": "execute_result"
    },
    {
     "data": {
      "image/png": "[encoded data removed]",
      "text/plain": [
       "<Figure size 360x360 with 1 Axes>"
      ]
     },
     "metadata": {},
     "output_type": "display_data"
    }
   ],
   "source": [
    "sns.catplot(data=df, x=\"underweight\", y=\"educ_mom\", kind=\"box\") #checking for outliers"
   ]
  },
  {
   "cell_type": "code",
   "execution_count": 21,
   "id": "cb1c64c5",
   "metadata": {},
   "outputs": [],
   "source": [
    "indexAge = data[((df['educ_mom'] < 0) & (df['underweight'] == 0)) ].index\n",
    "data.drop(indexAge , inplace=True)\n",
    "\n",
    "indexAge = data[((df['educ_mom'] > 4) & (df['underweight'] == 1)) ].index\n",
    "data.drop(indexAge , inplace=True)"
   ]
  },
  {
   "cell_type": "code",
   "execution_count": 22,
   "id": "0d56d7be",
   "metadata": {},
   "outputs": [
    {
     "name": "stdout",
     "output_type": "stream",
     "text": [
      "0    11429\n",
      "1     3061\n",
      "Name: underweight, dtype: int64\n"
     ]
    },
    {
     "data": {
      "text/plain": [
       "<AxesSubplot:>"
      ]
     },
     "execution_count": 22,
     "metadata": {},
     "output_type": "execute_result"
    },
    {
     "data": {
      "image/png": "[encoded data removed]",
      "text/plain": [
       "<Figure size 432x288 with 1 Axes>"
      ]
     },
     "metadata": {},
     "output_type": "display_data"
    }
   ],
   "source": [
    "##### show the value counts of the calsses in the target\n",
    "#we can find data impalance\n",
    "print(df['underweight'].value_counts())\n",
    "df['underweight'].value_counts().sort_index().plot.bar()"
   ]
  },
  {
   "cell_type": "code",
   "execution_count": 83,
   "id": "782e922a",
   "metadata": {},
   "outputs": [],
   "source": [
    "from sklearn.model_selection import train_test_split\n",
    "from sklearn.ensemble import RandomForestClassifier\n",
    "from sklearn import metrics\n",
    "from sklearn.metrics import accuracy_score\n",
    "from sklearn.metrics import confusion_matrix"
   ]
  },
  {
   "cell_type": "code",
   "execution_count": 84,
   "id": "1a4a8e61",
   "metadata": {},
   "outputs": [],
   "source": [
    "X = df[[\"bw_grams\",\"psoc_hh\",\"age_hh\",\"hhsize\",\n",
    "           \"psccat_mom\"]]\n",
    "y = df[\"underweight\"].to_frame()"
   ]
  },
  {
   "cell_type": "code",
   "execution_count": 85,
   "id": "ee993e37",
   "metadata": {},
   "outputs": [],
   "source": [
    "X_train, x_test, y_train , y_test = train_test_split(X,y, test_size=0.25 , random_state=42)"
   ]
  },
  {
   "cell_type": "code",
   "execution_count": 86,
   "id": "eb8c98f0",
   "metadata": {},
   "outputs": [],
   "source": [
    "from imblearn.over_sampling import RandomOverSampler\n",
    "oversample = RandomOverSampler(sampling_strategy='minority')\n",
    "X = df[[\"bw_grams\",\"psoc_hh\",\"age_hh\",\"hhsize\",\n",
    "           \"psccat_mom\"]]\n",
    "y = df[\"underweight\"]\n",
    "X_over, y_over = oversample.fit_resample(X, y)"
   ]
  },
  {
   "cell_type": "code",
   "execution_count": 87,
   "id": "1ff361fd",
   "metadata": {},
   "outputs": [],
   "source": [
    "# Apply oversampling\n",
    "oversample = SMOTE()\n",
    "X_balanced, y_balanced = oversample.fit_resample(X, y.ravel())"
   ]
  },
  {
   "cell_type": "code",
   "execution_count": 88,
   "id": "3efa382a",
   "metadata": {},
   "outputs": [
    {
     "name": "stdout",
     "output_type": "stream",
     "text": [
      "1    11429\n",
      "0    11429\n",
      "Name: underweight, dtype: int64\n"
     ]
    },
    {
     "data": {
      "text/plain": [
       "<AxesSubplot:>"
      ]
     },
     "execution_count": 88,
     "metadata": {},
     "output_type": "execute_result"
    },
    {
     "data": {
      "image/png": "[encoded data removed]",
      "text/plain": [
       "<Figure size 432x288 with 1 Axes>"
      ]
     },
     "metadata": {},
     "output_type": "display_data"
    }
   ],
   "source": [
    "print(y_over.value_counts())\n",
    "y_over.value_counts().sort_index().plot.bar()"
   ]
  },
  {
   "cell_type": "code",
   "execution_count": 89,
   "id": "2171ac5a",
   "metadata": {},
   "outputs": [],
   "source": [
    "X_train, x_test, y_train , y_test = train_test_split(X_balanced,y_balanced, test_size=0.25 , random_state=42)"
   ]
  },
  {
   "cell_type": "code",
   "execution_count": 90,
   "id": "c47df986",
   "metadata": {},
   "outputs": [],
   "source": [
    "from sklearn.model_selection import train_test_split, RandomizedSearchCV, cross_val_score\n",
    "from sklearn.tree import DecisionTreeClassifier\n",
    "from sklearn.svm import SVC\n",
    "from sklearn.metrics import accuracy_score, confusion_matrix, ConfusionMatrixDisplay\n",
    "import xgboost as xgb\n",
    "from sklearn.metrics import accuracy_score\n",
    "from sklearn.metrics import confusion_matrix\n",
    "from sklearn.metrics import classification_report\n",
    "from sklearn.metrics import precision_score\n",
    "from sklearn.model_selection import cross_validate\n",
    "from sklearn.model_selection import cross_val_predict\n",
    "import scikitplot as skplt"
   ]
  },
  {
   "cell_type": "code",
   "execution_count": 91,
   "id": "1c2ae1eb",
   "metadata": {},
   "outputs": [
    {
     "name": "stdout",
     "output_type": "stream",
     "text": [
      "0.7084609327150232\n",
      "0.7130358705161854\n",
      "Precision: 0.705\n",
      "Recall: 0.737\n",
      "F-measure: 0.721\n",
      "ROC AUC Score: 0.7907510651399783\n"
     ]
    }
   ],
   "source": [
    "xgb = XGBClassifier(eval_metric= 'error', learning_rate= 0.1, random_state=0)\n",
    "xgb.fit(X_balanced, y_balanced)\n",
    "\n",
    "y_pred_train_xgb = xgb.predict(X_balanced)\n",
    "acc_train_xgb = accuracy_score(y_balanced, y_pred_train_xgb)\n",
    "\n",
    "y_pred_test_xgb = xgb.predict(x_test)\n",
    "acc_test_xgb = accuracy_score(y_test, y_pred_test_xgb)\n",
    "\n",
    "print(acc_train_xgb)\n",
    "print(acc_test_xgb)\n",
    "\n",
    "xgb_perc_score = precision_score(y_test, y_pred_test_xgb)\n",
    "xgb_rec_score= recall_score(y_test, y_pred_test_xgb)\n",
    "xgb_f1_score = f1_score(y_test, y_pred_test_xgb)\n",
    "\n",
    "print('Precision: %.3f' %xgb_perc_score )\n",
    "print('Recall: %.3f' % xgb_rec_score)\n",
    "print('F-measure: %.3f' % xgb_f1_score)\n",
    "\n",
    "y_pred_prob_xgb = xgb.predict_proba(x_test)[:, 1]\n",
    "xgb_roc_auc_score = roc_auc_score(y_test, y_pred_prob_xgb)\n",
    "print('ROC AUC Score:', xgb_roc_auc_score)"
   ]
  },
  {
   "cell_type": "code",
   "execution_count": 92,
   "id": "e41db43e",
   "metadata": {},
   "outputs": [
    {
     "data": {
      "image/png": "[encoded data removed]",
      "text/plain": [
       "<Figure size 432x432 with 2 Axes>"
      ]
     },
     "metadata": {},
     "output_type": "display_data"
    }
   ],
   "source": [
    "skplt.metrics.plot_confusion_matrix(y_test, y_pred_test_xgb, figsize=(6,6), cmap= 'YlGnBu');"
   ]
  },
  {
   "cell_type": "code",
   "execution_count": 93,
   "id": "4115a152",
   "metadata": {},
   "outputs": [
    {
     "data": {
      "image/png": "[encoded data removed]",
      "text/plain": [
       "<Figure size 576x576 with 1 Axes>"
      ]
     },
     "metadata": {},
     "output_type": "display_data"
    }
   ],
   "source": [
    "false_positive_rate, true_positive_rate, thresholds = roc_curve(y_test, y_pred_prob_xgb)\n",
    "roc_auc = auc(false_positive_rate, true_positive_rate)\n",
    "\n",
    "sns.set_theme(style = 'white')\n",
    "plt.figure(figsize = (8, 8))\n",
    "plt.plot(false_positive_rate,true_positive_rate, color = '#b01717', label = 'AUC = %0.3f' % roc_auc)\n",
    "plt.legend(loc = 'lower right')\n",
    "plt.plot([0, 1], [0, 1], linestyle = '--', color = '#174ab0')\n",
    "plt.axis('tight')\n",
    "plt.ylabel('True Positive Rate')\n",
    "plt.xlabel('False Positive Rate')\n",
    "plt.legend()\n",
    "plt.show()"
   ]
  },
  {
   "cell_type": "code",
   "execution_count": 94,
   "id": "7e4de8a0",
   "metadata": {},
   "outputs": [
    {
     "name": "stdout",
     "output_type": "stream",
     "text": [
      "0.955507918453058\n",
      "0.9595800524934384\n",
      "Precision: 0.965\n",
      "Recall: 0.954\n",
      "F-measure: 0.960\n",
      "ROC AUC Score: 0.973652390337244\n"
     ]
    }
   ],
   "source": [
    "svc = SVC(C=10, gamma=1000 ,probability= True)\n",
    "svc.fit(X_balanced, y_balanced)\n",
    "\n",
    "y_pred_train_svc = svc.predict(X_balanced)\n",
    "acc_train_svc = accuracy_score(y_balanced, y_pred_train_svc)\n",
    "\n",
    "y_pred_test_svc = svc.predict(x_test)\n",
    "acc_test_svc = accuracy_score(y_test, y_pred_test_svc)\n",
    "\n",
    "print(acc_train_svc)\n",
    "print(acc_test_svc)\n",
    "\n",
    "svc_perc_score = precision_score(y_test, y_pred_test_svc)\n",
    "svc_rec_score= recall_score(y_test, y_pred_test_svc)\n",
    "svc_f1_score = f1_score(y_test, y_pred_test_svc)\n",
    "\n",
    "print('Precision: %.3f' % svc_perc_score)\n",
    "print('Recall: %.3f' % svc_rec_score)\n",
    "print('F-measure: %.3f' % svc_f1_score)\n",
    "\n",
    "y_pred_prob_svc = svc.predict_proba(x_test)[:, 1]\n",
    "svc_roc_auc_score=  roc_auc_score(y_test, y_pred_prob_svc)\n",
    "print('ROC AUC Score:', svc_roc_auc_score)"
   ]
  },
  {
   "cell_type": "code",
   "execution_count": 95,
   "id": "357a1991",
   "metadata": {},
   "outputs": [
    {
     "data": {
      "text/html": [
       "<div>\n",
       "<style scoped>\n",
       "    .dataframe tbody tr th:only-of-type {\n",
       "        vertical-align: middle;\n",
       "    }\n",
       "\n",
       "    .dataframe tbody tr th {\n",
       "        vertical-align: top;\n",
       "    }\n",
       "\n",
       "    .dataframe thead th {\n",
       "        text-align: right;\n",
       "    }\n",
       "</style>\n",
       "<table border=\"1\" class=\"dataframe\">\n",
       "  <thead>\n",
       "    <tr style=\"text-align: right;\">\n",
       "      <th></th>\n",
       "      <th>bw_grams</th>\n",
       "      <th>psoc_hh</th>\n",
       "      <th>age_hh</th>\n",
       "      <th>hhsize</th>\n",
       "      <th>psccat_mom</th>\n",
       "    </tr>\n",
       "  </thead>\n",
       "  <tbody>\n",
       "    <tr>\n",
       "      <th>5505</th>\n",
       "      <td>3000</td>\n",
       "      <td>1</td>\n",
       "      <td>25</td>\n",
       "      <td>4</td>\n",
       "      <td>0</td>\n",
       "    </tr>\n",
       "    <tr>\n",
       "      <th>15602</th>\n",
       "      <td>3300</td>\n",
       "      <td>9</td>\n",
       "      <td>32</td>\n",
       "      <td>4</td>\n",
       "      <td>0</td>\n",
       "    </tr>\n",
       "    <tr>\n",
       "      <th>11233</th>\n",
       "      <td>2733</td>\n",
       "      <td>9</td>\n",
       "      <td>27</td>\n",
       "      <td>5</td>\n",
       "      <td>0</td>\n",
       "    </tr>\n",
       "    <tr>\n",
       "      <th>13916</th>\n",
       "      <td>3100</td>\n",
       "      <td>8</td>\n",
       "      <td>33</td>\n",
       "      <td>5</td>\n",
       "      <td>0</td>\n",
       "    </tr>\n",
       "    <tr>\n",
       "      <th>18536</th>\n",
       "      <td>2400</td>\n",
       "      <td>8</td>\n",
       "      <td>35</td>\n",
       "      <td>7</td>\n",
       "      <td>0</td>\n",
       "    </tr>\n",
       "  </tbody>\n",
       "</table>\n",
       "</div>"
      ],
      "text/plain": [
       "       bw_grams  psoc_hh  age_hh  hhsize  psccat_mom\n",
       "5505       3000        1      25       4           0\n",
       "15602      3300        9      32       4           0\n",
       "11233      2733        9      27       5           0\n",
       "13916      3100        8      33       5           0\n",
       "18536      2400        8      35       7           0"
      ]
     },
     "execution_count": 95,
     "metadata": {},
     "output_type": "execute_result"
    }
   ],
   "source": [
    "x_test.head()"
   ]
  },
  {
   "cell_type": "code",
   "execution_count": 96,
   "id": "1c2ac52b",
   "metadata": {},
   "outputs": [
    {
     "data": {
      "image/png": "[encoded data removed]",
      "text/plain": [
       "<Figure size 432x432 with 2 Axes>"
      ]
     },
     "metadata": {},
     "output_type": "display_data"
    }
   ],
   "source": [
    "skplt.metrics.plot_confusion_matrix(y_test, y_pred_test_svc, figsize=(6,6), cmap= 'YlGnBu');"
   ]
  },
  {
   "cell_type": "code",
   "execution_count": 97,
   "id": "eeece201",
   "metadata": {},
   "outputs": [
    {
     "data": {
      "image/png": "[encoded data removed]",
      "text/plain": [
       "<Figure size 576x576 with 1 Axes>"
      ]
     },
     "metadata": {},
     "output_type": "display_data"
    }
   ],
   "source": [
    "false_positive_rate, true_positive_rate, thresholds = roc_curve(y_test, y_pred_prob_svc)\n",
    "roc_auc = auc(false_positive_rate, true_positive_rate)\n",
    "\n",
    "sns.set_theme(style = 'white')\n",
    "plt.figure(figsize = (8, 8))\n",
    "plt.plot(false_positive_rate,true_positive_rate, color = '#b01717', label = 'AUC = %0.3f' % roc_auc)\n",
    "plt.legend(loc = 'lower right')\n",
    "plt.plot([0, 1], [0, 1], linestyle = '--', color = '#174ab0')\n",
    "plt.axis('tight')\n",
    "plt.ylabel('True Positive Rate')\n",
    "plt.xlabel('False Positive Rate')\n",
    "plt.legend()\n",
    "plt.show()"
   ]
  },
  {
   "cell_type": "markdown",
   "id": "cb8eb55b",
   "metadata": {},
   "source": [
    "# DECISION TREE MODEL"
   ]
  },
  {
   "cell_type": "code",
   "execution_count": 98,
   "id": "550c623c",
   "metadata": {},
   "outputs": [
    {
     "name": "stdout",
     "output_type": "stream",
     "text": [
      "0.7190480356986613\n",
      "0.7247594050743658\n",
      "Precision: 0.704\n",
      "Recall: 0.780\n",
      "F-measure: 0.740\n",
      "ROC AUC Score: 0.8105374149859819\n"
     ]
    }
   ],
   "source": [
    "dt =DecisionTreeClassifier(max_features=5 , max_depth=12,criterion = 'entropy', random_state=0)\n",
    "dt.fit(X_balanced, y_balanced)\n",
    "\n",
    "y_pred_train_dt = dt.predict(X_balanced)\n",
    "acc_train_dt = accuracy_score(y_balanced, y_pred_train_dt)\n",
    "\n",
    "y_pred_test_dt = dt.predict(x_test)\n",
    "acc_test_dt = accuracy_score(y_test, y_pred_test_dt)\n",
    "print(acc_train_dt)\n",
    "print(acc_test_dt)\n",
    "\n",
    "dt_perc_score = precision_score(y_test, y_pred_test_dt)\n",
    "dt_rec_score= recall_score(y_test, y_pred_test_dt)\n",
    "dt_f1_score = f1_score(y_test, y_pred_test_dt)\n",
    "\n",
    "print('Precision: %.3f' % dt_perc_score)\n",
    "print('Recall: %.3f' % dt_rec_score)\n",
    "print('F-measure: %.3f' % dt_f1_score)\n",
    "\n",
    "y_pred_prob_dt = dt.predict_proba(x_test)[:, 1]\n",
    "dt_roc_auc_score = roc_auc_score(y_test, y_pred_prob_dt)\n",
    "print('ROC AUC Score:', dt_roc_auc_score)"
   ]
  },
  {
   "cell_type": "code",
   "execution_count": 99,
   "id": "70a63086",
   "metadata": {},
   "outputs": [
    {
     "data": {
      "text/plain": [
       "<AxesSubplot:title={'center':'Confusion Matrix'}, xlabel='Predicted label', ylabel='True label'>"
      ]
     },
     "execution_count": 99,
     "metadata": {},
     "output_type": "execute_result"
    },
    {
     "data": {
      "image/png": "[encoded data removed]",
      "text/plain": [
       "<Figure size 432x432 with 2 Axes>"
      ]
     },
     "metadata": {},
     "output_type": "display_data"
    }
   ],
   "source": [
    "skplt.metrics.plot_confusion_matrix(y_test, y_pred_test_dt, figsize=(6,6), cmap= 'YlGnBu')"
   ]
  },
  {
   "cell_type": "markdown",
   "id": "74a4b95d",
   "metadata": {},
   "source": [
    "# RANDOM FOREST CLASSIFIER"
   ]
  },
  {
   "cell_type": "code",
   "execution_count": 100,
   "id": "7aa15e0c",
   "metadata": {},
   "outputs": [
    {
     "data": {
      "text/html": [
       "<style>#sk-container-id-3 {color: black;background-color: white;}#sk-container-id-3 pre{padding: 0;}#sk-container-id-3 div.sk-toggleable {background-color: white;}#sk-container-id-3 label.sk-toggleable__label {cursor: pointer;display: block;width: 100%;margin-bottom: 0;padding: 0.3em;box-sizing: border-box;text-align: center;}#sk-container-id-3 label.sk-toggleable__label-arrow:before {content: \"▸\";float: left;margin-right: 0.25em;color: #696969;}#sk-container-id-3 label.sk-toggleable__label-arrow:hover:before {color: black;}#sk-container-id-3 div.sk-estimator:hover label.sk-toggleable__label-arrow:before {color: black;}#sk-container-id-3 div.sk-toggleable__content {max-height: 0;max-width: 0;overflow: hidden;text-align: left;background-color: #f0f8ff;}#sk-container-id-3 div.sk-toggleable__content pre {margin: 0.2em;color: black;border-radius: 0.25em;background-color: #f0f8ff;}#sk-container-id-3 input.sk-toggleable__control:checked~div.sk-toggleable__content {max-height: 200px;max-width: 100%;overflow: auto;}#sk-container-id-3 input.sk-toggleable__control:checked~label.sk-toggleable__label-arrow:before {content: \"▾\";}#sk-container-id-3 div.sk-estimator input.sk-toggleable__control:checked~label.sk-toggleable__label {background-color: #d4ebff;}#sk-container-id-3 div.sk-label input.sk-toggleable__control:checked~label.sk-toggleable__label {background-color: #d4ebff;}#sk-container-id-3 input.sk-hidden--visually {border: 0;clip: rect(1px 1px 1px 1px);clip: rect(1px, 1px, 1px, 1px);height: 1px;margin: -1px;overflow: hidden;padding: 0;position: absolute;width: 1px;}#sk-container-id-3 div.sk-estimator {font-family: monospace;background-color: #f0f8ff;border: 1px dotted black;border-radius: 0.25em;box-sizing: border-box;margin-bottom: 0.5em;}#sk-container-id-3 div.sk-estimator:hover {background-color: #d4ebff;}#sk-container-id-3 div.sk-parallel-item::after {content: \"\";width: 100%;border-bottom: 1px solid gray;flex-grow: 1;}#sk-container-id-3 div.sk-label:hover label.sk-toggleable__label {background-color: #d4ebff;}#sk-container-id-3 div.sk-serial::before {content: \"\";position: absolute;border-left: 1px solid gray;box-sizing: border-box;top: 0;bottom: 0;left: 50%;z-index: 0;}#sk-container-id-3 div.sk-serial {display: flex;flex-direction: column;align-items: center;background-color: white;padding-right: 0.2em;padding-left: 0.2em;position: relative;}#sk-container-id-3 div.sk-item {position: relative;z-index: 1;}#sk-container-id-3 div.sk-parallel {display: flex;align-items: stretch;justify-content: center;background-color: white;position: relative;}#sk-container-id-3 div.sk-item::before, #sk-container-id-3 div.sk-parallel-item::before {content: \"\";position: absolute;border-left: 1px solid gray;box-sizing: border-box;top: 0;bottom: 0;left: 50%;z-index: -1;}#sk-container-id-3 div.sk-parallel-item {display: flex;flex-direction: column;z-index: 1;position: relative;background-color: white;}#sk-container-id-3 div.sk-parallel-item:first-child::after {align-self: flex-end;width: 50%;}#sk-container-id-3 div.sk-parallel-item:last-child::after {align-self: flex-start;width: 50%;}#sk-container-id-3 div.sk-parallel-item:only-child::after {width: 0;}#sk-container-id-3 div.sk-dashed-wrapped {border: 1px dashed gray;margin: 0 0.4em 0.5em 0.4em;box-sizing: border-box;padding-bottom: 0.4em;background-color: white;}#sk-container-id-3 div.sk-label label {font-family: monospace;font-weight: bold;display: inline-block;line-height: 1.2em;}#sk-container-id-3 div.sk-label-container {text-align: center;}#sk-container-id-3 div.sk-container {/* jupyter's `normalize.less` sets `[hidden] { display: none; }` but bootstrap.min.css set `[hidden] { display: none !important; }` so we also need the `!important` here to be able to override the default hidden behavior on the sphinx rendered scikit-learn.org. See: https://github.com/scikit-learn/scikit-learn/issues/21755 */display: inline-block !important;position: relative;}#sk-container-id-3 div.sk-text-repr-fallback {display: none;}</style><div id=\"sk-container-id-3\" class=\"sk-top-container\"><div class=\"sk-text-repr-fallback\"><pre>RandomForestClassifier(criterion=&#x27;entropy&#x27;, random_state=0)</pre><b>In a Jupyter environment, please rerun this cell to show the HTML representation or trust the notebook. <br />On GitHub, the HTML representation is unable to render, please try loading this page with nbviewer.org.</b></div><div class=\"sk-container\" hidden><div class=\"sk-item\"><div class=\"sk-estimator sk-toggleable\"><input class=\"sk-toggleable__control sk-hidden--visually\" id=\"sk-estimator-id-3\" type=\"checkbox\" checked><label for=\"sk-estimator-id-3\" class=\"sk-toggleable__label sk-toggleable__label-arrow\">RandomForestClassifier</label><div class=\"sk-toggleable__content\"><pre>RandomForestClassifier(criterion=&#x27;entropy&#x27;, random_state=0)</pre></div></div></div></div></div>"
      ],
      "text/plain": [
       "RandomForestClassifier(criterion='entropy', random_state=0)"
      ]
     },
     "execution_count": 100,
     "metadata": {},
     "output_type": "execute_result"
    }
   ],
   "source": [
    "rf = RandomForestClassifier(n_estimators = 100, criterion= 'entropy', random_state = 0)\n",
    "rf.fit(X_balanced,y_balanced)"
   ]
  },
  {
   "cell_type": "code",
   "execution_count": 101,
   "id": "1f0a7bdc",
   "metadata": {},
   "outputs": [
    {
     "data": {
      "text/html": [
       "<div>\n",
       "<style scoped>\n",
       "    .dataframe tbody tr th:only-of-type {\n",
       "        vertical-align: middle;\n",
       "    }\n",
       "\n",
       "    .dataframe tbody tr th {\n",
       "        vertical-align: top;\n",
       "    }\n",
       "\n",
       "    .dataframe thead th {\n",
       "        text-align: right;\n",
       "    }\n",
       "</style>\n",
       "<table border=\"1\" class=\"dataframe\">\n",
       "  <thead>\n",
       "    <tr style=\"text-align: right;\">\n",
       "      <th></th>\n",
       "      <th>bw_grams</th>\n",
       "      <th>psoc_hh</th>\n",
       "      <th>age_hh</th>\n",
       "      <th>hhsize</th>\n",
       "      <th>psccat_mom</th>\n",
       "    </tr>\n",
       "  </thead>\n",
       "  <tbody>\n",
       "    <tr>\n",
       "      <th>0</th>\n",
       "      <td>2400</td>\n",
       "      <td>6</td>\n",
       "      <td>37</td>\n",
       "      <td>5</td>\n",
       "      <td>0</td>\n",
       "    </tr>\n",
       "    <tr>\n",
       "      <th>1</th>\n",
       "      <td>2500</td>\n",
       "      <td>99</td>\n",
       "      <td>54</td>\n",
       "      <td>10</td>\n",
       "      <td>2</td>\n",
       "    </tr>\n",
       "    <tr>\n",
       "      <th>2</th>\n",
       "      <td>2500</td>\n",
       "      <td>6</td>\n",
       "      <td>38</td>\n",
       "      <td>5</td>\n",
       "      <td>0</td>\n",
       "    </tr>\n",
       "    <tr>\n",
       "      <th>3</th>\n",
       "      <td>3200</td>\n",
       "      <td>6</td>\n",
       "      <td>36</td>\n",
       "      <td>7</td>\n",
       "      <td>0</td>\n",
       "    </tr>\n",
       "    <tr>\n",
       "      <th>4</th>\n",
       "      <td>2800</td>\n",
       "      <td>8</td>\n",
       "      <td>44</td>\n",
       "      <td>8</td>\n",
       "      <td>0</td>\n",
       "    </tr>\n",
       "  </tbody>\n",
       "</table>\n",
       "</div>"
      ],
      "text/plain": [
       "   bw_grams  psoc_hh  age_hh  hhsize  psccat_mom\n",
       "0      2400        6      37       5           0\n",
       "1      2500       99      54      10           2\n",
       "2      2500        6      38       5           0\n",
       "3      3200        6      36       7           0\n",
       "4      2800        8      44       8           0"
      ]
     },
     "execution_count": 101,
     "metadata": {},
     "output_type": "execute_result"
    }
   ],
   "source": [
    "X_balanced.head()"
   ]
  },
  {
   "cell_type": "code",
   "execution_count": 102,
   "id": "233d22da",
   "metadata": {},
   "outputs": [
    {
     "data": {
      "text/plain": [
       "array([1, 0, 1, ..., 1, 1, 1], dtype=int64)"
      ]
     },
     "execution_count": 102,
     "metadata": {},
     "output_type": "execute_result"
    }
   ],
   "source": [
    "y_balanced"
   ]
  },
  {
   "cell_type": "code",
   "execution_count": 103,
   "id": "f62f1208",
   "metadata": {},
   "outputs": [
    {
     "name": "stdout",
     "output_type": "stream",
     "text": [
      "0.955507918453058\n",
      "0.9602799650043744\n"
     ]
    }
   ],
   "source": [
    "y_pred_train_rf = rf.predict(X_balanced)\n",
    "acc_train_rf = accuracy_score(y_balanced, y_pred_train_rf)\n",
    "\n",
    "y_pred_test_rf = rf.predict(x_test)\n",
    "acc_test_rf = accuracy_score(y_test, y_pred_test_rf)\n",
    "print(acc_train_rf)\n",
    "print(acc_test_rf)"
   ]
  },
  {
   "cell_type": "code",
   "execution_count": 104,
   "id": "865ad653",
   "metadata": {},
   "outputs": [
    {
     "name": "stdout",
     "output_type": "stream",
     "text": [
      "ROC AUC Score: 0.9934478643557648\n"
     ]
    }
   ],
   "source": [
    "y_pred_prob_rf = rf.predict_proba(x_test)[:, 1]\n",
    "rf_roc_auc_score = roc_auc_score(y_test, y_pred_prob_rf)\n",
    "print('ROC AUC Score:', rf_roc_auc_score)"
   ]
  },
  {
   "cell_type": "code",
   "execution_count": 105,
   "id": "8990f16a",
   "metadata": {},
   "outputs": [
    {
     "name": "stdout",
     "output_type": "stream",
     "text": [
      "Precision: 0.949\n",
      "Recall: 0.973\n",
      "F-measure: 0.961\n"
     ]
    }
   ],
   "source": [
    "rf_perc_score = precision_score(y_test, y_pred_test_rf)\n",
    "rf_rec_score= recall_score(y_test, y_pred_test_rf)\n",
    "rf_f1_score = f1_score(y_test, y_pred_test_rf)\n",
    "\n",
    "print('Precision: %.3f' %rf_perc_score )\n",
    "print('Recall: %.3f' % rf_rec_score)\n",
    "print('F-measure: %.3f' % rf_f1_score)"
   ]
  },
  {
   "cell_type": "code",
   "execution_count": 106,
   "id": "eca2f1f6",
   "metadata": {},
   "outputs": [
    {
     "data": {
      "text/plain": [
       "<AxesSubplot:title={'center':'Confusion Matrix'}, xlabel='Predicted label', ylabel='True label'>"
      ]
     },
     "execution_count": 106,
     "metadata": {},
     "output_type": "execute_result"
    },
    {
     "data": {
      "image/png": "[encoded data removed]",
      "text/plain": [
       "<Figure size 432x432 with 2 Axes>"
      ]
     },
     "metadata": {},
     "output_type": "display_data"
    }
   ],
   "source": [
    "skplt.metrics.plot_confusion_matrix(y_test, y_pred_test_rf, figsize=(6,6), cmap= 'YlGnBu')"
   ]
  },
  {
   "cell_type": "code",
   "execution_count": 107,
   "id": "74e43716",
   "metadata": {},
   "outputs": [
    {
     "data": {
      "image/png": "[encoded data removed]",
      "text/plain": [
       "<Figure size 864x576 with 1 Axes>"
      ]
     },
     "metadata": {},
     "output_type": "display_data"
    }
   ],
   "source": [
    "Performance = pd.DataFrame(\n",
    "    data = {\n",
    "        'Model_after_resamppling': ['Random Forest','Decision Tree','XGBoost','SVClassifier'],\n",
    "        'Score': [acc_test_rf, acc_test_dt, acc_test_xgb, acc_test_svc],\n",
    "        \n",
    "        'ROC_AUC_Score': [rf_roc_auc_score, dt_roc_auc_score, xgb_roc_auc_score, svc_roc_auc_score]\n",
    "    }\n",
    ")\n",
    "\n",
    "plt.figure(figsize=(12, 8))\n",
    "ax = sns.barplot(x=\"Model_after_resamppling\", y=\"ROC_AUC_Score\", data= Performance, palette=\"YlOrBr\")\n",
    "ax.bar_label(ax.containers[0])\n",
    "plt.title('Performance analysis of different classifiers',fontsize=20)\n",
    "plt.show()"
   ]
  },
  {
   "cell_type": "code",
   "execution_count": 108,
   "id": "a622d902",
   "metadata": {},
   "outputs": [
    {
     "data": {
      "text/html": [
       "<div>\n",
       "<style scoped>\n",
       "    .dataframe tbody tr th:only-of-type {\n",
       "        vertical-align: middle;\n",
       "    }\n",
       "\n",
       "    .dataframe tbody tr th {\n",
       "        vertical-align: top;\n",
       "    }\n",
       "\n",
       "    .dataframe thead th {\n",
       "        text-align: right;\n",
       "    }\n",
       "</style>\n",
       "<table border=\"1\" class=\"dataframe\">\n",
       "  <thead>\n",
       "    <tr style=\"text-align: right;\">\n",
       "      <th></th>\n",
       "      <th>Model_after_resamppling</th>\n",
       "      <th>Score</th>\n",
       "      <th>ROC_AUC_Score</th>\n",
       "    </tr>\n",
       "  </thead>\n",
       "  <tbody>\n",
       "    <tr>\n",
       "      <th>0</th>\n",
       "      <td>Random Forest</td>\n",
       "      <td>0.960280</td>\n",
       "      <td>0.993448</td>\n",
       "    </tr>\n",
       "    <tr>\n",
       "      <th>3</th>\n",
       "      <td>SVClassifier</td>\n",
       "      <td>0.959580</td>\n",
       "      <td>0.973652</td>\n",
       "    </tr>\n",
       "    <tr>\n",
       "      <th>1</th>\n",
       "      <td>Decision Tree</td>\n",
       "      <td>0.724759</td>\n",
       "      <td>0.810537</td>\n",
       "    </tr>\n",
       "    <tr>\n",
       "      <th>2</th>\n",
       "      <td>XGBoost</td>\n",
       "      <td>0.713036</td>\n",
       "      <td>0.790751</td>\n",
       "    </tr>\n",
       "  </tbody>\n",
       "</table>\n",
       "</div>"
      ],
      "text/plain": [
       "  Model_after_resamppling     Score  ROC_AUC_Score\n",
       "0           Random Forest  0.960280       0.993448\n",
       "3            SVClassifier  0.959580       0.973652\n",
       "1           Decision Tree  0.724759       0.810537\n",
       "2                 XGBoost  0.713036       0.790751"
      ]
     },
     "execution_count": 108,
     "metadata": {},
     "output_type": "execute_result"
    }
   ],
   "source": [
    "Performance.sort_values('ROC_AUC_Score',ascending=False)"
   ]
  },
  {
   "cell_type": "code",
   "execution_count": 109,
   "id": "57c1f5a5",
   "metadata": {},
   "outputs": [
    {
     "data": {
      "text/html": [
       "<div>\n",
       "<style scoped>\n",
       "    .dataframe tbody tr th:only-of-type {\n",
       "        vertical-align: middle;\n",
       "    }\n",
       "\n",
       "    .dataframe tbody tr th {\n",
       "        vertical-align: top;\n",
       "    }\n",
       "\n",
       "    .dataframe thead th {\n",
       "        text-align: right;\n",
       "    }\n",
       "</style>\n",
       "<table border=\"1\" class=\"dataframe\">\n",
       "  <thead>\n",
       "    <tr style=\"text-align: right;\">\n",
       "      <th></th>\n",
       "      <th>bw_grams</th>\n",
       "      <th>psoc_hh</th>\n",
       "      <th>age_hh</th>\n",
       "      <th>hhsize</th>\n",
       "      <th>psccat_mom</th>\n",
       "    </tr>\n",
       "  </thead>\n",
       "  <tbody>\n",
       "    <tr>\n",
       "      <th>11732</th>\n",
       "      <td>2900</td>\n",
       "      <td>99</td>\n",
       "      <td>50</td>\n",
       "      <td>9</td>\n",
       "      <td>0</td>\n",
       "    </tr>\n",
       "    <tr>\n",
       "      <th>18303</th>\n",
       "      <td>3268</td>\n",
       "      <td>99</td>\n",
       "      <td>57</td>\n",
       "      <td>11</td>\n",
       "      <td>0</td>\n",
       "    </tr>\n",
       "    <tr>\n",
       "      <th>285</th>\n",
       "      <td>2600</td>\n",
       "      <td>9</td>\n",
       "      <td>27</td>\n",
       "      <td>4</td>\n",
       "      <td>0</td>\n",
       "    </tr>\n",
       "    <tr>\n",
       "      <th>20821</th>\n",
       "      <td>2900</td>\n",
       "      <td>99</td>\n",
       "      <td>51</td>\n",
       "      <td>9</td>\n",
       "      <td>0</td>\n",
       "    </tr>\n",
       "    <tr>\n",
       "      <th>7442</th>\n",
       "      <td>3200</td>\n",
       "      <td>99</td>\n",
       "      <td>91</td>\n",
       "      <td>9</td>\n",
       "      <td>2</td>\n",
       "    </tr>\n",
       "    <tr>\n",
       "      <th>...</th>\n",
       "      <td>...</td>\n",
       "      <td>...</td>\n",
       "      <td>...</td>\n",
       "      <td>...</td>\n",
       "      <td>...</td>\n",
       "    </tr>\n",
       "    <tr>\n",
       "      <th>11964</th>\n",
       "      <td>2300</td>\n",
       "      <td>9</td>\n",
       "      <td>35</td>\n",
       "      <td>6</td>\n",
       "      <td>0</td>\n",
       "    </tr>\n",
       "    <tr>\n",
       "      <th>21575</th>\n",
       "      <td>2100</td>\n",
       "      <td>6</td>\n",
       "      <td>45</td>\n",
       "      <td>9</td>\n",
       "      <td>1</td>\n",
       "    </tr>\n",
       "    <tr>\n",
       "      <th>5390</th>\n",
       "      <td>2100</td>\n",
       "      <td>8</td>\n",
       "      <td>48</td>\n",
       "      <td>5</td>\n",
       "      <td>0</td>\n",
       "    </tr>\n",
       "    <tr>\n",
       "      <th>860</th>\n",
       "      <td>3300</td>\n",
       "      <td>8</td>\n",
       "      <td>41</td>\n",
       "      <td>5</td>\n",
       "      <td>0</td>\n",
       "    </tr>\n",
       "    <tr>\n",
       "      <th>15795</th>\n",
       "      <td>3800</td>\n",
       "      <td>6</td>\n",
       "      <td>32</td>\n",
       "      <td>5</td>\n",
       "      <td>0</td>\n",
       "    </tr>\n",
       "  </tbody>\n",
       "</table>\n",
       "<p>17143 rows × 5 columns</p>\n",
       "</div>"
      ],
      "text/plain": [
       "       bw_grams  psoc_hh  age_hh  hhsize  psccat_mom\n",
       "11732      2900       99      50       9           0\n",
       "18303      3268       99      57      11           0\n",
       "285        2600        9      27       4           0\n",
       "20821      2900       99      51       9           0\n",
       "7442       3200       99      91       9           2\n",
       "...         ...      ...     ...     ...         ...\n",
       "11964      2300        9      35       6           0\n",
       "21575      2100        6      45       9           1\n",
       "5390       2100        8      48       5           0\n",
       "860        3300        8      41       5           0\n",
       "15795      3800        6      32       5           0\n",
       "\n",
       "[17143 rows x 5 columns]"
      ]
     },
     "execution_count": 109,
     "metadata": {},
     "output_type": "execute_result"
    }
   ],
   "source": [
    "X_train"
   ]
  },
  {
   "cell_type": "code",
   "execution_count": 117,
   "id": "cde9cbc6",
   "metadata": {},
   "outputs": [
    {
     "data": {
      "text/html": [
       "<div>\n",
       "<style scoped>\n",
       "    .dataframe tbody tr th:only-of-type {\n",
       "        vertical-align: middle;\n",
       "    }\n",
       "\n",
       "    .dataframe tbody tr th {\n",
       "        vertical-align: top;\n",
       "    }\n",
       "\n",
       "    .dataframe thead th {\n",
       "        text-align: right;\n",
       "    }\n",
       "</style>\n",
       "<table border=\"1\" class=\"dataframe\">\n",
       "  <thead>\n",
       "    <tr style=\"text-align: right;\">\n",
       "      <th></th>\n",
       "      <th>bw_grams</th>\n",
       "      <th>psoc_hh</th>\n",
       "      <th>age_hh</th>\n",
       "      <th>hhsize</th>\n",
       "      <th>psccat_mom</th>\n",
       "    </tr>\n",
       "  </thead>\n",
       "  <tbody>\n",
       "    <tr>\n",
       "      <th>5505</th>\n",
       "      <td>3000</td>\n",
       "      <td>1</td>\n",
       "      <td>25</td>\n",
       "      <td>4</td>\n",
       "      <td>0</td>\n",
       "    </tr>\n",
       "    <tr>\n",
       "      <th>15602</th>\n",
       "      <td>3300</td>\n",
       "      <td>9</td>\n",
       "      <td>32</td>\n",
       "      <td>4</td>\n",
       "      <td>0</td>\n",
       "    </tr>\n",
       "    <tr>\n",
       "      <th>11233</th>\n",
       "      <td>2733</td>\n",
       "      <td>9</td>\n",
       "      <td>27</td>\n",
       "      <td>5</td>\n",
       "      <td>0</td>\n",
       "    </tr>\n",
       "    <tr>\n",
       "      <th>13916</th>\n",
       "      <td>3100</td>\n",
       "      <td>8</td>\n",
       "      <td>33</td>\n",
       "      <td>5</td>\n",
       "      <td>0</td>\n",
       "    </tr>\n",
       "    <tr>\n",
       "      <th>18536</th>\n",
       "      <td>2400</td>\n",
       "      <td>8</td>\n",
       "      <td>35</td>\n",
       "      <td>7</td>\n",
       "      <td>0</td>\n",
       "    </tr>\n",
       "    <tr>\n",
       "      <th>20273</th>\n",
       "      <td>2410</td>\n",
       "      <td>99</td>\n",
       "      <td>49</td>\n",
       "      <td>7</td>\n",
       "      <td>0</td>\n",
       "    </tr>\n",
       "    <tr>\n",
       "      <th>22574</th>\n",
       "      <td>2800</td>\n",
       "      <td>6</td>\n",
       "      <td>34</td>\n",
       "      <td>6</td>\n",
       "      <td>0</td>\n",
       "    </tr>\n",
       "    <tr>\n",
       "      <th>7969</th>\n",
       "      <td>3300</td>\n",
       "      <td>8</td>\n",
       "      <td>35</td>\n",
       "      <td>4</td>\n",
       "      <td>1</td>\n",
       "    </tr>\n",
       "    <tr>\n",
       "      <th>1063</th>\n",
       "      <td>3400</td>\n",
       "      <td>99</td>\n",
       "      <td>34</td>\n",
       "      <td>5</td>\n",
       "      <td>0</td>\n",
       "    </tr>\n",
       "    <tr>\n",
       "      <th>7650</th>\n",
       "      <td>3750</td>\n",
       "      <td>8</td>\n",
       "      <td>50</td>\n",
       "      <td>7</td>\n",
       "      <td>0</td>\n",
       "    </tr>\n",
       "  </tbody>\n",
       "</table>\n",
       "</div>"
      ],
      "text/plain": [
       "       bw_grams  psoc_hh  age_hh  hhsize  psccat_mom\n",
       "5505       3000        1      25       4           0\n",
       "15602      3300        9      32       4           0\n",
       "11233      2733        9      27       5           0\n",
       "13916      3100        8      33       5           0\n",
       "18536      2400        8      35       7           0\n",
       "20273      2410       99      49       7           0\n",
       "22574      2800        6      34       6           0\n",
       "7969       3300        8      35       4           1\n",
       "1063       3400       99      34       5           0\n",
       "7650       3750        8      50       7           0"
      ]
     },
     "execution_count": 117,
     "metadata": {},
     "output_type": "execute_result"
    }
   ],
   "source": [
    "x_test.head(10)"
   ]
  },
  {
   "cell_type": "code",
   "execution_count": 122,
   "id": "81e6aa22",
   "metadata": {},
   "outputs": [
    {
     "data": {
      "text/plain": [
       "array([0, 1, 1, ..., 1, 1, 1], dtype=int64)"
      ]
     },
     "execution_count": 122,
     "metadata": {},
     "output_type": "execute_result"
    }
   ],
   "source": [
    "y_test"
   ]
  },
  {
   "cell_type": "code",
   "execution_count": 125,
   "id": "67f8b748",
   "metadata": {},
   "outputs": [
    {
     "data": {
      "text/plain": [
       "array([1], dtype=int64)"
      ]
     },
     "execution_count": 125,
     "metadata": {},
     "output_type": "execute_result"
    }
   ],
   "source": [
    " rf.predict([[2733,9,27,5,0]])"
   ]
  },
  {
   "cell_type": "code",
   "execution_count": 120,
   "id": "7f83d86c",
   "metadata": {},
   "outputs": [],
   "source": [
    "import pandas as pd\n",
    "import pickle\n",
    "with open('underweight_59mos_rf.pkl','wb') as file:\n",
    "    pickle.dump(rf,file)\n"
   ]
  },
  {
   "cell_type": "code",
   "execution_count": null,
   "id": "5db6a691",
   "metadata": {},
   "outputs": [],
   "source": [
    "X_balanced"
   ]
  },
  {
   "cell_type": "code",
   "execution_count": null,
   "id": "25fefa5a",
   "metadata": {},
   "outputs": [],
   "source": [
    "x_test"
   ]
  },
  {
   "cell_type": "code",
   "execution_count": null,
   "id": "9387d8b6",
   "metadata": {},
   "outputs": [],
   "source": []
  }
 ],
 "metadata": {
  "kernelspec": {
   "display_name": "Python 3 (ipykernel)",
   "language": "python",
   "name": "python3"
  },
  "language_info": {
   "codemirror_mode": {
    "name": "ipython",
    "version": 3
   },
   "file_extension": ".py",
   "mimetype": "text/x-python",
   "name": "python",
   "nbconvert_exporter": "python",
   "pygments_lexer": "ipython3",
   "version": "3.9.7"
  }
 },
 "nbformat": 4,
 "nbformat_minor": 5
}
