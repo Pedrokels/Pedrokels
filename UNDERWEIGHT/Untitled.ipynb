{
 "cells": [
  {
   "cell_type": "code",
   "execution_count": null,
   "id": "c9ca0ec4",
   "metadata": {},
   "outputs": [],
   "source": []
  },
  {
   "cell_type": "code",
   "execution_count": 1,
   "id": "74284f41",
   "metadata": {},
   "outputs": [],
   "source": [
    "import numpy as np \n",
    "import pandas as pd \n",
    "import warnings\n",
    "import seaborn as sns\n",
    "import matplotlib.pyplot as plt\n",
    "%matplotlib inline \n",
    "import plotly.graph_objects as go\n",
    "import plotly.express as px\n",
    "from plotly.subplots import make_subplots\n",
    "\n",
    "from sklearn.preprocessing import LabelEncoder\n",
    "from sklearn.metrics import classification_report\n",
    "#from pandas_profiling import ProfileReport\n",
    "from sklearn.model_selection import train_test_split\n",
    "from sklearn.neighbors import KNeighborsClassifier\n",
    "from sklearn.linear_model import LogisticRegression\n",
    "from sklearn.tree import DecisionTreeClassifier\n",
    "from sklearn.ensemble import RandomForestClassifier, GradientBoostingClassifier\n",
    "from sklearn.svm import SVC\n",
    "#from sklearn.neural_network import MLPClassifier\n",
    "from sklearn.metrics import accuracy_score, r2_score\n",
    "#from sklearn.pipeline import Pipeline\n",
    "#from sklearn.impute import SimpleImputer\n",
    "#from sklearn.preprocessing import OneHotEncoder\n",
    "from sklearn.feature_selection import SelectKBest\n",
    "from sklearn.feature_selection import chi2"
   ]
  },
  {
   "cell_type": "code",
   "execution_count": 2,
   "id": "57866332",
   "metadata": {},
   "outputs": [
    {
     "name": "stdout",
     "output_type": "stream",
     "text": [
      "original features count 42\n",
      "original features Index(['age_child', 'agemos', 'AgeGroup', 'sex_child', 'gastation',\n",
      "       'place_delivery', 'assistd', 'typeofd', 'pregtype', 'bw_grams',\n",
      "       'bw_status', 'ethnicity', 'age_mom', 'agegroup_mom', 'csc_mom',\n",
      "       'psccat_mom', 'educ_mom', 'occup_mom', 'work_status_mom', 'age_hh',\n",
      "       'agegroup_HH', 'sex_hh', 'educ_hh', 'psoc_hh', 'work_status_hh',\n",
      "       'urbanity', 'hhsize', 'hhsize_code', 'drinkingwater', 'recipient_4ps',\n",
      "       'toilet', 'electrct1', 'drinksafe', 'makesafe', 'wcooking', 'whands',\n",
      "       'collect', 'burn', 'composting', 'dump', 'segregate', 'underweight'],\n",
      "      dtype='object')\n"
     ]
    },
    {
     "data": {
      "text/html": [
       "<div>\n",
       "<style scoped>\n",
       "    .dataframe tbody tr th:only-of-type {\n",
       "        vertical-align: middle;\n",
       "    }\n",
       "\n",
       "    .dataframe tbody tr th {\n",
       "        vertical-align: top;\n",
       "    }\n",
       "\n",
       "    .dataframe thead th {\n",
       "        text-align: right;\n",
       "    }\n",
       "</style>\n",
       "<table border=\"1\" class=\"dataframe\">\n",
       "  <thead>\n",
       "    <tr style=\"text-align: right;\">\n",
       "      <th></th>\n",
       "      <th>age_child</th>\n",
       "      <th>agemos</th>\n",
       "      <th>AgeGroup</th>\n",
       "      <th>sex_child</th>\n",
       "      <th>gastation</th>\n",
       "      <th>place_delivery</th>\n",
       "      <th>assistd</th>\n",
       "      <th>typeofd</th>\n",
       "      <th>pregtype</th>\n",
       "      <th>bw_grams</th>\n",
       "      <th>...</th>\n",
       "      <th>drinksafe</th>\n",
       "      <th>makesafe</th>\n",
       "      <th>wcooking</th>\n",
       "      <th>whands</th>\n",
       "      <th>collect</th>\n",
       "      <th>burn</th>\n",
       "      <th>composting</th>\n",
       "      <th>dump</th>\n",
       "      <th>segregate</th>\n",
       "      <th>underweight</th>\n",
       "    </tr>\n",
       "  </thead>\n",
       "  <tbody>\n",
       "    <tr>\n",
       "      <th>0</th>\n",
       "      <td>4</td>\n",
       "      <td>48</td>\n",
       "      <td>3</td>\n",
       "      <td>2</td>\n",
       "      <td>1</td>\n",
       "      <td>1</td>\n",
       "      <td>1</td>\n",
       "      <td>1</td>\n",
       "      <td>1</td>\n",
       "      <td>2400</td>\n",
       "      <td>...</td>\n",
       "      <td>0</td>\n",
       "      <td>0</td>\n",
       "      <td>2</td>\n",
       "      <td>2</td>\n",
       "      <td>0</td>\n",
       "      <td>0</td>\n",
       "      <td>1</td>\n",
       "      <td>0</td>\n",
       "      <td>0</td>\n",
       "      <td>1</td>\n",
       "    </tr>\n",
       "    <tr>\n",
       "      <th>1</th>\n",
       "      <td>3</td>\n",
       "      <td>34</td>\n",
       "      <td>1</td>\n",
       "      <td>2</td>\n",
       "      <td>1</td>\n",
       "      <td>1</td>\n",
       "      <td>1</td>\n",
       "      <td>1</td>\n",
       "      <td>1</td>\n",
       "      <td>2500</td>\n",
       "      <td>...</td>\n",
       "      <td>9</td>\n",
       "      <td>9</td>\n",
       "      <td>2</td>\n",
       "      <td>2</td>\n",
       "      <td>0</td>\n",
       "      <td>1</td>\n",
       "      <td>0</td>\n",
       "      <td>1</td>\n",
       "      <td>1</td>\n",
       "      <td>0</td>\n",
       "    </tr>\n",
       "    <tr>\n",
       "      <th>2</th>\n",
       "      <td>4</td>\n",
       "      <td>51</td>\n",
       "      <td>3</td>\n",
       "      <td>1</td>\n",
       "      <td>1</td>\n",
       "      <td>1</td>\n",
       "      <td>1</td>\n",
       "      <td>1</td>\n",
       "      <td>1</td>\n",
       "      <td>2500</td>\n",
       "      <td>...</td>\n",
       "      <td>0</td>\n",
       "      <td>0</td>\n",
       "      <td>2</td>\n",
       "      <td>2</td>\n",
       "      <td>0</td>\n",
       "      <td>0</td>\n",
       "      <td>1</td>\n",
       "      <td>0</td>\n",
       "      <td>0</td>\n",
       "      <td>1</td>\n",
       "    </tr>\n",
       "    <tr>\n",
       "      <th>3</th>\n",
       "      <td>4</td>\n",
       "      <td>51</td>\n",
       "      <td>3</td>\n",
       "      <td>2</td>\n",
       "      <td>1</td>\n",
       "      <td>0</td>\n",
       "      <td>1</td>\n",
       "      <td>1</td>\n",
       "      <td>1</td>\n",
       "      <td>3200</td>\n",
       "      <td>...</td>\n",
       "      <td>0</td>\n",
       "      <td>0</td>\n",
       "      <td>2</td>\n",
       "      <td>2</td>\n",
       "      <td>0</td>\n",
       "      <td>1</td>\n",
       "      <td>0</td>\n",
       "      <td>0</td>\n",
       "      <td>0</td>\n",
       "      <td>0</td>\n",
       "    </tr>\n",
       "    <tr>\n",
       "      <th>4</th>\n",
       "      <td>2</td>\n",
       "      <td>28</td>\n",
       "      <td>1</td>\n",
       "      <td>2</td>\n",
       "      <td>1</td>\n",
       "      <td>1</td>\n",
       "      <td>1</td>\n",
       "      <td>1</td>\n",
       "      <td>1</td>\n",
       "      <td>2800</td>\n",
       "      <td>...</td>\n",
       "      <td>9</td>\n",
       "      <td>9</td>\n",
       "      <td>2</td>\n",
       "      <td>2</td>\n",
       "      <td>0</td>\n",
       "      <td>1</td>\n",
       "      <td>0</td>\n",
       "      <td>1</td>\n",
       "      <td>0</td>\n",
       "      <td>1</td>\n",
       "    </tr>\n",
       "  </tbody>\n",
       "</table>\n",
       "<p>5 rows × 42 columns</p>\n",
       "</div>"
      ],
      "text/plain": [
       "   age_child  agemos  AgeGroup  sex_child  gastation  place_delivery  assistd  \\\n",
       "0          4      48         3          2          1               1        1   \n",
       "1          3      34         1          2          1               1        1   \n",
       "2          4      51         3          1          1               1        1   \n",
       "3          4      51         3          2          1               0        1   \n",
       "4          2      28         1          2          1               1        1   \n",
       "\n",
       "   typeofd  pregtype  bw_grams  ...  drinksafe  makesafe  wcooking  whands  \\\n",
       "0        1         1      2400  ...          0         0         2       2   \n",
       "1        1         1      2500  ...          9         9         2       2   \n",
       "2        1         1      2500  ...          0         0         2       2   \n",
       "3        1         1      3200  ...          0         0         2       2   \n",
       "4        1         1      2800  ...          9         9         2       2   \n",
       "\n",
       "   collect  burn  composting  dump  segregate  underweight  \n",
       "0        0     0           1     0          0            1  \n",
       "1        0     1           0     1          1            0  \n",
       "2        0     0           1     0          0            1  \n",
       "3        0     1           0     0          0            0  \n",
       "4        0     1           0     1          0            1  \n",
       "\n",
       "[5 rows x 42 columns]"
      ]
     },
     "execution_count": 2,
     "metadata": {},
     "output_type": "execute_result"
    }
   ],
   "source": [
    "df = pd.read_csv('2018_2019_24-59mos_underweight_complete.csv')\n",
    "origfeatures = df.columns\n",
    "print (\"original features count\", len(origfeatures))\n",
    "print (\"original features\", origfeatures)\n",
    "df.head()"
   ]
  },
  {
   "cell_type": "code",
   "execution_count": 51,
   "id": "e544bec1",
   "metadata": {},
   "outputs": [],
   "source": [
    "data = df[[\"bw_grams\",\"psoc_hh\",\"drinksafe\",\"makesafe\",\n",
    "               \"psccat_mom\",\"hhsize\",\"drinkingwater\",\"underweight\"]]"
   ]
  },
  {
   "cell_type": "code",
   "execution_count": 52,
   "id": "72ff03b3",
   "metadata": {},
   "outputs": [
    {
     "data": {
      "text/plain": [
       "'Total number of of Duplicates present in data: 4303'"
      ]
     },
     "metadata": {},
     "output_type": "display_data"
    }
   ],
   "source": [
    "display(\"Total number of of Duplicates present in data: %s\" %data.duplicated().sum())\n",
    "data = data.drop_duplicates()"
   ]
  },
  {
   "cell_type": "code",
   "execution_count": 53,
   "id": "470fe172",
   "metadata": {},
   "outputs": [],
   "source": [
    "data = data.drop_duplicates()"
   ]
  },
  {
   "cell_type": "code",
   "execution_count": 54,
   "id": "7f38bf94",
   "metadata": {},
   "outputs": [
    {
     "data": {
      "image/png": "[encoded data removed]",
      "text/plain": [
       "<Figure size 720x360 with 2 Axes>"
      ]
     },
     "metadata": {
      "needs_background": "light"
     },
     "output_type": "display_data"
    }
   ],
   "source": [
    "#checking correlation between the variables\n",
    "plt.figure(figsize=(10, 5))\n",
    "sns.heatmap(data.corr(), annot=True);\n",
    "plt.title('Correlation Matrix', fontsize=20);"
   ]
  },
  {
   "cell_type": "code",
   "execution_count": 55,
   "id": "f458cf27",
   "metadata": {},
   "outputs": [
    {
     "data": {
      "text/plain": [
       "0    7658\n",
       "1    2529\n",
       "Name: underweight, dtype: int64"
      ]
     },
     "execution_count": 55,
     "metadata": {},
     "output_type": "execute_result"
    }
   ],
   "source": [
    "data['underweight'].value_counts()"
   ]
  },
  {
   "cell_type": "code",
   "execution_count": 56,
   "id": "7724888b",
   "metadata": {},
   "outputs": [],
   "source": [
    "Final = df[[\"bw_grams\",\"psoc_hh\",\"drinksafe\",\"makesafe\",\n",
    "               \"psccat_mom\",\"hhsize\",\"drinkingwater\"]]\n",
    "Target =df['underweight']"
   ]
  },
  {
   "cell_type": "code",
   "execution_count": 57,
   "id": "99ef20ab",
   "metadata": {},
   "outputs": [],
   "source": [
    "from sklearn.model_selection import train_test_split\n",
    "X_train, X_test, y_train, y_test = train_test_split(Final,Target,test_size = 0.2, random_state=42)"
   ]
  },
  {
   "cell_type": "code",
   "execution_count": 58,
   "id": "ec071fe0",
   "metadata": {},
   "outputs": [
    {
     "name": "stdout",
     "output_type": "stream",
     "text": [
      "Training score: 0.788\n",
      "Accuracy score : 0.7915804002760525\n"
     ]
    }
   ],
   "source": [
    "Logistic = LogisticRegression()\n",
    "Log_pred = Logistic.fit(X_train,y_train)\n",
    "log_pred = Log_pred.predict(X_test)\n",
    "\n",
    "ascore = accuracy_score(log_pred,y_test)\n",
    "pred_prob_log_reg = Log_pred.predict_proba(X_test)\n",
    "\n",
    "print(\"Training score: {:.3f}\".format(Log_pred.score(X_train, y_train)))\n",
    "print(\"Accuracy score :\",ascore)"
   ]
  },
  {
   "cell_type": "code",
   "execution_count": 59,
   "id": "dbe2d8ee",
   "metadata": {},
   "outputs": [
    {
     "name": "stdout",
     "output_type": "stream",
     "text": [
      "Training score: 0.915\n",
      "Accuracy score:  0.7394755003450656\n"
     ]
    }
   ],
   "source": [
    "rforest = RandomForestClassifier(n_estimators=30, max_features=3, random_state=0)\n",
    "r_pred = rforest.fit(X_train,y_train)\n",
    "rf_pred = r_pred.predict(X_test)\n",
    "print(\"Training score: {:.3f}\".format(r_pred.score(X_train, y_train)))\n",
    "print(\"Accuracy score: \",accuracy_score(rf_pred,y_test))\n"
   ]
  },
  {
   "cell_type": "code",
   "execution_count": 60,
   "id": "a223a7d6",
   "metadata": {},
   "outputs": [
    {
     "data": {
      "image/png": "[encoded data removed]",
      "text/plain": [
       "<Figure size 432x360 with 2 Axes>"
      ]
     },
     "metadata": {
      "needs_background": "light"
     },
     "output_type": "display_data"
    },
    {
     "name": "stdout",
     "output_type": "stream",
     "text": [
      "              precision    recall  f1-score   support\n",
      "\n",
      "           0       0.81      0.90      0.85      2298\n",
      "           1       0.31      0.18      0.22       600\n",
      "\n",
      "    accuracy                           0.75      2898\n",
      "   macro avg       0.56      0.54      0.54      2898\n",
      "weighted avg       0.70      0.75      0.72      2898\n",
      "\n"
     ]
    }
   ],
   "source": [
    "rf_model=RandomForestClassifier(random_state=0)\n",
    "rf_model.fit(X_train,y_train)\n",
    "y_pred=rf_model.predict(X_test)\n",
    "from sklearn import metrics\n",
    "\n",
    "rf_cm = metrics.confusion_matrix(y_test, y_pred)\n",
    "plt.figure(figsize=(6,5))\n",
    "sns.heatmap(rf_cm, annot=True, fmt=\".0f\", linewidths=.5, square = True, cmap = 'BuPu');\n",
    "plt.ylabel('Actual label');\n",
    "plt.xlabel('Predicted label');\n",
    "all_sample_title = 'Confusion Matrix - score:'+str(metrics.accuracy_score(y_test,y_pred))\n",
    "plt.title(all_sample_title, size = 15);\n",
    "plt.show()\n",
    "print(metrics.classification_report(y_test,y_pred))\n"
   ]
  },
  {
   "cell_type": "code",
   "execution_count": 61,
   "id": "17c3565c",
   "metadata": {},
   "outputs": [
    {
     "data": {
      "text/html": [
       "<div>\n",
       "<style scoped>\n",
       "    .dataframe tbody tr th:only-of-type {\n",
       "        vertical-align: middle;\n",
       "    }\n",
       "\n",
       "    .dataframe tbody tr th {\n",
       "        vertical-align: top;\n",
       "    }\n",
       "\n",
       "    .dataframe thead th {\n",
       "        text-align: right;\n",
       "    }\n",
       "</style>\n",
       "<table border=\"1\" class=\"dataframe\">\n",
       "  <thead>\n",
       "    <tr style=\"text-align: right;\">\n",
       "      <th></th>\n",
       "      <th>bw_grams</th>\n",
       "      <th>psoc_hh</th>\n",
       "      <th>drinksafe</th>\n",
       "      <th>makesafe</th>\n",
       "      <th>psccat_mom</th>\n",
       "      <th>hhsize</th>\n",
       "      <th>drinkingwater</th>\n",
       "      <th>underweight</th>\n",
       "    </tr>\n",
       "  </thead>\n",
       "  <tbody>\n",
       "    <tr>\n",
       "      <th>0</th>\n",
       "      <td>2500</td>\n",
       "      <td>99</td>\n",
       "      <td>9</td>\n",
       "      <td>9</td>\n",
       "      <td>2</td>\n",
       "      <td>10</td>\n",
       "      <td>1</td>\n",
       "      <td>0</td>\n",
       "    </tr>\n",
       "    <tr>\n",
       "      <th>1</th>\n",
       "      <td>3200</td>\n",
       "      <td>6</td>\n",
       "      <td>0</td>\n",
       "      <td>0</td>\n",
       "      <td>0</td>\n",
       "      <td>7</td>\n",
       "      <td>0</td>\n",
       "      <td>0</td>\n",
       "    </tr>\n",
       "    <tr>\n",
       "      <th>2</th>\n",
       "      <td>2700</td>\n",
       "      <td>8</td>\n",
       "      <td>9</td>\n",
       "      <td>9</td>\n",
       "      <td>0</td>\n",
       "      <td>8</td>\n",
       "      <td>1</td>\n",
       "      <td>0</td>\n",
       "    </tr>\n",
       "    <tr>\n",
       "      <th>3</th>\n",
       "      <td>3000</td>\n",
       "      <td>6</td>\n",
       "      <td>0</td>\n",
       "      <td>0</td>\n",
       "      <td>0</td>\n",
       "      <td>5</td>\n",
       "      <td>0</td>\n",
       "      <td>0</td>\n",
       "    </tr>\n",
       "    <tr>\n",
       "      <th>4</th>\n",
       "      <td>3500</td>\n",
       "      <td>7</td>\n",
       "      <td>9</td>\n",
       "      <td>9</td>\n",
       "      <td>0</td>\n",
       "      <td>7</td>\n",
       "      <td>1</td>\n",
       "      <td>0</td>\n",
       "    </tr>\n",
       "    <tr>\n",
       "      <th>...</th>\n",
       "      <td>...</td>\n",
       "      <td>...</td>\n",
       "      <td>...</td>\n",
       "      <td>...</td>\n",
       "      <td>...</td>\n",
       "      <td>...</td>\n",
       "      <td>...</td>\n",
       "      <td>...</td>\n",
       "    </tr>\n",
       "    <tr>\n",
       "      <th>14441</th>\n",
       "      <td>3200</td>\n",
       "      <td>99</td>\n",
       "      <td>1</td>\n",
       "      <td>4</td>\n",
       "      <td>0</td>\n",
       "      <td>6</td>\n",
       "      <td>0</td>\n",
       "      <td>1</td>\n",
       "    </tr>\n",
       "    <tr>\n",
       "      <th>14442</th>\n",
       "      <td>3174</td>\n",
       "      <td>7</td>\n",
       "      <td>0</td>\n",
       "      <td>0</td>\n",
       "      <td>0</td>\n",
       "      <td>9</td>\n",
       "      <td>1</td>\n",
       "      <td>1</td>\n",
       "    </tr>\n",
       "    <tr>\n",
       "      <th>14443</th>\n",
       "      <td>2500</td>\n",
       "      <td>9</td>\n",
       "      <td>0</td>\n",
       "      <td>0</td>\n",
       "      <td>0</td>\n",
       "      <td>5</td>\n",
       "      <td>0</td>\n",
       "      <td>1</td>\n",
       "    </tr>\n",
       "    <tr>\n",
       "      <th>14444</th>\n",
       "      <td>4500</td>\n",
       "      <td>9</td>\n",
       "      <td>0</td>\n",
       "      <td>0</td>\n",
       "      <td>0</td>\n",
       "      <td>7</td>\n",
       "      <td>1</td>\n",
       "      <td>1</td>\n",
       "    </tr>\n",
       "    <tr>\n",
       "      <th>14445</th>\n",
       "      <td>3000</td>\n",
       "      <td>5</td>\n",
       "      <td>0</td>\n",
       "      <td>0</td>\n",
       "      <td>2</td>\n",
       "      <td>4</td>\n",
       "      <td>1</td>\n",
       "      <td>1</td>\n",
       "    </tr>\n",
       "  </tbody>\n",
       "</table>\n",
       "<p>14446 rows × 8 columns</p>\n",
       "</div>"
      ],
      "text/plain": [
       "       bw_grams  psoc_hh  drinksafe  makesafe  psccat_mom  hhsize  \\\n",
       "0          2500       99          9         9           2      10   \n",
       "1          3200        6          0         0           0       7   \n",
       "2          2700        8          9         9           0       8   \n",
       "3          3000        6          0         0           0       5   \n",
       "4          3500        7          9         9           0       7   \n",
       "...         ...      ...        ...       ...         ...     ...   \n",
       "14441      3200       99          1         4           0       6   \n",
       "14442      3174        7          0         0           0       9   \n",
       "14443      2500        9          0         0           0       5   \n",
       "14444      4500        9          0         0           0       7   \n",
       "14445      3000        5          0         0           2       4   \n",
       "\n",
       "       drinkingwater  underweight  \n",
       "0                  1            0  \n",
       "1                  0            0  \n",
       "2                  1            0  \n",
       "3                  0            0  \n",
       "4                  1            0  \n",
       "...              ...          ...  \n",
       "14441              0            1  \n",
       "14442              1            1  \n",
       "14443              0            1  \n",
       "14444              1            1  \n",
       "14445              1            1  \n",
       "\n",
       "[14446 rows x 8 columns]"
      ]
     },
     "execution_count": 61,
     "metadata": {},
     "output_type": "execute_result"
    }
   ],
   "source": [
    "from sklearn.utils import resample\n",
    "\n",
    "# Separate Target Classes\n",
    "df_1 = data[data.underweight==0]\n",
    "df_2 = data[data.underweight==1]\n",
    " \n",
    "# Upsample minority class\n",
    "df_2_upsampled = resample(df_2, \n",
    "                                 replace=True,     # sample with replacement\n",
    "                                 n_samples=6788,    # to match majority class\n",
    "                                 random_state=123) # reproducible results\n",
    "\n",
    "# Combine majority class with upsampled minority class\n",
    "df_upsampled = pd.concat([df_1, df_2_upsampled])\n",
    " \n",
    "# Display new class counts\n",
    "df_upsampled.underweight.value_counts()\n",
    "df_upsampled.reset_index(drop=True)"
   ]
  },
  {
   "cell_type": "code",
   "execution_count": 62,
   "id": "7c06f1c3",
   "metadata": {},
   "outputs": [
    {
     "data": {
      "text/plain": [
       "Index(['bw_grams', 'psoc_hh', 'drinksafe', 'makesafe', 'psccat_mom', 'hhsize',\n",
       "       'drinkingwater', 'underweight'],\n",
       "      dtype='object')"
      ]
     },
     "execution_count": 62,
     "metadata": {},
     "output_type": "execute_result"
    }
   ],
   "source": [
    "df_upsampled.columns"
   ]
  },
  {
   "cell_type": "code",
   "execution_count": 63,
   "id": "a86ac24e",
   "metadata": {},
   "outputs": [],
   "source": [
    "Final1 =df_upsampled[[\"bw_grams\",\"psoc_hh\",\"drinksafe\",\"makesafe\",\n",
    "               \"psccat_mom\",\"hhsize\",\"drinkingwater\"]]\n",
    "Target1 =df_upsampled['underweight']"
   ]
  },
  {
   "cell_type": "code",
   "execution_count": 64,
   "id": "1efa4701",
   "metadata": {},
   "outputs": [],
   "source": [
    "from sklearn.model_selection import train_test_split\n",
    "X_train, X_test, y_train, y_test = train_test_split(Final1,Target1,test_size = 0.2, random_state=42)"
   ]
  },
  {
   "cell_type": "code",
   "execution_count": 65,
   "id": "9dce92ca",
   "metadata": {},
   "outputs": [
    {
     "name": "stdout",
     "output_type": "stream",
     "text": [
      "Training score: 0.582\n",
      "Accuracy score : 0.5705882352941176\n"
     ]
    }
   ],
   "source": [
    "Logistic = LogisticRegression()\n",
    "Log_pred = Logistic.fit(X_train,y_train)\n",
    "log_pred = Log_pred.predict(X_test)\n",
    "\n",
    "ascore = accuracy_score(log_pred,y_test)\n",
    "pred_prob_log_reg = Log_pred.predict_proba(X_test)\n",
    "\n",
    "print(\"Training score: {:.3f}\".format(Log_pred.score(X_train, y_train)))\n",
    "print(\"Accuracy score :\",ascore)"
   ]
  },
  {
   "cell_type": "code",
   "execution_count": 66,
   "id": "4b45fa74",
   "metadata": {},
   "outputs": [
    {
     "name": "stdout",
     "output_type": "stream",
     "text": [
      "Training score: 0.940\n",
      "Accuracy score:  0.7837370242214533\n"
     ]
    }
   ],
   "source": [
    "rforest = RandomForestClassifier(n_estimators=30, max_features=3, random_state=0)\n",
    "r_pred = rforest.fit(X_train,y_train)\n",
    "rf_pred = r_pred.predict(X_test)\n",
    "print(\"Training score: {:.3f}\".format(r_pred.score(X_train, y_train)))\n",
    "print(\"Accuracy score: \",accuracy_score(rf_pred,y_test))\n",
    "\n",
    "pred_prob_rf = r_pred.predict_proba(X_test)\n",
    "rf_acc =accuracy_score(rf_pred,y_test)"
   ]
  },
  {
   "cell_type": "code",
   "execution_count": 67,
   "id": "da4e8323",
   "metadata": {},
   "outputs": [
    {
     "name": "stdout",
     "output_type": "stream",
     "text": [
      "Training score: 0.940\n",
      "Accuracy score:  0.7837370242214533\n"
     ]
    },
    {
     "data": {
      "image/png": "[encoded data removed]",
      "text/plain": [
       "<Figure size 432x360 with 2 Axes>"
      ]
     },
     "metadata": {
      "needs_background": "light"
     },
     "output_type": "display_data"
    },
    {
     "name": "stdout",
     "output_type": "stream",
     "text": [
      "              precision    recall  f1-score   support\n",
      "\n",
      "           0       0.70      0.87      0.77      1237\n",
      "           1       0.88      0.72      0.79      1653\n",
      "\n",
      "    accuracy                           0.78      2890\n",
      "   macro avg       0.79      0.79      0.78      2890\n",
      "weighted avg       0.80      0.78      0.78      2890\n",
      "\n"
     ]
    }
   ],
   "source": [
    "rforest = RandomForestClassifier(n_estimators=30, max_features=3, random_state=0)\n",
    "r_pred = rforest.fit(X_train,y_train)\n",
    "rf_pred = r_pred.predict(X_test)\n",
    "print(\"Training score: {:.3f}\".format(r_pred.score(X_train, y_train)))\n",
    "print(\"Accuracy score: \",accuracy_score(rf_pred,y_test))\n",
    "plt.figure(figsize=(6,5))\n",
    "sns.heatmap(rf_cm, annot=True, fmt=\".0f\", linewidths=.5, square = True, cmap = 'BuPu');\n",
    "plt.ylabel('Actual label');\n",
    "plt.xlabel('Predicted label');\n",
    "all_sample_title = 'Confusion Matrix - score:'+str(metrics.accuracy_score(rf_pred,y_test))\n",
    "plt.title(all_sample_title, size = 15);\n",
    "plt.show()\n",
    "print(metrics.classification_report(rf_pred,y_test))\n",
    "\n",
    "pred_prob_rf = r_pred.predict_proba(X_test)\n",
    "\n"
   ]
  },
  {
   "cell_type": "code",
   "execution_count": 69,
   "id": "49949d52",
   "metadata": {},
   "outputs": [
    {
     "data": {
      "text/plain": [
       "Index(['bw_grams', 'psoc_hh', 'drinksafe', 'makesafe', 'psccat_mom', 'hhsize',\n",
       "       'drinkingwater', 'underweight'],\n",
       "      dtype='object')"
      ]
     },
     "execution_count": 69,
     "metadata": {},
     "output_type": "execute_result"
    }
   ],
   "source": [
    "df_upsampled.columns"
   ]
  },
  {
   "cell_type": "code",
   "execution_count": 70,
   "id": "28c6049f",
   "metadata": {},
   "outputs": [],
   "source": [
    "#OUTLIER DETECTION in CROP\n",
    "#Function to calc lowerRange and UpperRange using 1.5IQR rule\n",
    "def outlier(data1):\n",
    "    #Sort in Ascending\n",
    "    sorted(data1)\n",
    "    #Q1 and Q3\n",
    "    Q1,Q3 = np.nanpercentile(data1, [25,75])\n",
    "    #Calc IQR\n",
    "    IQR = Q3 - Q1\n",
    "    #Calc lowerRange\n",
    "    lowerRange = Q1 - (1.5 * IQR)\n",
    "    #Calc upperRange\n",
    "    upperRange = Q3 + (1.5 * IQR)\n",
    "    #Return Ranges\n",
    "    return lowerRange,upperRange"
   ]
  },
  {
   "cell_type": "code",
   "execution_count": 72,
   "id": "86ed55a2",
   "metadata": {},
   "outputs": [
    {
     "data": {
      "image/png": "[encoded data removed]",
      "text/plain": [
       "<Figure size 2880x1440 with 7 Axes>"
      ]
     },
     "metadata": {
      "needs_background": "light"
     },
     "output_type": "display_data"
    }
   ],
   "source": [
    "#Checking the outliers considering all classes of the output for each column\n",
    "def graph(y):\n",
    "    sns.boxplot(x=\"underweight\", y=y, data=df_upsampled)\n",
    "  \n",
    "plt.figure(figsize=(40,20))\n",
    "      \n",
    "# Adding the subplot at the specified\n",
    "# grid position\n",
    "plt.subplot(2,4,1)\n",
    "graph('bw_grams')\n",
    "  \n",
    "plt.subplot(2,4,2)\n",
    "graph('psoc_hh')\n",
    "\n",
    "plt.subplot(2,4,3)\n",
    "graph('drinksafe')\n",
    "\n",
    "plt.subplot(2,4,4)\n",
    "graph('makesafe')\n",
    "  \n",
    "plt.subplot(2,4,5)\n",
    "graph('psccat_mom')\n",
    "\n",
    "plt.subplot(2,4,6)\n",
    "graph('hhsize')\n",
    "\n",
    "plt.subplot(2,4,7)\n",
    "graph('drinkingwater')\n",
    "  \n",
    "plt.show()"
   ]
  },
  {
   "cell_type": "code",
   "execution_count": 73,
   "id": "586a62a8",
   "metadata": {},
   "outputs": [
    {
     "data": {
      "text/plain": [
       "underweight\n",
       "0    7361\n",
       "1    6788\n",
       "dtype: int64"
      ]
     },
     "execution_count": 73,
     "metadata": {},
     "output_type": "execute_result"
    }
   ],
   "source": [
    "lr,ur=outlier(df_upsampled['hhsize'][df_upsampled.underweight==0])\n",
    "df_upsampled.drop(df_upsampled.index[(df_upsampled.hhsize > ur) & (df_upsampled.underweight == 0)],inplace=True)\n",
    "df_upsampled.drop(df_upsampled.index[(df_upsampled.hhsize < lr) & (df_upsampled.underweight == 0)],inplace=True)\n",
    "df_upsampled.value_counts('underweight')"
   ]
  },
  {
   "cell_type": "code",
   "execution_count": 74,
   "id": "7ab1929d",
   "metadata": {},
   "outputs": [
    {
     "data": {
      "text/plain": [
       "underweight\n",
       "0    7361\n",
       "1    6532\n",
       "dtype: int64"
      ]
     },
     "execution_count": 74,
     "metadata": {},
     "output_type": "execute_result"
    }
   ],
   "source": [
    "lr,ur=outlier(df_upsampled['hhsize'][df_upsampled.underweight==1])\n",
    "df_upsampled.drop(df_upsampled.index[(df_upsampled.hhsize > ur) & (df_upsampled.underweight == 1)],inplace=True)\n",
    "df_upsampled.drop(df_upsampled.index[(df_upsampled.hhsize < lr) & (df_upsampled.underweight == 1)],inplace=True)\n",
    "df_upsampled.value_counts('underweight')"
   ]
  },
  {
   "cell_type": "code",
   "execution_count": null,
   "id": "f570d271",
   "metadata": {},
   "outputs": [],
   "source": []
  }
 ],
 "metadata": {
  "kernelspec": {
   "display_name": "Python 3 (ipykernel)",
   "language": "python",
   "name": "python3"
  },
  "language_info": {
   "codemirror_mode": {
    "name": "ipython",
    "version": 3
   },
   "file_extension": ".py",
   "mimetype": "text/x-python",
   "name": "python",
   "nbconvert_exporter": "python",
   "pygments_lexer": "ipython3",
   "version": "3.9.7"
  }
 },
 "nbformat": 4,
 "nbformat_minor": 5
}
