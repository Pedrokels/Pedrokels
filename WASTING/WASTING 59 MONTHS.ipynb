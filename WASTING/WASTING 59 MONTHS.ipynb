{
 "cells": [
  {
   "cell_type": "code",
   "execution_count": 1,
   "id": "c1963078",
   "metadata": {},
   "outputs": [],
   "source": [
    "import numpy as np \n",
    "import pandas as pd \n",
    "import warnings\n",
    "import seaborn as sns\n",
    "import matplotlib.pyplot as plt\n",
    "%matplotlib inline \n",
    "import plotly.graph_objects as go\n",
    "import plotly.express as px\n",
    "from plotly.subplots import make_subplots\n",
    "\n",
    "from sklearn.preprocessing import LabelEncoder\n",
    "from sklearn.metrics import classification_report\n",
    "#from pandas_profiling import ProfileReport\n",
    "from sklearn.model_selection import train_test_split\n",
    "from sklearn.neighbors import KNeighborsClassifier\n",
    "from sklearn.linear_model import LogisticRegression\n",
    "from sklearn.tree import DecisionTreeClassifier\n",
    "from sklearn.ensemble import RandomForestClassifier, GradientBoostingClassifier\n",
    "from sklearn.svm import SVC\n",
    "#from sklearn.neural_network import MLPClassifier\n",
    "from sklearn.metrics import accuracy_score, r2_score\n",
    "#from sklearn.pipeline import Pipeline\n",
    "#from sklearn.impute import SimpleImputer\n",
    "#from sklearn.preprocessing import OneHotEncoder\n",
    "from sklearn.feature_selection import SelectKBest\n",
    "from sklearn.feature_selection import chi2"
   ]
  },
  {
   "cell_type": "code",
   "execution_count": 2,
   "id": "06653081",
   "metadata": {},
   "outputs": [
    {
     "name": "stdout",
     "output_type": "stream",
     "text": [
      "original features count 42\n",
      "original features Index(['age_child', 'agemos', 'AgeGroup', 'sex_child', 'gastation',\n",
      "       'place_delivery', 'assistd', 'typeofd', 'pregtype', 'bw_grams',\n",
      "       'bw_status', 'ethnicity', 'age_mom', 'agegroup_mom', 'csc_mom',\n",
      "       'psccat_mom', 'educ_mom', 'occup_mom', 'work_status_mom', 'age_hh',\n",
      "       'agegroup_HH', 'sex_hh', 'educ_hh', 'psoc_hh', 'work_status_hh',\n",
      "       'urbanity', 'hhsize', 'hhsize_code', 'drinkingwater', 'recipient_4ps',\n",
      "       'toilet', 'electrct1', 'drinksafe', 'makesafe', 'wcooking', 'whands',\n",
      "       'collect', 'burn', 'composting', 'dump', 'segregate', 'wasting'],\n",
      "      dtype='object')\n"
     ]
    },
    {
     "data": {
      "text/html": [
       "<div>\n",
       "<style scoped>\n",
       "    .dataframe tbody tr th:only-of-type {\n",
       "        vertical-align: middle;\n",
       "    }\n",
       "\n",
       "    .dataframe tbody tr th {\n",
       "        vertical-align: top;\n",
       "    }\n",
       "\n",
       "    .dataframe thead th {\n",
       "        text-align: right;\n",
       "    }\n",
       "</style>\n",
       "<table border=\"1\" class=\"dataframe\">\n",
       "  <thead>\n",
       "    <tr style=\"text-align: right;\">\n",
       "      <th></th>\n",
       "      <th>age_child</th>\n",
       "      <th>agemos</th>\n",
       "      <th>AgeGroup</th>\n",
       "      <th>sex_child</th>\n",
       "      <th>gastation</th>\n",
       "      <th>place_delivery</th>\n",
       "      <th>assistd</th>\n",
       "      <th>typeofd</th>\n",
       "      <th>pregtype</th>\n",
       "      <th>bw_grams</th>\n",
       "      <th>...</th>\n",
       "      <th>drinksafe</th>\n",
       "      <th>makesafe</th>\n",
       "      <th>wcooking</th>\n",
       "      <th>whands</th>\n",
       "      <th>collect</th>\n",
       "      <th>burn</th>\n",
       "      <th>composting</th>\n",
       "      <th>dump</th>\n",
       "      <th>segregate</th>\n",
       "      <th>wasting</th>\n",
       "    </tr>\n",
       "  </thead>\n",
       "  <tbody>\n",
       "    <tr>\n",
       "      <th>0</th>\n",
       "      <td>4</td>\n",
       "      <td>48</td>\n",
       "      <td>3</td>\n",
       "      <td>2</td>\n",
       "      <td>1</td>\n",
       "      <td>1</td>\n",
       "      <td>1</td>\n",
       "      <td>1</td>\n",
       "      <td>1</td>\n",
       "      <td>2400</td>\n",
       "      <td>...</td>\n",
       "      <td>0</td>\n",
       "      <td>0</td>\n",
       "      <td>2</td>\n",
       "      <td>2</td>\n",
       "      <td>0</td>\n",
       "      <td>0</td>\n",
       "      <td>1</td>\n",
       "      <td>0</td>\n",
       "      <td>0</td>\n",
       "      <td>0</td>\n",
       "    </tr>\n",
       "    <tr>\n",
       "      <th>1</th>\n",
       "      <td>3</td>\n",
       "      <td>34</td>\n",
       "      <td>1</td>\n",
       "      <td>2</td>\n",
       "      <td>1</td>\n",
       "      <td>1</td>\n",
       "      <td>1</td>\n",
       "      <td>1</td>\n",
       "      <td>1</td>\n",
       "      <td>2500</td>\n",
       "      <td>...</td>\n",
       "      <td>9</td>\n",
       "      <td>9</td>\n",
       "      <td>2</td>\n",
       "      <td>2</td>\n",
       "      <td>0</td>\n",
       "      <td>1</td>\n",
       "      <td>0</td>\n",
       "      <td>1</td>\n",
       "      <td>1</td>\n",
       "      <td>0</td>\n",
       "    </tr>\n",
       "    <tr>\n",
       "      <th>2</th>\n",
       "      <td>4</td>\n",
       "      <td>51</td>\n",
       "      <td>3</td>\n",
       "      <td>1</td>\n",
       "      <td>1</td>\n",
       "      <td>1</td>\n",
       "      <td>1</td>\n",
       "      <td>1</td>\n",
       "      <td>1</td>\n",
       "      <td>2500</td>\n",
       "      <td>...</td>\n",
       "      <td>0</td>\n",
       "      <td>0</td>\n",
       "      <td>2</td>\n",
       "      <td>2</td>\n",
       "      <td>0</td>\n",
       "      <td>0</td>\n",
       "      <td>1</td>\n",
       "      <td>0</td>\n",
       "      <td>0</td>\n",
       "      <td>0</td>\n",
       "    </tr>\n",
       "    <tr>\n",
       "      <th>3</th>\n",
       "      <td>4</td>\n",
       "      <td>51</td>\n",
       "      <td>3</td>\n",
       "      <td>2</td>\n",
       "      <td>1</td>\n",
       "      <td>0</td>\n",
       "      <td>1</td>\n",
       "      <td>1</td>\n",
       "      <td>1</td>\n",
       "      <td>3200</td>\n",
       "      <td>...</td>\n",
       "      <td>0</td>\n",
       "      <td>0</td>\n",
       "      <td>2</td>\n",
       "      <td>2</td>\n",
       "      <td>0</td>\n",
       "      <td>1</td>\n",
       "      <td>0</td>\n",
       "      <td>0</td>\n",
       "      <td>0</td>\n",
       "      <td>0</td>\n",
       "    </tr>\n",
       "    <tr>\n",
       "      <th>4</th>\n",
       "      <td>2</td>\n",
       "      <td>28</td>\n",
       "      <td>1</td>\n",
       "      <td>2</td>\n",
       "      <td>1</td>\n",
       "      <td>1</td>\n",
       "      <td>1</td>\n",
       "      <td>1</td>\n",
       "      <td>1</td>\n",
       "      <td>2800</td>\n",
       "      <td>...</td>\n",
       "      <td>9</td>\n",
       "      <td>9</td>\n",
       "      <td>2</td>\n",
       "      <td>2</td>\n",
       "      <td>0</td>\n",
       "      <td>1</td>\n",
       "      <td>0</td>\n",
       "      <td>1</td>\n",
       "      <td>0</td>\n",
       "      <td>1</td>\n",
       "    </tr>\n",
       "  </tbody>\n",
       "</table>\n",
       "<p>5 rows × 42 columns</p>\n",
       "</div>"
      ],
      "text/plain": [
       "   age_child  agemos  AgeGroup  sex_child  gastation  place_delivery  assistd  \\\n",
       "0          4      48         3          2          1               1        1   \n",
       "1          3      34         1          2          1               1        1   \n",
       "2          4      51         3          1          1               1        1   \n",
       "3          4      51         3          2          1               0        1   \n",
       "4          2      28         1          2          1               1        1   \n",
       "\n",
       "   typeofd  pregtype  bw_grams  ...  drinksafe  makesafe  wcooking  whands  \\\n",
       "0        1         1      2400  ...          0         0         2       2   \n",
       "1        1         1      2500  ...          9         9         2       2   \n",
       "2        1         1      2500  ...          0         0         2       2   \n",
       "3        1         1      3200  ...          0         0         2       2   \n",
       "4        1         1      2800  ...          9         9         2       2   \n",
       "\n",
       "   collect  burn  composting  dump  segregate  wasting  \n",
       "0        0     0           1     0          0        0  \n",
       "1        0     1           0     1          1        0  \n",
       "2        0     0           1     0          0        0  \n",
       "3        0     1           0     0          0        0  \n",
       "4        0     1           0     1          0        1  \n",
       "\n",
       "[5 rows x 42 columns]"
      ]
     },
     "execution_count": 2,
     "metadata": {},
     "output_type": "execute_result"
    }
   ],
   "source": [
    "df = pd.read_csv('2018_2019_24-59mos_wasting_complete.csv')\n",
    "origfeatures = df.columns\n",
    "print (\"original features count\", len(origfeatures))\n",
    "print (\"original features\", origfeatures)\n",
    "df.head()"
   ]
  },
  {
   "cell_type": "markdown",
   "id": "b023b48d",
   "metadata": {},
   "source": [
    "# FEATURE SELECTION USING CHI2"
   ]
  },
  {
   "cell_type": "code",
   "execution_count": 3,
   "id": "9a4d6d48",
   "metadata": {},
   "outputs": [],
   "source": [
    "X = df.iloc[:,0:39]\n",
    "y = df.iloc[:,-1]\n",
    "feature = SelectKBest(score_func=chi2, k=10)\n",
    "fit = feature.fit(X,y)"
   ]
  },
  {
   "cell_type": "code",
   "execution_count": 4,
   "id": "58fbd4c4",
   "metadata": {},
   "outputs": [],
   "source": [
    "dfscores = pd.DataFrame(fit.scores_)\n",
    "dfcolumns = pd.DataFrame(X.columns)"
   ]
  },
  {
   "cell_type": "code",
   "execution_count": 5,
   "id": "838349b1",
   "metadata": {},
   "outputs": [
    {
     "data": {
      "text/html": [
       "<div>\n",
       "<style scoped>\n",
       "    .dataframe tbody tr th:only-of-type {\n",
       "        vertical-align: middle;\n",
       "    }\n",
       "\n",
       "    .dataframe tbody tr th {\n",
       "        vertical-align: top;\n",
       "    }\n",
       "\n",
       "    .dataframe thead th {\n",
       "        text-align: right;\n",
       "    }\n",
       "</style>\n",
       "<table border=\"1\" class=\"dataframe\">\n",
       "  <thead>\n",
       "    <tr style=\"text-align: right;\">\n",
       "      <th></th>\n",
       "      <th>Overweight</th>\n",
       "      <th>Scores</th>\n",
       "    </tr>\n",
       "  </thead>\n",
       "  <tbody>\n",
       "    <tr>\n",
       "      <th>0</th>\n",
       "      <td>age_child</td>\n",
       "      <td>1.232378</td>\n",
       "    </tr>\n",
       "    <tr>\n",
       "      <th>1</th>\n",
       "      <td>agemos</td>\n",
       "      <td>7.917844</td>\n",
       "    </tr>\n",
       "    <tr>\n",
       "      <th>2</th>\n",
       "      <td>AgeGroup</td>\n",
       "      <td>0.508732</td>\n",
       "    </tr>\n",
       "    <tr>\n",
       "      <th>3</th>\n",
       "      <td>sex_child</td>\n",
       "      <td>2.396964</td>\n",
       "    </tr>\n",
       "    <tr>\n",
       "      <th>4</th>\n",
       "      <td>gastation</td>\n",
       "      <td>0.050001</td>\n",
       "    </tr>\n",
       "    <tr>\n",
       "      <th>5</th>\n",
       "      <td>place_delivery</td>\n",
       "      <td>0.001178</td>\n",
       "    </tr>\n",
       "    <tr>\n",
       "      <th>6</th>\n",
       "      <td>assistd</td>\n",
       "      <td>0.013237</td>\n",
       "    </tr>\n",
       "    <tr>\n",
       "      <th>7</th>\n",
       "      <td>typeofd</td>\n",
       "      <td>1.417826</td>\n",
       "    </tr>\n",
       "    <tr>\n",
       "      <th>8</th>\n",
       "      <td>pregtype</td>\n",
       "      <td>0.000953</td>\n",
       "    </tr>\n",
       "    <tr>\n",
       "      <th>9</th>\n",
       "      <td>bw_grams</td>\n",
       "      <td>7213.954803</td>\n",
       "    </tr>\n",
       "    <tr>\n",
       "      <th>10</th>\n",
       "      <td>bw_status</td>\n",
       "      <td>2.090151</td>\n",
       "    </tr>\n",
       "    <tr>\n",
       "      <th>11</th>\n",
       "      <td>ethnicity</td>\n",
       "      <td>1.195616</td>\n",
       "    </tr>\n",
       "    <tr>\n",
       "      <th>12</th>\n",
       "      <td>age_mom</td>\n",
       "      <td>0.169343</td>\n",
       "    </tr>\n",
       "    <tr>\n",
       "      <th>13</th>\n",
       "      <td>agegroup_mom</td>\n",
       "      <td>0.000974</td>\n",
       "    </tr>\n",
       "    <tr>\n",
       "      <th>14</th>\n",
       "      <td>csc_mom</td>\n",
       "      <td>0.337911</td>\n",
       "    </tr>\n",
       "    <tr>\n",
       "      <th>15</th>\n",
       "      <td>psccat_mom</td>\n",
       "      <td>19.916378</td>\n",
       "    </tr>\n",
       "    <tr>\n",
       "      <th>16</th>\n",
       "      <td>educ_mom</td>\n",
       "      <td>3.643931</td>\n",
       "    </tr>\n",
       "    <tr>\n",
       "      <th>17</th>\n",
       "      <td>occup_mom</td>\n",
       "      <td>7.966436</td>\n",
       "    </tr>\n",
       "    <tr>\n",
       "      <th>18</th>\n",
       "      <td>work_status_mom</td>\n",
       "      <td>2.910306</td>\n",
       "    </tr>\n",
       "    <tr>\n",
       "      <th>19</th>\n",
       "      <td>age_hh</td>\n",
       "      <td>0.310769</td>\n",
       "    </tr>\n",
       "    <tr>\n",
       "      <th>20</th>\n",
       "      <td>agegroup_HH</td>\n",
       "      <td>0.009550</td>\n",
       "    </tr>\n",
       "    <tr>\n",
       "      <th>21</th>\n",
       "      <td>sex_hh</td>\n",
       "      <td>0.280755</td>\n",
       "    </tr>\n",
       "    <tr>\n",
       "      <th>22</th>\n",
       "      <td>educ_hh</td>\n",
       "      <td>9.527843</td>\n",
       "    </tr>\n",
       "    <tr>\n",
       "      <th>23</th>\n",
       "      <td>psoc_hh</td>\n",
       "      <td>114.525130</td>\n",
       "    </tr>\n",
       "    <tr>\n",
       "      <th>24</th>\n",
       "      <td>work_status_hh</td>\n",
       "      <td>0.227868</td>\n",
       "    </tr>\n",
       "    <tr>\n",
       "      <th>25</th>\n",
       "      <td>urbanity</td>\n",
       "      <td>0.000344</td>\n",
       "    </tr>\n",
       "    <tr>\n",
       "      <th>26</th>\n",
       "      <td>hhsize</td>\n",
       "      <td>2.231786</td>\n",
       "    </tr>\n",
       "    <tr>\n",
       "      <th>27</th>\n",
       "      <td>hhsize_code</td>\n",
       "      <td>0.306954</td>\n",
       "    </tr>\n",
       "    <tr>\n",
       "      <th>28</th>\n",
       "      <td>drinkingwater</td>\n",
       "      <td>6.558391</td>\n",
       "    </tr>\n",
       "    <tr>\n",
       "      <th>29</th>\n",
       "      <td>recipient_4ps</td>\n",
       "      <td>2.020551</td>\n",
       "    </tr>\n",
       "    <tr>\n",
       "      <th>30</th>\n",
       "      <td>toilet</td>\n",
       "      <td>0.602493</td>\n",
       "    </tr>\n",
       "    <tr>\n",
       "      <th>31</th>\n",
       "      <td>electrct1</td>\n",
       "      <td>0.039905</td>\n",
       "    </tr>\n",
       "    <tr>\n",
       "      <th>32</th>\n",
       "      <td>drinksafe</td>\n",
       "      <td>33.914168</td>\n",
       "    </tr>\n",
       "    <tr>\n",
       "      <th>33</th>\n",
       "      <td>makesafe</td>\n",
       "      <td>21.776484</td>\n",
       "    </tr>\n",
       "    <tr>\n",
       "      <th>34</th>\n",
       "      <td>wcooking</td>\n",
       "      <td>49.594435</td>\n",
       "    </tr>\n",
       "    <tr>\n",
       "      <th>35</th>\n",
       "      <td>whands</td>\n",
       "      <td>1.375002</td>\n",
       "    </tr>\n",
       "    <tr>\n",
       "      <th>36</th>\n",
       "      <td>collect</td>\n",
       "      <td>1.253688</td>\n",
       "    </tr>\n",
       "    <tr>\n",
       "      <th>37</th>\n",
       "      <td>burn</td>\n",
       "      <td>0.500997</td>\n",
       "    </tr>\n",
       "    <tr>\n",
       "      <th>38</th>\n",
       "      <td>composting</td>\n",
       "      <td>1.282538</td>\n",
       "    </tr>\n",
       "  </tbody>\n",
       "</table>\n",
       "</div>"
      ],
      "text/plain": [
       "         Overweight       Scores\n",
       "0         age_child     1.232378\n",
       "1            agemos     7.917844\n",
       "2          AgeGroup     0.508732\n",
       "3         sex_child     2.396964\n",
       "4         gastation     0.050001\n",
       "5    place_delivery     0.001178\n",
       "6           assistd     0.013237\n",
       "7           typeofd     1.417826\n",
       "8          pregtype     0.000953\n",
       "9          bw_grams  7213.954803\n",
       "10        bw_status     2.090151\n",
       "11        ethnicity     1.195616\n",
       "12          age_mom     0.169343\n",
       "13     agegroup_mom     0.000974\n",
       "14          csc_mom     0.337911\n",
       "15       psccat_mom    19.916378\n",
       "16         educ_mom     3.643931\n",
       "17        occup_mom     7.966436\n",
       "18  work_status_mom     2.910306\n",
       "19           age_hh     0.310769\n",
       "20      agegroup_HH     0.009550\n",
       "21           sex_hh     0.280755\n",
       "22          educ_hh     9.527843\n",
       "23          psoc_hh   114.525130\n",
       "24   work_status_hh     0.227868\n",
       "25         urbanity     0.000344\n",
       "26           hhsize     2.231786\n",
       "27      hhsize_code     0.306954\n",
       "28    drinkingwater     6.558391\n",
       "29    recipient_4ps     2.020551\n",
       "30           toilet     0.602493\n",
       "31        electrct1     0.039905\n",
       "32        drinksafe    33.914168\n",
       "33         makesafe    21.776484\n",
       "34         wcooking    49.594435\n",
       "35           whands     1.375002\n",
       "36          collect     1.253688\n",
       "37             burn     0.500997\n",
       "38       composting     1.282538"
      ]
     },
     "execution_count": 5,
     "metadata": {},
     "output_type": "execute_result"
    }
   ],
   "source": [
    "features = pd.concat([dfcolumns,dfscores], axis = 1)\n",
    "features.columns = ['Overweight','Scores']\n",
    "features"
   ]
  },
  {
   "cell_type": "code",
   "execution_count": 6,
   "id": "fe11fe07",
   "metadata": {},
   "outputs": [
    {
     "name": "stdout",
     "output_type": "stream",
     "text": [
      "       Overweight       Scores\n",
      "9        bw_grams  7213.954803\n",
      "23        psoc_hh   114.525130\n",
      "34       wcooking    49.594435\n",
      "32      drinksafe    33.914168\n",
      "33       makesafe    21.776484\n",
      "15     psccat_mom    19.916378\n",
      "22        educ_hh     9.527843\n",
      "17      occup_mom     7.966436\n",
      "1          agemos     7.917844\n",
      "28  drinkingwater     6.558391\n"
     ]
    }
   ],
   "source": [
    "print(features.nlargest(10, \"Scores\"))"
   ]
  },
  {
   "cell_type": "code",
   "execution_count": 8,
   "id": "4a7c8c47",
   "metadata": {},
   "outputs": [],
   "source": [
    "data = df[[\"bw_grams\",\"psoc_hh\",\"wcooking\",\"drinksafe\",\"makesafe\",\n",
    "           \"psccat_mom\",\"educ_hh\",\"occup_mom\",\"agemos\",\"drinkingwater\",\"wasting\"]]"
   ]
  },
  {
   "cell_type": "code",
   "execution_count": 9,
   "id": "8ea1e5d5",
   "metadata": {},
   "outputs": [
    {
     "data": {
      "text/plain": [
       "Index(['bw_grams', 'psoc_hh', 'wcooking', 'drinksafe', 'makesafe',\n",
       "       'psccat_mom', 'educ_hh', 'occup_mom', 'agemos', 'drinkingwater',\n",
       "       'wasting'],\n",
       "      dtype='object')"
      ]
     },
     "execution_count": 9,
     "metadata": {},
     "output_type": "execute_result"
    }
   ],
   "source": [
    "data.columns"
   ]
  },
  {
   "cell_type": "code",
   "execution_count": 10,
   "id": "41e9a138",
   "metadata": {},
   "outputs": [
    {
     "name": "stdout",
     "output_type": "stream",
     "text": [
      "<class 'pandas.core.frame.DataFrame'>\n",
      "RangeIndex: 14442 entries, 0 to 14441\n",
      "Data columns (total 11 columns):\n",
      " #   Column         Non-Null Count  Dtype\n",
      "---  ------         --------------  -----\n",
      " 0   bw_grams       14442 non-null  int64\n",
      " 1   psoc_hh        14442 non-null  int64\n",
      " 2   wcooking       14442 non-null  int64\n",
      " 3   drinksafe      14442 non-null  int64\n",
      " 4   makesafe       14442 non-null  int64\n",
      " 5   psccat_mom     14442 non-null  int64\n",
      " 6   educ_hh        14442 non-null  int64\n",
      " 7   occup_mom      14442 non-null  int64\n",
      " 8   agemos         14442 non-null  int64\n",
      " 9   drinkingwater  14442 non-null  int64\n",
      " 10  wasting        14442 non-null  int64\n",
      "dtypes: int64(11)\n",
      "memory usage: 1.2 MB\n"
     ]
    }
   ],
   "source": [
    "data.info()"
   ]
  },
  {
   "cell_type": "code",
   "execution_count": 11,
   "id": "956ed6bb",
   "metadata": {},
   "outputs": [
    {
     "data": {
      "text/plain": [
       "'Total number of of Duplicates present in data: 123'"
      ]
     },
     "metadata": {},
     "output_type": "display_data"
    }
   ],
   "source": [
    "display(\"Total number of of Duplicates present in data: %s\" %data.duplicated().sum())\n"
   ]
  },
  {
   "cell_type": "code",
   "execution_count": 12,
   "id": "7ad58aa7",
   "metadata": {},
   "outputs": [],
   "source": [
    "data = data.drop_duplicates()"
   ]
  },
  {
   "cell_type": "code",
   "execution_count": 13,
   "id": "ec8990d8",
   "metadata": {},
   "outputs": [
    {
     "data": {
      "text/plain": [
       "'Total number of of Duplicates present in data: 0'"
      ]
     },
     "metadata": {},
     "output_type": "display_data"
    }
   ],
   "source": [
    "display(\"Total number of of Duplicates present in data: %s\" %data.duplicated().sum())\n"
   ]
  },
  {
   "cell_type": "code",
   "execution_count": 14,
   "id": "9cd2f28a",
   "metadata": {},
   "outputs": [
    {
     "data": {
      "image/png": "[encoded data removed]",
      "text/plain": [
       "<Figure size 720x360 with 2 Axes>"
      ]
     },
     "metadata": {
      "needs_background": "light"
     },
     "output_type": "display_data"
    }
   ],
   "source": [
    "#checking correlation between the variables\n",
    "plt.figure(figsize=(10, 5))\n",
    "sns.heatmap(data.corr(), annot=True);\n",
    "plt.title('Correlation Matrix', fontsize=20);"
   ]
  },
  {
   "cell_type": "code",
   "execution_count": 15,
   "id": "6aa160fc",
   "metadata": {},
   "outputs": [
    {
     "name": "stdout",
     "output_type": "stream",
     "text": [
      "[0.03218199 0.05887155 0.0257401  0.01618881 0.0059761  0.01042269\n",
      " 0.00833867 0.00723599 0.00308672 0.06204387 0.00982382 0.01147392\n",
      " 0.05878643 0.01816491 0.03335369 0.02313333 0.03790466 0.02292728\n",
      " 0.01594282 0.05893631 0.02815345 0.01253118 0.03393838 0.04670417\n",
      " 0.00754622 0.02452676 0.05106262 0.02034657 0.01335524 0.02365492\n",
      " 0.00817508 0.00969176 0.02084587 0.02541617 0.04770152 0.04607168\n",
      " 0.01890093 0.02307257 0.01777128]\n"
     ]
    }
   ],
   "source": [
    "from sklearn.ensemble import ExtraTreesClassifier\n",
    "model = ExtraTreesClassifier()\n",
    "model.fit(X,y)\n",
    "print(model.feature_importances_)"
   ]
  },
  {
   "cell_type": "code",
   "execution_count": 16,
   "id": "506f2e43",
   "metadata": {},
   "outputs": [
    {
     "data": {
      "image/png": "[encoded data removed]",
      "text/plain": [
       "<Figure size 432x288 with 1 Axes>"
      ]
     },
     "metadata": {
      "needs_background": "light"
     },
     "output_type": "display_data"
    }
   ],
   "source": [
    "f_importances = pd.Series(model.feature_importances_, index = X.columns)\n",
    "f_importances.nlargest(10).plot(kind='barh')\n",
    "plt.show()"
   ]
  },
  {
   "cell_type": "code",
   "execution_count": 17,
   "id": "21debffb",
   "metadata": {},
   "outputs": [
    {
     "data": {
      "text/plain": [
       "(14442, 42)"
      ]
     },
     "execution_count": 17,
     "metadata": {},
     "output_type": "execute_result"
    }
   ],
   "source": [
    "#shape of the data\n",
    "df.shape"
   ]
  },
  {
   "cell_type": "code",
   "execution_count": 18,
   "id": "8d146654",
   "metadata": {},
   "outputs": [
    {
     "data": {
      "text/plain": [
       "age_child          0\n",
       "agemos             0\n",
       "AgeGroup           0\n",
       "sex_child          0\n",
       "gastation          0\n",
       "place_delivery     0\n",
       "assistd            0\n",
       "typeofd            0\n",
       "pregtype           0\n",
       "bw_grams           0\n",
       "bw_status          0\n",
       "ethnicity          0\n",
       "age_mom            0\n",
       "agegroup_mom       0\n",
       "csc_mom            0\n",
       "psccat_mom         0\n",
       "educ_mom           0\n",
       "occup_mom          0\n",
       "work_status_mom    0\n",
       "age_hh             0\n",
       "agegroup_HH        0\n",
       "sex_hh             0\n",
       "educ_hh            0\n",
       "psoc_hh            0\n",
       "work_status_hh     0\n",
       "urbanity           0\n",
       "hhsize             0\n",
       "hhsize_code        0\n",
       "drinkingwater      0\n",
       "recipient_4ps      0\n",
       "toilet             0\n",
       "electrct1          0\n",
       "drinksafe          0\n",
       "makesafe           0\n",
       "wcooking           0\n",
       "whands             0\n",
       "collect            0\n",
       "burn               0\n",
       "composting         0\n",
       "dump               0\n",
       "segregate          0\n",
       "wasting            0\n",
       "dtype: int64"
      ]
     },
     "execution_count": 18,
     "metadata": {},
     "output_type": "execute_result"
    }
   ],
   "source": [
    "df.isnull().sum()"
   ]
  },
  {
   "cell_type": "code",
   "execution_count": 20,
   "id": "2b0f1af7",
   "metadata": {},
   "outputs": [],
   "source": [
    "x = df.drop(['wasting'], axis=1)\n",
    "y = df['wasting']"
   ]
  },
  {
   "cell_type": "code",
   "execution_count": 21,
   "id": "173e15fd",
   "metadata": {},
   "outputs": [],
   "source": [
    "# importing the models\n",
    "\n",
    "from mlxtend.feature_selection import SequentialFeatureSelector as sfs\n",
    "from sklearn.linear_model import LinearRegression"
   ]
  },
  {
   "cell_type": "code",
   "execution_count": 22,
   "id": "fd3dc476",
   "metadata": {},
   "outputs": [],
   "source": [
    "# calling the linear regression model\n",
    "\n",
    "lreg = LinearRegression()\n",
    "sfs1 = sfs(lreg, k_features=10, forward=True, verbose=2, scoring='neg_mean_squared_error')"
   ]
  },
  {
   "cell_type": "code",
   "execution_count": 23,
   "id": "aae78d62",
   "metadata": {},
   "outputs": [
    {
     "name": "stderr",
     "output_type": "stream",
     "text": [
      "[Parallel(n_jobs=1)]: Using backend SequentialBackend with 1 concurrent workers.\n",
      "[Parallel(n_jobs=1)]: Done   1 out of   1 | elapsed:    0.0s remaining:    0.0s\n",
      "[Parallel(n_jobs=1)]: Done  39 out of  39 | elapsed:    0.3s finished\n",
      "\n",
      "[2022-11-08 17:09:11] Features: 1/10 -- score: -0.047123979710817256[Parallel(n_jobs=1)]: Using backend SequentialBackend with 1 concurrent workers.\n",
      "[Parallel(n_jobs=1)]: Done   1 out of   1 | elapsed:    0.0s remaining:    0.0s\n",
      "[Parallel(n_jobs=1)]: Done  38 out of  38 | elapsed:    0.6s finished\n",
      "\n",
      "[2022-11-08 17:09:11] Features: 2/10 -- score: -0.047037953023447474[Parallel(n_jobs=1)]: Using backend SequentialBackend with 1 concurrent workers.\n",
      "[Parallel(n_jobs=1)]: Done   1 out of   1 | elapsed:    0.0s remaining:    0.0s\n",
      "[Parallel(n_jobs=1)]: Done  37 out of  37 | elapsed:    0.6s finished\n",
      "\n",
      "[2022-11-08 17:09:12] Features: 3/10 -- score: -0.04698030955636274[Parallel(n_jobs=1)]: Using backend SequentialBackend with 1 concurrent workers.\n",
      "[Parallel(n_jobs=1)]: Done   1 out of   1 | elapsed:    0.0s remaining:    0.0s\n",
      "[Parallel(n_jobs=1)]: Done  36 out of  36 | elapsed:    0.6s finished\n",
      "\n",
      "[2022-11-08 17:09:13] Features: 4/10 -- score: -0.04695256506090652[Parallel(n_jobs=1)]: Using backend SequentialBackend with 1 concurrent workers.\n",
      "[Parallel(n_jobs=1)]: Done   1 out of   1 | elapsed:    0.0s remaining:    0.0s\n",
      "[Parallel(n_jobs=1)]: Done  35 out of  35 | elapsed:    0.6s finished\n",
      "\n",
      "[2022-11-08 17:09:13] Features: 5/10 -- score: -0.046938609502617426[Parallel(n_jobs=1)]: Using backend SequentialBackend with 1 concurrent workers.\n",
      "[Parallel(n_jobs=1)]: Done   1 out of   1 | elapsed:    0.0s remaining:    0.0s\n",
      "[Parallel(n_jobs=1)]: Done  34 out of  34 | elapsed:    0.7s finished\n",
      "\n",
      "[2022-11-08 17:09:14] Features: 6/10 -- score: -0.04692821411341271[Parallel(n_jobs=1)]: Using backend SequentialBackend with 1 concurrent workers.\n",
      "[Parallel(n_jobs=1)]: Done   1 out of   1 | elapsed:    0.0s remaining:    0.0s\n",
      "[Parallel(n_jobs=1)]: Done  33 out of  33 | elapsed:    0.8s finished\n",
      "\n",
      "[2022-11-08 17:09:15] Features: 7/10 -- score: -0.046922255435762415[Parallel(n_jobs=1)]: Using backend SequentialBackend with 1 concurrent workers.\n",
      "[Parallel(n_jobs=1)]: Done   1 out of   1 | elapsed:    0.0s remaining:    0.0s\n",
      "[Parallel(n_jobs=1)]: Done  32 out of  32 | elapsed:    0.8s finished\n",
      "\n",
      "[2022-11-08 17:09:16] Features: 8/10 -- score: -0.0469182667324219[Parallel(n_jobs=1)]: Using backend SequentialBackend with 1 concurrent workers.\n",
      "[Parallel(n_jobs=1)]: Done   1 out of   1 | elapsed:    0.0s remaining:    0.0s\n",
      "[Parallel(n_jobs=1)]: Done  31 out of  31 | elapsed:    0.7s finished\n",
      "\n",
      "[2022-11-08 17:09:17] Features: 9/10 -- score: -0.04691450158223742[Parallel(n_jobs=1)]: Using backend SequentialBackend with 1 concurrent workers.\n",
      "[Parallel(n_jobs=1)]: Done   1 out of   1 | elapsed:    0.0s remaining:    0.0s\n",
      "[Parallel(n_jobs=1)]: Done  30 out of  30 | elapsed:    0.7s finished\n",
      "\n",
      "[2022-11-08 17:09:18] Features: 10/10 -- score: -0.04690986649589697"
     ]
    }
   ],
   "source": [
    "sfs1 = sfs1.fit(X, y)"
   ]
  },
  {
   "cell_type": "code",
   "execution_count": 24,
   "id": "8fd04180",
   "metadata": {},
   "outputs": [
    {
     "name": "stdout",
     "output_type": "stream",
     "text": [
      "['sex_child', 'typeofd', 'bw_grams', 'bw_status', 'psccat_mom', 'educ_hh', 'drinkingwater', 'toilet', 'electrct1', 'composting']\n"
     ]
    }
   ],
   "source": [
    "feat_names = list(sfs1.k_feature_names_)\n",
    "print(feat_names)"
   ]
  },
  {
   "cell_type": "code",
   "execution_count": null,
   "id": "3f06dd17",
   "metadata": {},
   "outputs": [],
   "source": []
  }
 ],
 "metadata": {
  "kernelspec": {
   "display_name": "Python 3 (ipykernel)",
   "language": "python",
   "name": "python3"
  },
  "language_info": {
   "codemirror_mode": {
    "name": "ipython",
    "version": 3
   },
   "file_extension": ".py",
   "mimetype": "text/x-python",
   "name": "python",
   "nbconvert_exporter": "python",
   "pygments_lexer": "ipython3",
   "version": "3.9.7"
  }
 },
 "nbformat": 4,
 "nbformat_minor": 5
}
