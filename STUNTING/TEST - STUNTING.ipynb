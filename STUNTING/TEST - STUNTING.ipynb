{
 "cells": [
  {
   "cell_type": "code",
   "execution_count": 91,
   "id": "f429ed10",
   "metadata": {},
   "outputs": [],
   "source": [
    "import numpy as np \n",
    "import pandas as pd \n",
    "import matplotlib.pyplot as plt\n",
    "import seaborn as sns\n",
    "import plotly.express as px\n",
    "import plotly.figure_factory as ff\n",
    "import plotly.graph_objects as go\n",
    "from plotly.subplots import make_subplots\n",
    "from sklearn.metrics import accuracy_score, precision_score, recall_score, f1_score,\\\n",
    "roc_auc_score, roc_curve, plot_roc_curve, auc\n",
    "from sklearn.model_selection import GridSearchCV\n",
    "from imblearn.over_sampling import SMOTE\n",
    "import scikitplot as skplt\n",
    "\n",
    "from sklearn.svm import SVC\n",
    "from xgboost import XGBClassifier\n",
    "from sklearn.linear_model import LogisticRegression\n",
    "from sklearn.tree  import DecisionTreeClassifier\n",
    "from sklearn.ensemble import RandomForestClassifier\n",
    "from sklearn.preprocessing import LabelEncoder, MinMaxScaler \n",
    "from sklearn.model_selection import train_test_split\n",
    "from imblearn.under_sampling import RandomUnderSampler\n",
    "from imblearn.over_sampling import RandomOverSampler\n",
    "from sklearn.ensemble import RandomForestClassifier, AdaBoostClassifier\n",
    "from sklearn.preprocessing import OneHotEncoder, StandardScaler\n",
    "import warnings\n",
    "warnings.filterwarnings(\"ignore\")"
   ]
  },
  {
   "cell_type": "code",
   "execution_count": 92,
   "id": "881829fe",
   "metadata": {},
   "outputs": [],
   "source": [
    "data=pd.read_csv(\"2018_2019_24-59mos_stunting_complete.csv\")"
   ]
  },
  {
   "cell_type": "code",
   "execution_count": 93,
   "id": "901caa94",
   "metadata": {},
   "outputs": [
    {
     "data": {
      "text/html": [
       "<div>\n",
       "<style scoped>\n",
       "    .dataframe tbody tr th:only-of-type {\n",
       "        vertical-align: middle;\n",
       "    }\n",
       "\n",
       "    .dataframe tbody tr th {\n",
       "        vertical-align: top;\n",
       "    }\n",
       "\n",
       "    .dataframe thead th {\n",
       "        text-align: right;\n",
       "    }\n",
       "</style>\n",
       "<table border=\"1\" class=\"dataframe\">\n",
       "  <thead>\n",
       "    <tr style=\"text-align: right;\">\n",
       "      <th></th>\n",
       "      <th>age_child</th>\n",
       "      <th>agemos</th>\n",
       "      <th>AgeGroup</th>\n",
       "      <th>sex_child</th>\n",
       "      <th>gastation</th>\n",
       "      <th>place_delivery</th>\n",
       "      <th>assistd</th>\n",
       "      <th>typeofd</th>\n",
       "      <th>pregtype</th>\n",
       "      <th>bw_grams</th>\n",
       "      <th>...</th>\n",
       "      <th>drinksafe</th>\n",
       "      <th>makesafe</th>\n",
       "      <th>wcooking</th>\n",
       "      <th>whands</th>\n",
       "      <th>collect</th>\n",
       "      <th>burn</th>\n",
       "      <th>composting</th>\n",
       "      <th>dump</th>\n",
       "      <th>segregate</th>\n",
       "      <th>stunting</th>\n",
       "    </tr>\n",
       "  </thead>\n",
       "  <tbody>\n",
       "    <tr>\n",
       "      <th>count</th>\n",
       "      <td>14461.000000</td>\n",
       "      <td>14461.000000</td>\n",
       "      <td>14461.000000</td>\n",
       "      <td>14461.000000</td>\n",
       "      <td>14461.000000</td>\n",
       "      <td>14461.000000</td>\n",
       "      <td>14461.000000</td>\n",
       "      <td>14461.000000</td>\n",
       "      <td>14461.000000</td>\n",
       "      <td>14461.000000</td>\n",
       "      <td>...</td>\n",
       "      <td>14461.000000</td>\n",
       "      <td>14461.000000</td>\n",
       "      <td>14461.000000</td>\n",
       "      <td>14461.000000</td>\n",
       "      <td>14461.000000</td>\n",
       "      <td>14461.000000</td>\n",
       "      <td>14461.000000</td>\n",
       "      <td>14461.000000</td>\n",
       "      <td>14461.000000</td>\n",
       "      <td>14461.000000</td>\n",
       "    </tr>\n",
       "    <tr>\n",
       "      <th>mean</th>\n",
       "      <td>3.391328</td>\n",
       "      <td>42.472651</td>\n",
       "      <td>2.039624</td>\n",
       "      <td>1.481295</td>\n",
       "      <td>0.976143</td>\n",
       "      <td>0.888597</td>\n",
       "      <td>0.912316</td>\n",
       "      <td>1.113962</td>\n",
       "      <td>1.012240</td>\n",
       "      <td>2974.954429</td>\n",
       "      <td>...</td>\n",
       "      <td>2.122744</td>\n",
       "      <td>2.345135</td>\n",
       "      <td>11.769587</td>\n",
       "      <td>10.908374</td>\n",
       "      <td>0.463453</td>\n",
       "      <td>0.407372</td>\n",
       "      <td>0.231104</td>\n",
       "      <td>0.192310</td>\n",
       "      <td>0.625199</td>\n",
       "      <td>0.324805</td>\n",
       "    </tr>\n",
       "    <tr>\n",
       "      <th>std</th>\n",
       "      <td>0.912131</td>\n",
       "      <td>10.313423</td>\n",
       "      <td>0.812519</td>\n",
       "      <td>0.499667</td>\n",
       "      <td>0.152610</td>\n",
       "      <td>0.314642</td>\n",
       "      <td>0.282845</td>\n",
       "      <td>0.317776</td>\n",
       "      <td>0.111209</td>\n",
       "      <td>598.402473</td>\n",
       "      <td>...</td>\n",
       "      <td>3.610028</td>\n",
       "      <td>3.629395</td>\n",
       "      <td>15.092312</td>\n",
       "      <td>12.844725</td>\n",
       "      <td>0.498680</td>\n",
       "      <td>0.491362</td>\n",
       "      <td>0.421554</td>\n",
       "      <td>0.394129</td>\n",
       "      <td>0.484088</td>\n",
       "      <td>0.468318</td>\n",
       "    </tr>\n",
       "    <tr>\n",
       "      <th>min</th>\n",
       "      <td>2.000000</td>\n",
       "      <td>24.000000</td>\n",
       "      <td>1.000000</td>\n",
       "      <td>1.000000</td>\n",
       "      <td>0.000000</td>\n",
       "      <td>0.000000</td>\n",
       "      <td>0.000000</td>\n",
       "      <td>1.000000</td>\n",
       "      <td>1.000000</td>\n",
       "      <td>900.000000</td>\n",
       "      <td>...</td>\n",
       "      <td>0.000000</td>\n",
       "      <td>0.000000</td>\n",
       "      <td>1.000000</td>\n",
       "      <td>1.000000</td>\n",
       "      <td>0.000000</td>\n",
       "      <td>0.000000</td>\n",
       "      <td>0.000000</td>\n",
       "      <td>0.000000</td>\n",
       "      <td>0.000000</td>\n",
       "      <td>0.000000</td>\n",
       "    </tr>\n",
       "    <tr>\n",
       "      <th>25%</th>\n",
       "      <td>3.000000</td>\n",
       "      <td>34.000000</td>\n",
       "      <td>1.000000</td>\n",
       "      <td>1.000000</td>\n",
       "      <td>1.000000</td>\n",
       "      <td>1.000000</td>\n",
       "      <td>1.000000</td>\n",
       "      <td>1.000000</td>\n",
       "      <td>1.000000</td>\n",
       "      <td>2629.000000</td>\n",
       "      <td>...</td>\n",
       "      <td>0.000000</td>\n",
       "      <td>0.000000</td>\n",
       "      <td>2.000000</td>\n",
       "      <td>1.000000</td>\n",
       "      <td>0.000000</td>\n",
       "      <td>0.000000</td>\n",
       "      <td>0.000000</td>\n",
       "      <td>0.000000</td>\n",
       "      <td>0.000000</td>\n",
       "      <td>0.000000</td>\n",
       "    </tr>\n",
       "    <tr>\n",
       "      <th>50%</th>\n",
       "      <td>3.000000</td>\n",
       "      <td>43.000000</td>\n",
       "      <td>2.000000</td>\n",
       "      <td>1.000000</td>\n",
       "      <td>1.000000</td>\n",
       "      <td>1.000000</td>\n",
       "      <td>1.000000</td>\n",
       "      <td>1.000000</td>\n",
       "      <td>1.000000</td>\n",
       "      <td>3000.000000</td>\n",
       "      <td>...</td>\n",
       "      <td>0.000000</td>\n",
       "      <td>0.000000</td>\n",
       "      <td>8.000000</td>\n",
       "      <td>5.000000</td>\n",
       "      <td>0.000000</td>\n",
       "      <td>0.000000</td>\n",
       "      <td>0.000000</td>\n",
       "      <td>0.000000</td>\n",
       "      <td>1.000000</td>\n",
       "      <td>0.000000</td>\n",
       "    </tr>\n",
       "    <tr>\n",
       "      <th>75%</th>\n",
       "      <td>4.000000</td>\n",
       "      <td>51.000000</td>\n",
       "      <td>3.000000</td>\n",
       "      <td>2.000000</td>\n",
       "      <td>1.000000</td>\n",
       "      <td>1.000000</td>\n",
       "      <td>1.000000</td>\n",
       "      <td>1.000000</td>\n",
       "      <td>1.000000</td>\n",
       "      <td>3200.000000</td>\n",
       "      <td>...</td>\n",
       "      <td>1.000000</td>\n",
       "      <td>4.000000</td>\n",
       "      <td>13.000000</td>\n",
       "      <td>13.000000</td>\n",
       "      <td>1.000000</td>\n",
       "      <td>1.000000</td>\n",
       "      <td>0.000000</td>\n",
       "      <td>0.000000</td>\n",
       "      <td>1.000000</td>\n",
       "      <td>1.000000</td>\n",
       "    </tr>\n",
       "    <tr>\n",
       "      <th>max</th>\n",
       "      <td>5.000000</td>\n",
       "      <td>60.000000</td>\n",
       "      <td>3.000000</td>\n",
       "      <td>2.000000</td>\n",
       "      <td>1.000000</td>\n",
       "      <td>1.000000</td>\n",
       "      <td>1.000000</td>\n",
       "      <td>2.000000</td>\n",
       "      <td>3.000000</td>\n",
       "      <td>9500.000000</td>\n",
       "      <td>...</td>\n",
       "      <td>9.000000</td>\n",
       "      <td>9.000000</td>\n",
       "      <td>91.000000</td>\n",
       "      <td>91.000000</td>\n",
       "      <td>1.000000</td>\n",
       "      <td>1.000000</td>\n",
       "      <td>1.000000</td>\n",
       "      <td>1.000000</td>\n",
       "      <td>1.000000</td>\n",
       "      <td>1.000000</td>\n",
       "    </tr>\n",
       "  </tbody>\n",
       "</table>\n",
       "<p>8 rows × 41 columns</p>\n",
       "</div>"
      ],
      "text/plain": [
       "          age_child        agemos      AgeGroup     sex_child     gastation  \\\n",
       "count  14461.000000  14461.000000  14461.000000  14461.000000  14461.000000   \n",
       "mean       3.391328     42.472651      2.039624      1.481295      0.976143   \n",
       "std        0.912131     10.313423      0.812519      0.499667      0.152610   \n",
       "min        2.000000     24.000000      1.000000      1.000000      0.000000   \n",
       "25%        3.000000     34.000000      1.000000      1.000000      1.000000   \n",
       "50%        3.000000     43.000000      2.000000      1.000000      1.000000   \n",
       "75%        4.000000     51.000000      3.000000      2.000000      1.000000   \n",
       "max        5.000000     60.000000      3.000000      2.000000      1.000000   \n",
       "\n",
       "       place_delivery       assistd       typeofd      pregtype      bw_grams  \\\n",
       "count    14461.000000  14461.000000  14461.000000  14461.000000  14461.000000   \n",
       "mean         0.888597      0.912316      1.113962      1.012240   2974.954429   \n",
       "std          0.314642      0.282845      0.317776      0.111209    598.402473   \n",
       "min          0.000000      0.000000      1.000000      1.000000    900.000000   \n",
       "25%          1.000000      1.000000      1.000000      1.000000   2629.000000   \n",
       "50%          1.000000      1.000000      1.000000      1.000000   3000.000000   \n",
       "75%          1.000000      1.000000      1.000000      1.000000   3200.000000   \n",
       "max          1.000000      1.000000      2.000000      3.000000   9500.000000   \n",
       "\n",
       "       ...     drinksafe      makesafe      wcooking        whands  \\\n",
       "count  ...  14461.000000  14461.000000  14461.000000  14461.000000   \n",
       "mean   ...      2.122744      2.345135     11.769587     10.908374   \n",
       "std    ...      3.610028      3.629395     15.092312     12.844725   \n",
       "min    ...      0.000000      0.000000      1.000000      1.000000   \n",
       "25%    ...      0.000000      0.000000      2.000000      1.000000   \n",
       "50%    ...      0.000000      0.000000      8.000000      5.000000   \n",
       "75%    ...      1.000000      4.000000     13.000000     13.000000   \n",
       "max    ...      9.000000      9.000000     91.000000     91.000000   \n",
       "\n",
       "            collect          burn    composting          dump     segregate  \\\n",
       "count  14461.000000  14461.000000  14461.000000  14461.000000  14461.000000   \n",
       "mean       0.463453      0.407372      0.231104      0.192310      0.625199   \n",
       "std        0.498680      0.491362      0.421554      0.394129      0.484088   \n",
       "min        0.000000      0.000000      0.000000      0.000000      0.000000   \n",
       "25%        0.000000      0.000000      0.000000      0.000000      0.000000   \n",
       "50%        0.000000      0.000000      0.000000      0.000000      1.000000   \n",
       "75%        1.000000      1.000000      0.000000      0.000000      1.000000   \n",
       "max        1.000000      1.000000      1.000000      1.000000      1.000000   \n",
       "\n",
       "           stunting  \n",
       "count  14461.000000  \n",
       "mean       0.324805  \n",
       "std        0.468318  \n",
       "min        0.000000  \n",
       "25%        0.000000  \n",
       "50%        0.000000  \n",
       "75%        1.000000  \n",
       "max        1.000000  \n",
       "\n",
       "[8 rows x 41 columns]"
      ]
     },
     "execution_count": 93,
     "metadata": {},
     "output_type": "execute_result"
    }
   ],
   "source": [
    "data.describe()"
   ]
  },
  {
   "cell_type": "code",
   "execution_count": 94,
   "id": "ab3cb9af",
   "metadata": {},
   "outputs": [
    {
     "name": "stdout",
     "output_type": "stream",
     "text": [
      "<class 'pandas.core.frame.DataFrame'>\n",
      "RangeIndex: 14461 entries, 0 to 14460\n",
      "Data columns (total 41 columns):\n",
      " #   Column           Non-Null Count  Dtype\n",
      "---  ------           --------------  -----\n",
      " 0   age_child        14461 non-null  int64\n",
      " 1   agemos           14461 non-null  int64\n",
      " 2   AgeGroup         14461 non-null  int64\n",
      " 3   sex_child        14461 non-null  int64\n",
      " 4   gastation        14461 non-null  int64\n",
      " 5   place_delivery   14461 non-null  int64\n",
      " 6   assistd          14461 non-null  int64\n",
      " 7   typeofd          14461 non-null  int64\n",
      " 8   pregtype         14461 non-null  int64\n",
      " 9   bw_grams         14461 non-null  int64\n",
      " 10  bw_status        14461 non-null  int64\n",
      " 11  ethnicity        14461 non-null  int64\n",
      " 12  age_mom          14461 non-null  int64\n",
      " 13  agegroup_mom     14461 non-null  int64\n",
      " 14  csc_mom          14461 non-null  int64\n",
      " 15  psccat_mom       14461 non-null  int64\n",
      " 16  educ_mom         14461 non-null  int64\n",
      " 17  occup_mom        14461 non-null  int64\n",
      " 18  work_status_mom  14461 non-null  int64\n",
      " 19  age_hh           14461 non-null  int64\n",
      " 20  agegroup_HH      14461 non-null  int64\n",
      " 21  sex_hh           14461 non-null  int64\n",
      " 22  educ_hh          14461 non-null  int64\n",
      " 23  psoc_hh          14461 non-null  int64\n",
      " 24  work_status_hh   14461 non-null  int64\n",
      " 25  urbanity         14461 non-null  int64\n",
      " 26  hhsize           14461 non-null  int64\n",
      " 27  hhsize_code      14461 non-null  int64\n",
      " 28  drinkingwater    14461 non-null  int64\n",
      " 29  recipient_4ps    14461 non-null  int64\n",
      " 30  toilet           14461 non-null  int64\n",
      " 31  drinksafe        14461 non-null  int64\n",
      " 32  makesafe         14461 non-null  int64\n",
      " 33  wcooking         14461 non-null  int64\n",
      " 34  whands           14461 non-null  int64\n",
      " 35  collect          14461 non-null  int64\n",
      " 36  burn             14461 non-null  int64\n",
      " 37  composting       14461 non-null  int64\n",
      " 38  dump             14461 non-null  int64\n",
      " 39  segregate        14461 non-null  int64\n",
      " 40  stunting         14461 non-null  int64\n",
      "dtypes: int64(41)\n",
      "memory usage: 4.5 MB\n"
     ]
    }
   ],
   "source": [
    "data.info()"
   ]
  },
  {
   "cell_type": "code",
   "execution_count": 95,
   "id": "a45eb425",
   "metadata": {},
   "outputs": [
    {
     "data": {
      "text/plain": [
       "age_child          0\n",
       "agemos             0\n",
       "AgeGroup           0\n",
       "sex_child          0\n",
       "gastation          0\n",
       "place_delivery     0\n",
       "assistd            0\n",
       "typeofd            0\n",
       "pregtype           0\n",
       "bw_grams           0\n",
       "bw_status          0\n",
       "ethnicity          0\n",
       "age_mom            0\n",
       "agegroup_mom       0\n",
       "csc_mom            0\n",
       "psccat_mom         0\n",
       "educ_mom           0\n",
       "occup_mom          0\n",
       "work_status_mom    0\n",
       "age_hh             0\n",
       "agegroup_HH        0\n",
       "sex_hh             0\n",
       "educ_hh            0\n",
       "psoc_hh            0\n",
       "work_status_hh     0\n",
       "urbanity           0\n",
       "hhsize             0\n",
       "hhsize_code        0\n",
       "drinkingwater      0\n",
       "recipient_4ps      0\n",
       "toilet             0\n",
       "drinksafe          0\n",
       "makesafe           0\n",
       "wcooking           0\n",
       "whands             0\n",
       "collect            0\n",
       "burn               0\n",
       "composting         0\n",
       "dump               0\n",
       "segregate          0\n",
       "stunting           0\n",
       "dtype: int64"
      ]
     },
     "execution_count": 95,
     "metadata": {},
     "output_type": "execute_result"
    }
   ],
   "source": [
    "#here we check if there is missing values or not \n",
    "data.isnull().sum()"
   ]
  },
  {
   "cell_type": "code",
   "execution_count": 96,
   "id": "7b4a0107",
   "metadata": {},
   "outputs": [],
   "source": [
    "df=data.copy() #copy of our data "
   ]
  },
  {
   "cell_type": "code",
   "execution_count": 97,
   "id": "f9959b47",
   "metadata": {},
   "outputs": [
    {
     "data": {
      "text/plain": [
       "<AxesSubplot:>"
      ]
     },
     "execution_count": 97,
     "metadata": {},
     "output_type": "execute_result"
    },
    {
     "data": {
      "image/png": "[encoded data removed]",
      "text/plain": [
       "<Figure size 432x288 with 1 Axes>"
      ]
     },
     "metadata": {},
     "output_type": "display_data"
    }
   ],
   "source": [
    "sns.heatmap(df.isnull(), yticklabels=False, cbar=False, cmap='viridis')"
   ]
  },
  {
   "cell_type": "code",
   "execution_count": 98,
   "id": "5c653865",
   "metadata": {},
   "outputs": [
    {
     "data": {
      "image/png": "[encoded data removed]",
      "text/plain": [
       "<Figure size 432x288 with 1 Axes>"
      ]
     },
     "metadata": {},
     "output_type": "display_data"
    }
   ],
   "source": [
    "data = df[\"stunting\"].value_counts()\n",
    "labels = df[\"stunting\"].value_counts().index\n",
    "\n",
    "palette_color = sns.color_palette('bright')\n",
    "plt.pie(data, labels=labels, colors=palette_color, autopct='%.0f%%')\n",
    "plt.title(\"The percentage of stunting 0: Normal, 1: Stunted\");\n",
    "#There is 201 null BMI values on the dataset. Additionally the data is imbalance therefore we need to solve these issues for better results."
   ]
  },
  {
   "cell_type": "code",
   "execution_count": 99,
   "id": "b2877945",
   "metadata": {},
   "outputs": [
    {
     "data": {
      "image/png": "[encoded data removed]",
      "text/plain": [
       "<Figure size 2520x432 with 7 Axes>"
      ]
     },
     "metadata": {},
     "output_type": "display_data"
    }
   ],
   "source": [
    "# Set seaborn style palette\n",
    "sns.set_theme(style=\"darkgrid\", palette=\"icefire\")\n",
    "\n",
    "# Array of columns that we would like to plot\n",
    "cols = ['bw_grams','psoc_hh','age_hh',\n",
    "           'whands','psccat_mom','drinkingwater','educ_mom']\n",
    "\n",
    "# Instantiate figure and axes for as many subplots as the columns in question\n",
    "fig, ax = plt.subplots(ncols=len(cols), figsize=(5 * len(cols),6), sharex = True)\n",
    "\n",
    "# Draw a Boxen Plot for each column in question\n",
    "for i in range(len(cols)):\n",
    "  (sns.boxenplot(y=df[cols[i]],data=df, showfliers=True,ax=ax[i])).set(xlabel=cols[i])"
   ]
  },
  {
   "cell_type": "code",
   "execution_count": 100,
   "id": "efe2e3cd",
   "metadata": {},
   "outputs": [
    {
     "data": {
      "text/plain": [
       "<seaborn.axisgrid.FacetGrid at 0x175ac1fdb80>"
      ]
     },
     "execution_count": 100,
     "metadata": {},
     "output_type": "execute_result"
    },
    {
     "data": {
      "image/png": "[encoded data removed]",
      "text/plain": [
       "<Figure size 360x360 with 1 Axes>"
      ]
     },
     "metadata": {},
     "output_type": "display_data"
    }
   ],
   "source": [
    "sns.catplot(data=df, x=\"stunting\", y=\"bw_grams\", kind=\"box\") #checking for outliers"
   ]
  },
  {
   "cell_type": "code",
   "execution_count": 101,
   "id": "6f72ec7a",
   "metadata": {},
   "outputs": [],
   "source": [
    "indexAge = data[((df['bw_grams'] < 2000) & (df['stunting'] == 0)) ].index\n",
    "data.drop(indexAge , inplace=True)\n",
    "\n",
    "indexAge = data[((df['bw_grams'] > 4100) & (df['stunting'] == 0)) ].index\n",
    "data.drop(indexAge , inplace=True)\n",
    "\n",
    "indexAge = data[((df['bw_grams'] < 1800) & (df['stunting'] == 1)) ].index\n",
    "data.drop(indexAge , inplace=True)\n",
    "\n",
    "indexAge = data[((df['bw_grams'] > 4000) & (df['stunting'] == 1)) ].index\n",
    "data.drop(indexAge , inplace=True)"
   ]
  },
  {
   "cell_type": "code",
   "execution_count": 102,
   "id": "36872df4",
   "metadata": {},
   "outputs": [
    {
     "data": {
      "text/plain": [
       "<seaborn.axisgrid.FacetGrid at 0x175ac2461f0>"
      ]
     },
     "execution_count": 102,
     "metadata": {},
     "output_type": "execute_result"
    },
    {
     "data": {
      "image/png": "[encoded data removed]",
      "text/plain": [
       "<Figure size 360x360 with 1 Axes>"
      ]
     },
     "metadata": {},
     "output_type": "display_data"
    }
   ],
   "source": [
    "sns.catplot(data=df, x=\"stunting\", y=\"psoc_hh\", kind=\"box\") #checking for outliers"
   ]
  },
  {
   "cell_type": "code",
   "execution_count": 103,
   "id": "4d9fb1cd",
   "metadata": {},
   "outputs": [],
   "source": [
    "indexAge = data[((df['psoc_hh'] < 5) & (df['stunting'] == 0)) ].index\n",
    "data.drop(indexAge , inplace=True)\n",
    "\n",
    "indexAge = data[((df['psoc_hh'] > 80) & (df['stunting'] == 0)) ].index\n",
    "data.drop(indexAge , inplace=True)\n",
    "\n",
    "indexAge = data[((df['psoc_hh'] < 5) & (df['stunting'] == 1)) ].index\n",
    "data.drop(indexAge , inplace=True)\n",
    "\n",
    "indexAge = data[((df['psoc_hh'] > 80) & (df['stunting'] == 1)) ].index\n",
    "data.drop(indexAge , inplace=True)"
   ]
  },
  {
   "cell_type": "code",
   "execution_count": 104,
   "id": "0d81106d",
   "metadata": {},
   "outputs": [
    {
     "data": {
      "text/plain": [
       "<seaborn.axisgrid.FacetGrid at 0x175c0ebd040>"
      ]
     },
     "execution_count": 104,
     "metadata": {},
     "output_type": "execute_result"
    },
    {
     "data": {
      "image/png": "[encoded data removed]",
      "text/plain": [
       "<Figure size 360x360 with 1 Axes>"
      ]
     },
     "metadata": {},
     "output_type": "display_data"
    }
   ],
   "source": [
    "sns.catplot(data=df, x=\"stunting\", y=\"age_hh\", kind=\"box\") #checking for outliers"
   ]
  },
  {
   "cell_type": "code",
   "execution_count": 105,
   "id": "9891fc5c",
   "metadata": {},
   "outputs": [],
   "source": [
    "indexAge = data[((df['age_hh'] > 85) & (df['stunting'] == 0)) ].index\n",
    "data.drop(indexAge , inplace=True)\n",
    "\n",
    "indexAge = data[((df['age_hh'] > 73) & (df['stunting'] == 1)) ].index\n",
    "data.drop(indexAge , inplace=True)"
   ]
  },
  {
   "cell_type": "code",
   "execution_count": 106,
   "id": "b92ac29e",
   "metadata": {},
   "outputs": [
    {
     "data": {
      "text/plain": [
       "<seaborn.axisgrid.FacetGrid at 0x175abe68f40>"
      ]
     },
     "execution_count": 106,
     "metadata": {},
     "output_type": "execute_result"
    },
    {
     "data": {
      "image/png": "[encoded data removed]",
      "text/plain": [
       "<Figure size 360x360 with 1 Axes>"
      ]
     },
     "metadata": {},
     "output_type": "display_data"
    }
   ],
   "source": [
    "sns.catplot(data=df, x=\"stunting\", y=\"whands\", kind=\"box\") #checking for outliers"
   ]
  },
  {
   "cell_type": "code",
   "execution_count": 107,
   "id": "b0e37851",
   "metadata": {},
   "outputs": [],
   "source": [
    "indexAge = data[((df['whands'] > 30) & (df['stunting'] == 0)) ].index\n",
    "data.drop(indexAge , inplace=True)\n",
    "\n",
    "indexAge = data[((df['whands'] > 41) & (df['stunting'] == 1)) ].index\n",
    "data.drop(indexAge , inplace=True)"
   ]
  },
  {
   "cell_type": "code",
   "execution_count": 108,
   "id": "6fbf414e",
   "metadata": {},
   "outputs": [
    {
     "data": {
      "text/plain": [
       "<seaborn.axisgrid.FacetGrid at 0x175aa6d9820>"
      ]
     },
     "execution_count": 108,
     "metadata": {},
     "output_type": "execute_result"
    },
    {
     "data": {
      "image/png": "[encoded data removed]",
      "text/plain": [
       "<Figure size 360x360 with 1 Axes>"
      ]
     },
     "metadata": {},
     "output_type": "display_data"
    }
   ],
   "source": [
    "sns.catplot(data=df, x=\"stunting\", y=\"psccat_mom\", kind=\"box\") #checking for outliers"
   ]
  },
  {
   "cell_type": "code",
   "execution_count": 109,
   "id": "a550c78c",
   "metadata": {},
   "outputs": [
    {
     "data": {
      "text/plain": [
       "<seaborn.axisgrid.FacetGrid at 0x175aa756ac0>"
      ]
     },
     "execution_count": 109,
     "metadata": {},
     "output_type": "execute_result"
    },
    {
     "data": {
      "image/png": "[encoded data removed]",
      "text/plain": [
       "<Figure size 360x360 with 1 Axes>"
      ]
     },
     "metadata": {},
     "output_type": "display_data"
    }
   ],
   "source": [
    "sns.catplot(data=df, x=\"stunting\", y=\"drinkingwater\", kind=\"box\") #checking for outliers"
   ]
  },
  {
   "cell_type": "code",
   "execution_count": 110,
   "id": "51df4d0b",
   "metadata": {},
   "outputs": [
    {
     "data": {
      "text/plain": [
       "<seaborn.axisgrid.FacetGrid at 0x175aa6a2610>"
      ]
     },
     "execution_count": 110,
     "metadata": {},
     "output_type": "execute_result"
    },
    {
     "data": {
      "image/png": "[encoded data removed]",
      "text/plain": [
       "<Figure size 360x360 with 1 Axes>"
      ]
     },
     "metadata": {},
     "output_type": "display_data"
    }
   ],
   "source": [
    "sns.catplot(data=df, x=\"stunting\", y=\"educ_mom\", kind=\"box\") #checking for outliers"
   ]
  },
  {
   "cell_type": "code",
   "execution_count": 111,
   "id": "fe886dda",
   "metadata": {},
   "outputs": [],
   "source": [
    "indexAge = data[((df['educ_mom'] < 0) & (df['stunting'] == 0)) ].index\n",
    "data.drop(indexAge , inplace=True)\n",
    "\n",
    "indexAge = data[((df['educ_mom'] > 4) & (df['stunting'] == 1)) ].index\n",
    "data.drop(indexAge , inplace=True)"
   ]
  },
  {
   "cell_type": "code",
   "execution_count": 112,
   "id": "b836bc3f",
   "metadata": {},
   "outputs": [
    {
     "name": "stdout",
     "output_type": "stream",
     "text": [
      "0    9764\n",
      "1    4697\n",
      "Name: stunting, dtype: int64\n"
     ]
    },
    {
     "data": {
      "text/plain": [
       "<AxesSubplot:>"
      ]
     },
     "execution_count": 112,
     "metadata": {},
     "output_type": "execute_result"
    },
    {
     "data": {
      "image/png": "[encoded data removed]",
      "text/plain": [
       "<Figure size 432x288 with 1 Axes>"
      ]
     },
     "metadata": {},
     "output_type": "display_data"
    }
   ],
   "source": [
    "##### show the value counts of the calsses in the target\n",
    "#we can find data impalance\n",
    "print(df['stunting'].value_counts())\n",
    "df['stunting'].value_counts().sort_index().plot.bar()"
   ]
  },
  {
   "cell_type": "code",
   "execution_count": 113,
   "id": "fffe53ab",
   "metadata": {},
   "outputs": [],
   "source": [
    "from sklearn.model_selection import train_test_split\n",
    "from sklearn.ensemble import RandomForestClassifier\n",
    "from sklearn import metrics\n",
    "from sklearn.metrics import accuracy_score\n",
    "from sklearn.metrics import confusion_matrix"
   ]
  },
  {
   "cell_type": "code",
   "execution_count": 114,
   "id": "d46b81f4",
   "metadata": {},
   "outputs": [],
   "source": [
    "X = df[[\"bw_grams\",\"psoc_hh\",\"age_hh\",\n",
    "           \"whands\",\"psccat_mom\"]]\n",
    "y = df[\"stunting\"].to_frame()"
   ]
  },
  {
   "cell_type": "code",
   "execution_count": 115,
   "id": "059496f4",
   "metadata": {},
   "outputs": [],
   "source": [
    "X_train, x_test, y_train , y_test = train_test_split(X,y, test_size=0.25 , random_state=42)"
   ]
  },
  {
   "cell_type": "code",
   "execution_count": 116,
   "id": "7d219b1f",
   "metadata": {},
   "outputs": [],
   "source": [
    "from imblearn.over_sampling import RandomOverSampler\n",
    "oversample = RandomOverSampler(sampling_strategy='minority')\n",
    "X = df[[\"bw_grams\",\"psoc_hh\",\"age_hh\",\n",
    "           \"whands\",\"psccat_mom\"]]\n",
    "y = df[\"stunting\"]\n",
    "X_over, y_over = oversample.fit_resample(X, y)"
   ]
  },
  {
   "cell_type": "code",
   "execution_count": 117,
   "id": "43c89189",
   "metadata": {},
   "outputs": [],
   "source": [
    "# Apply oversampling\n",
    "oversample = SMOTE()\n",
    "X_balanced, y_balanced = oversample.fit_resample(X, y.ravel())"
   ]
  },
  {
   "cell_type": "code",
   "execution_count": 118,
   "id": "dfd8925f",
   "metadata": {},
   "outputs": [
    {
     "name": "stdout",
     "output_type": "stream",
     "text": [
      "1    9764\n",
      "0    9764\n",
      "Name: stunting, dtype: int64\n"
     ]
    },
    {
     "data": {
      "text/plain": [
       "<AxesSubplot:>"
      ]
     },
     "execution_count": 118,
     "metadata": {},
     "output_type": "execute_result"
    },
    {
     "data": {
      "image/png": "[encoded data removed]",
      "text/plain": [
       "<Figure size 432x288 with 1 Axes>"
      ]
     },
     "metadata": {},
     "output_type": "display_data"
    }
   ],
   "source": [
    "print(y_over.value_counts())\n",
    "y_over.value_counts().sort_index().plot.bar()"
   ]
  },
  {
   "cell_type": "markdown",
   "id": "ccaabf8e",
   "metadata": {},
   "source": [
    "# MODELING "
   ]
  },
  {
   "cell_type": "code",
   "execution_count": 119,
   "id": "d60da1b2",
   "metadata": {},
   "outputs": [],
   "source": [
    "from sklearn.model_selection import train_test_split, RandomizedSearchCV, cross_val_score\n",
    "from sklearn.tree import DecisionTreeClassifier\n",
    "from sklearn.svm import SVC\n",
    "from sklearn.metrics import accuracy_score, confusion_matrix, ConfusionMatrixDisplay\n",
    "import xgboost as xgb\n",
    "from sklearn.metrics import accuracy_score\n",
    "from sklearn.metrics import confusion_matrix\n",
    "from sklearn.metrics import classification_report\n",
    "from sklearn.metrics import precision_score\n",
    "from sklearn.model_selection import cross_validate\n",
    "from sklearn.model_selection import cross_val_predict\n",
    "import scikitplot as skplt"
   ]
  },
  {
   "cell_type": "markdown",
   "id": "4afbd8ed",
   "metadata": {},
   "source": [
    "# XGBOOST MODEL"
   ]
  },
  {
   "cell_type": "code",
   "execution_count": 120,
   "id": "9642890f",
   "metadata": {},
   "outputs": [
    {
     "name": "stdout",
     "output_type": "stream",
     "text": [
      "0.6839922163047931\n",
      "0.6573561946902655\n",
      "Precision: 0.471\n",
      "Recall: 0.602\n",
      "F-measure: 0.528\n",
      "ROC AUC Score: 0.7074515491899365\n"
     ]
    }
   ],
   "source": [
    "xgb = XGBClassifier(eval_metric= 'error', learning_rate= 0.1, random_state=0)\n",
    "xgb.fit(X_balanced, y_balanced)\n",
    "\n",
    "y_pred_train_xgb = xgb.predict(X_balanced)\n",
    "acc_train_xgb = accuracy_score(y_balanced, y_pred_train_xgb)\n",
    "\n",
    "y_pred_test_xgb = xgb.predict(x_test)\n",
    "acc_test_xgb = accuracy_score(y_test, y_pred_test_xgb)\n",
    "\n",
    "print(acc_train_xgb)\n",
    "print(acc_test_xgb)\n",
    "\n",
    "xgb_perc_score = precision_score(y_test, y_pred_test_xgb)\n",
    "xgb_rec_score= recall_score(y_test, y_pred_test_xgb)\n",
    "xgb_f1_score = f1_score(y_test, y_pred_test_xgb)\n",
    "\n",
    "print('Precision: %.3f' %xgb_perc_score )\n",
    "print('Recall: %.3f' % xgb_rec_score)\n",
    "print('F-measure: %.3f' % xgb_f1_score)\n",
    "\n",
    "y_pred_prob_xgb = xgb.predict_proba(x_test)[:, 1]\n",
    "xgb_roc_auc_score = roc_auc_score(y_test, y_pred_prob_xgb)\n",
    "print('ROC AUC Score:', xgb_roc_auc_score)"
   ]
  },
  {
   "cell_type": "code",
   "execution_count": 121,
   "id": "4827c5e8",
   "metadata": {},
   "outputs": [
    {
     "data": {
      "image/png": "[encoded data removed]",
      "text/plain": [
       "<Figure size 432x432 with 2 Axes>"
      ]
     },
     "metadata": {},
     "output_type": "display_data"
    }
   ],
   "source": [
    "skplt.metrics.plot_confusion_matrix(y_test, y_pred_test_xgb, figsize=(6,6), cmap= 'YlGnBu');"
   ]
  },
  {
   "cell_type": "code",
   "execution_count": 122,
   "id": "b9da483a",
   "metadata": {},
   "outputs": [
    {
     "data": {
      "image/png": "[encoded data removed]",
      "text/plain": [
       "<Figure size 576x576 with 1 Axes>"
      ]
     },
     "metadata": {},
     "output_type": "display_data"
    }
   ],
   "source": [
    "false_positive_rate, true_positive_rate, thresholds = roc_curve(y_test, y_pred_prob_xgb)\n",
    "roc_auc = auc(false_positive_rate, true_positive_rate)\n",
    "\n",
    "sns.set_theme(style = 'white')\n",
    "plt.figure(figsize = (8, 8))\n",
    "plt.plot(false_positive_rate,true_positive_rate, color = '#b01717', label = 'AUC = %0.3f' % roc_auc)\n",
    "plt.legend(loc = 'lower right')\n",
    "plt.plot([0, 1], [0, 1], linestyle = '--', color = '#174ab0')\n",
    "plt.axis('tight')\n",
    "plt.ylabel('True Positive Rate')\n",
    "plt.xlabel('False Positive Rate')\n",
    "plt.legend()\n",
    "plt.show()"
   ]
  },
  {
   "cell_type": "markdown",
   "id": "11ab3e4d",
   "metadata": {},
   "source": [
    "# SVM MODEL"
   ]
  },
  {
   "cell_type": "code",
   "execution_count": 123,
   "id": "7b4502fd",
   "metadata": {},
   "outputs": [
    {
     "name": "stdout",
     "output_type": "stream",
     "text": [
      "0.9652294141745187\n",
      "0.9676438053097345\n",
      "Precision: 0.956\n",
      "Recall: 0.942\n",
      "F-measure: 0.949\n",
      "ROC AUC Score: 0.9868802421545729\n"
     ]
    }
   ],
   "source": [
    "svc = SVC(C=10, gamma=1000 ,probability= True)\n",
    "svc.fit(X_balanced, y_balanced)\n",
    "\n",
    "y_pred_train_svc = svc.predict(X_balanced)\n",
    "acc_train_svc = accuracy_score(y_balanced, y_pred_train_svc)\n",
    "\n",
    "y_pred_test_svc = svc.predict(x_test)\n",
    "acc_test_svc = accuracy_score(y_test, y_pred_test_svc)\n",
    "\n",
    "print(acc_train_svc)\n",
    "print(acc_test_svc)\n",
    "\n",
    "svc_perc_score = precision_score(y_test, y_pred_test_svc)\n",
    "svc_rec_score= recall_score(y_test, y_pred_test_svc)\n",
    "svc_f1_score = f1_score(y_test, y_pred_test_svc)\n",
    "\n",
    "print('Precision: %.3f' % svc_perc_score)\n",
    "print('Recall: %.3f' % svc_rec_score)\n",
    "print('F-measure: %.3f' % svc_f1_score)\n",
    "\n",
    "y_pred_prob_svc = svc.predict_proba(x_test)[:, 1]\n",
    "svc_roc_auc_score=  roc_auc_score(y_test, y_pred_prob_svc)\n",
    "print('ROC AUC Score:', svc_roc_auc_score)"
   ]
  },
  {
   "cell_type": "code",
   "execution_count": 124,
   "id": "51073e0b",
   "metadata": {},
   "outputs": [
    {
     "data": {
      "text/html": [
       "<div>\n",
       "<style scoped>\n",
       "    .dataframe tbody tr th:only-of-type {\n",
       "        vertical-align: middle;\n",
       "    }\n",
       "\n",
       "    .dataframe tbody tr th {\n",
       "        vertical-align: top;\n",
       "    }\n",
       "\n",
       "    .dataframe thead th {\n",
       "        text-align: right;\n",
       "    }\n",
       "</style>\n",
       "<table border=\"1\" class=\"dataframe\">\n",
       "  <thead>\n",
       "    <tr style=\"text-align: right;\">\n",
       "      <th></th>\n",
       "      <th>bw_grams</th>\n",
       "      <th>psoc_hh</th>\n",
       "      <th>age_hh</th>\n",
       "      <th>whands</th>\n",
       "      <th>psccat_mom</th>\n",
       "    </tr>\n",
       "  </thead>\n",
       "  <tbody>\n",
       "    <tr>\n",
       "      <th>2900</th>\n",
       "      <td>3200</td>\n",
       "      <td>9</td>\n",
       "      <td>40</td>\n",
       "      <td>1</td>\n",
       "      <td>0</td>\n",
       "    </tr>\n",
       "    <tr>\n",
       "      <th>13523</th>\n",
       "      <td>2800</td>\n",
       "      <td>6</td>\n",
       "      <td>65</td>\n",
       "      <td>11</td>\n",
       "      <td>0</td>\n",
       "    </tr>\n",
       "    <tr>\n",
       "      <th>10043</th>\n",
       "      <td>2800</td>\n",
       "      <td>8</td>\n",
       "      <td>26</td>\n",
       "      <td>11</td>\n",
       "      <td>2</td>\n",
       "    </tr>\n",
       "    <tr>\n",
       "      <th>7900</th>\n",
       "      <td>3000</td>\n",
       "      <td>9</td>\n",
       "      <td>65</td>\n",
       "      <td>13</td>\n",
       "      <td>2</td>\n",
       "    </tr>\n",
       "    <tr>\n",
       "      <th>3479</th>\n",
       "      <td>2500</td>\n",
       "      <td>8</td>\n",
       "      <td>38</td>\n",
       "      <td>2</td>\n",
       "      <td>2</td>\n",
       "    </tr>\n",
       "  </tbody>\n",
       "</table>\n",
       "</div>"
      ],
      "text/plain": [
       "       bw_grams  psoc_hh  age_hh  whands  psccat_mom\n",
       "2900       3200        9      40       1           0\n",
       "13523      2800        6      65      11           0\n",
       "10043      2800        8      26      11           2\n",
       "7900       3000        9      65      13           2\n",
       "3479       2500        8      38       2           2"
      ]
     },
     "execution_count": 124,
     "metadata": {},
     "output_type": "execute_result"
    }
   ],
   "source": [
    "x_test.head()"
   ]
  },
  {
   "cell_type": "code",
   "execution_count": 125,
   "id": "a9753802",
   "metadata": {},
   "outputs": [
    {
     "data": {
      "image/png": "[encoded data removed]",
      "text/plain": [
       "<Figure size 432x432 with 2 Axes>"
      ]
     },
     "metadata": {},
     "output_type": "display_data"
    }
   ],
   "source": [
    "skplt.metrics.plot_confusion_matrix(y_test, y_pred_test_svc, figsize=(6,6), cmap= 'YlGnBu');"
   ]
  },
  {
   "cell_type": "code",
   "execution_count": 126,
   "id": "c744e368",
   "metadata": {},
   "outputs": [
    {
     "data": {
      "image/png": "[encoded data removed]",
      "text/plain": [
       "<Figure size 576x576 with 1 Axes>"
      ]
     },
     "metadata": {},
     "output_type": "display_data"
    }
   ],
   "source": [
    "false_positive_rate, true_positive_rate, thresholds = roc_curve(y_test, y_pred_prob_svc)\n",
    "roc_auc = auc(false_positive_rate, true_positive_rate)\n",
    "\n",
    "sns.set_theme(style = 'white')\n",
    "plt.figure(figsize = (8, 8))\n",
    "plt.plot(false_positive_rate,true_positive_rate, color = '#b01717', label = 'AUC = %0.3f' % roc_auc)\n",
    "plt.legend(loc = 'lower right')\n",
    "plt.plot([0, 1], [0, 1], linestyle = '--', color = '#174ab0')\n",
    "plt.axis('tight')\n",
    "plt.ylabel('True Positive Rate')\n",
    "plt.xlabel('False Positive Rate')\n",
    "plt.legend()\n",
    "plt.show()"
   ]
  },
  {
   "cell_type": "markdown",
   "id": "eccdfe5f",
   "metadata": {},
   "source": [
    "# DECISION TREE MODEL"
   ]
  },
  {
   "cell_type": "code",
   "execution_count": 127,
   "id": "e03c3bf6",
   "metadata": {},
   "outputs": [
    {
     "name": "stdout",
     "output_type": "stream",
     "text": [
      "0.6933633756657108\n",
      "0.6722898230088495\n",
      "Precision: 0.490\n",
      "Recall: 0.692\n",
      "F-measure: 0.574\n",
      "ROC AUC Score: 0.7492389533350308\n"
     ]
    }
   ],
   "source": [
    "dt =DecisionTreeClassifier(max_features=5 , max_depth=12,criterion = 'entropy', random_state=0)\n",
    "dt.fit(X_balanced, y_balanced)\n",
    "\n",
    "y_pred_train_dt = dt.predict(X_balanced)\n",
    "acc_train_dt = accuracy_score(y_balanced, y_pred_train_dt)\n",
    "\n",
    "y_pred_test_dt = dt.predict(x_test)\n",
    "acc_test_dt = accuracy_score(y_test, y_pred_test_dt)\n",
    "print(acc_train_dt)\n",
    "print(acc_test_dt)\n",
    "\n",
    "dt_perc_score = precision_score(y_test, y_pred_test_dt)\n",
    "dt_rec_score= recall_score(y_test, y_pred_test_dt)\n",
    "dt_f1_score = f1_score(y_test, y_pred_test_dt)\n",
    "\n",
    "print('Precision: %.3f' % dt_perc_score)\n",
    "print('Recall: %.3f' % dt_rec_score)\n",
    "print('F-measure: %.3f' % dt_f1_score)\n",
    "\n",
    "y_pred_prob_dt = dt.predict_proba(x_test)[:, 1]\n",
    "dt_roc_auc_score = roc_auc_score(y_test, y_pred_prob_dt)\n",
    "print('ROC AUC Score:', dt_roc_auc_score)"
   ]
  },
  {
   "cell_type": "code",
   "execution_count": 128,
   "id": "51895748",
   "metadata": {},
   "outputs": [
    {
     "data": {
      "text/plain": [
       "<AxesSubplot:title={'center':'Confusion Matrix'}, xlabel='Predicted label', ylabel='True label'>"
      ]
     },
     "execution_count": 128,
     "metadata": {},
     "output_type": "execute_result"
    },
    {
     "data": {
      "image/png": "[encoded data removed]",
      "text/plain": [
       "<Figure size 432x432 with 2 Axes>"
      ]
     },
     "metadata": {},
     "output_type": "display_data"
    }
   ],
   "source": [
    "skplt.metrics.plot_confusion_matrix(y_test, y_pred_test_dt, figsize=(6,6), cmap= 'YlGnBu')"
   ]
  },
  {
   "cell_type": "markdown",
   "id": "b199b020",
   "metadata": {},
   "source": [
    "# RANDOM FOREST CLASSIFIER"
   ]
  },
  {
   "cell_type": "code",
   "execution_count": 184,
   "id": "4968da19",
   "metadata": {},
   "outputs": [
    {
     "data": {
      "text/html": [
       "<style>#sk-container-id-9 {color: black;background-color: white;}#sk-container-id-9 pre{padding: 0;}#sk-container-id-9 div.sk-toggleable {background-color: white;}#sk-container-id-9 label.sk-toggleable__label {cursor: pointer;display: block;width: 100%;margin-bottom: 0;padding: 0.3em;box-sizing: border-box;text-align: center;}#sk-container-id-9 label.sk-toggleable__label-arrow:before {content: \"▸\";float: left;margin-right: 0.25em;color: #696969;}#sk-container-id-9 label.sk-toggleable__label-arrow:hover:before {color: black;}#sk-container-id-9 div.sk-estimator:hover label.sk-toggleable__label-arrow:before {color: black;}#sk-container-id-9 div.sk-toggleable__content {max-height: 0;max-width: 0;overflow: hidden;text-align: left;background-color: #f0f8ff;}#sk-container-id-9 div.sk-toggleable__content pre {margin: 0.2em;color: black;border-radius: 0.25em;background-color: #f0f8ff;}#sk-container-id-9 input.sk-toggleable__control:checked~div.sk-toggleable__content {max-height: 200px;max-width: 100%;overflow: auto;}#sk-container-id-9 input.sk-toggleable__control:checked~label.sk-toggleable__label-arrow:before {content: \"▾\";}#sk-container-id-9 div.sk-estimator input.sk-toggleable__control:checked~label.sk-toggleable__label {background-color: #d4ebff;}#sk-container-id-9 div.sk-label input.sk-toggleable__control:checked~label.sk-toggleable__label {background-color: #d4ebff;}#sk-container-id-9 input.sk-hidden--visually {border: 0;clip: rect(1px 1px 1px 1px);clip: rect(1px, 1px, 1px, 1px);height: 1px;margin: -1px;overflow: hidden;padding: 0;position: absolute;width: 1px;}#sk-container-id-9 div.sk-estimator {font-family: monospace;background-color: #f0f8ff;border: 1px dotted black;border-radius: 0.25em;box-sizing: border-box;margin-bottom: 0.5em;}#sk-container-id-9 div.sk-estimator:hover {background-color: #d4ebff;}#sk-container-id-9 div.sk-parallel-item::after {content: \"\";width: 100%;border-bottom: 1px solid gray;flex-grow: 1;}#sk-container-id-9 div.sk-label:hover label.sk-toggleable__label {background-color: #d4ebff;}#sk-container-id-9 div.sk-serial::before {content: \"\";position: absolute;border-left: 1px solid gray;box-sizing: border-box;top: 0;bottom: 0;left: 50%;z-index: 0;}#sk-container-id-9 div.sk-serial {display: flex;flex-direction: column;align-items: center;background-color: white;padding-right: 0.2em;padding-left: 0.2em;position: relative;}#sk-container-id-9 div.sk-item {position: relative;z-index: 1;}#sk-container-id-9 div.sk-parallel {display: flex;align-items: stretch;justify-content: center;background-color: white;position: relative;}#sk-container-id-9 div.sk-item::before, #sk-container-id-9 div.sk-parallel-item::before {content: \"\";position: absolute;border-left: 1px solid gray;box-sizing: border-box;top: 0;bottom: 0;left: 50%;z-index: -1;}#sk-container-id-9 div.sk-parallel-item {display: flex;flex-direction: column;z-index: 1;position: relative;background-color: white;}#sk-container-id-9 div.sk-parallel-item:first-child::after {align-self: flex-end;width: 50%;}#sk-container-id-9 div.sk-parallel-item:last-child::after {align-self: flex-start;width: 50%;}#sk-container-id-9 div.sk-parallel-item:only-child::after {width: 0;}#sk-container-id-9 div.sk-dashed-wrapped {border: 1px dashed gray;margin: 0 0.4em 0.5em 0.4em;box-sizing: border-box;padding-bottom: 0.4em;background-color: white;}#sk-container-id-9 div.sk-label label {font-family: monospace;font-weight: bold;display: inline-block;line-height: 1.2em;}#sk-container-id-9 div.sk-label-container {text-align: center;}#sk-container-id-9 div.sk-container {/* jupyter's `normalize.less` sets `[hidden] { display: none; }` but bootstrap.min.css set `[hidden] { display: none !important; }` so we also need the `!important` here to be able to override the default hidden behavior on the sphinx rendered scikit-learn.org. See: https://github.com/scikit-learn/scikit-learn/issues/21755 */display: inline-block !important;position: relative;}#sk-container-id-9 div.sk-text-repr-fallback {display: none;}</style><div id=\"sk-container-id-9\" class=\"sk-top-container\"><div class=\"sk-text-repr-fallback\"><pre>RandomForestClassifier(criterion=&#x27;entropy&#x27;, random_state=0)</pre><b>In a Jupyter environment, please rerun this cell to show the HTML representation or trust the notebook. <br />On GitHub, the HTML representation is unable to render, please try loading this page with nbviewer.org.</b></div><div class=\"sk-container\" hidden><div class=\"sk-item\"><div class=\"sk-estimator sk-toggleable\"><input class=\"sk-toggleable__control sk-hidden--visually\" id=\"sk-estimator-id-9\" type=\"checkbox\" checked><label for=\"sk-estimator-id-9\" class=\"sk-toggleable__label sk-toggleable__label-arrow\">RandomForestClassifier</label><div class=\"sk-toggleable__content\"><pre>RandomForestClassifier(criterion=&#x27;entropy&#x27;, random_state=0)</pre></div></div></div></div></div>"
      ],
      "text/plain": [
       "RandomForestClassifier(criterion='entropy', random_state=0)"
      ]
     },
     "execution_count": 184,
     "metadata": {},
     "output_type": "execute_result"
    }
   ],
   "source": [
    "rf = RandomForestClassifier(n_estimators = 100, criterion= 'entropy', random_state = 0)\n",
    "rf.fit(X_balanced,y_balanced)"
   ]
  },
  {
   "cell_type": "code",
   "execution_count": 185,
   "id": "461d3656",
   "metadata": {},
   "outputs": [
    {
     "name": "stdout",
     "output_type": "stream",
     "text": [
      "0.9652294141745187\n",
      "0.9593473451327433\n"
     ]
    }
   ],
   "source": [
    "y_pred_train_rf = rf.predict(X_balanced)\n",
    "acc_train_rf = accuracy_score(y_balanced, y_pred_train_rf)\n",
    "\n",
    "y_pred_test_rf = rf.predict(x_test)\n",
    "acc_test_rf = accuracy_score(y_test, y_pred_test_rf)\n",
    "print(acc_train_rf)\n",
    "print(acc_test_rf)"
   ]
  },
  {
   "cell_type": "code",
   "execution_count": 186,
   "id": "d3c754a1",
   "metadata": {},
   "outputs": [
    {
     "name": "stdout",
     "output_type": "stream",
     "text": [
      "ROC AUC Score: 0.9929460789854636\n"
     ]
    }
   ],
   "source": [
    "y_pred_prob_rf = rf.predict_proba(x_test)[:, 1]\n",
    "rf_roc_auc_score = roc_auc_score(y_test, y_pred_prob_rf)\n",
    "print('ROC AUC Score:', rf_roc_auc_score)"
   ]
  },
  {
   "cell_type": "code",
   "execution_count": 187,
   "id": "18f3ce29",
   "metadata": {},
   "outputs": [
    {
     "name": "stdout",
     "output_type": "stream",
     "text": [
      "Precision: 0.914\n",
      "Recall: 0.963\n",
      "F-measure: 0.938\n"
     ]
    }
   ],
   "source": [
    "rf_perc_score = precision_score(y_test, y_pred_test_rf)\n",
    "rf_rec_score= recall_score(y_test, y_pred_test_rf)\n",
    "rf_f1_score = f1_score(y_test, y_pred_test_rf)\n",
    "\n",
    "print('Precision: %.3f' %rf_perc_score )\n",
    "print('Recall: %.3f' % rf_rec_score)\n",
    "print('F-measure: %.3f' % rf_f1_score)"
   ]
  },
  {
   "cell_type": "code",
   "execution_count": 188,
   "id": "c900230a",
   "metadata": {},
   "outputs": [
    {
     "data": {
      "text/plain": [
       "<AxesSubplot:title={'center':'Confusion Matrix'}, xlabel='Predicted label', ylabel='True label'>"
      ]
     },
     "execution_count": 188,
     "metadata": {},
     "output_type": "execute_result"
    },
    {
     "data": {
      "image/png": "[encoded data removed]",
      "text/plain": [
       "<Figure size 432x432 with 2 Axes>"
      ]
     },
     "metadata": {},
     "output_type": "display_data"
    }
   ],
   "source": [
    "skplt.metrics.plot_confusion_matrix(y_test, y_pred_test_rf, figsize=(6,6), cmap= 'YlGnBu')"
   ]
  },
  {
   "cell_type": "code",
   "execution_count": 189,
   "id": "f9f734c1",
   "metadata": {},
   "outputs": [
    {
     "data": {
      "image/png": "[encoded data removed]",
      "text/plain": [
       "<Figure size 432x360 with 2 Axes>"
      ]
     },
     "metadata": {},
     "output_type": "display_data"
    },
    {
     "name": "stdout",
     "output_type": "stream",
     "text": [
      "              precision    recall  f1-score   support\n",
      "\n",
      "           0       0.98      0.96      0.97      2463\n",
      "           1       0.91      0.96      0.94      1153\n",
      "\n",
      "    accuracy                           0.96      3616\n",
      "   macro avg       0.95      0.96      0.95      3616\n",
      "weighted avg       0.96      0.96      0.96      3616\n",
      "\n"
     ]
    }
   ],
   "source": [
    "rf_model=RandomForestClassifier(random_state=0)\n",
    "rf_model.fit(X_balanced,y_balanced)\n",
    "y_pred=rf_model.predict(x_test)\n",
    "from sklearn import metrics\n",
    "\n",
    "rf_cm = metrics.confusion_matrix(y_test, y_pred)\n",
    "plt.figure(figsize=(6,5))\n",
    "sns.heatmap(rf_cm, annot=True, fmt=\".0f\", linewidths=.5, square = True, cmap = 'BuPu');\n",
    "plt.ylabel('Actual label');\n",
    "plt.xlabel('Predicted label');\n",
    "all_sample_title = 'Confusion Matrix - score:'+str(metrics.accuracy_score(y_test,y_pred))\n",
    "plt.title(all_sample_title, size = 15);\n",
    "plt.show()\n",
    "print(metrics.classification_report(y_test,y_pred))\n",
    "rf_acc = accuracy_score(y_test,y_pred)"
   ]
  },
  {
   "cell_type": "code",
   "execution_count": 190,
   "id": "350d224e",
   "metadata": {},
   "outputs": [
    {
     "data": {
      "image/png": "[encoded data removed]",
      "text/plain": [
       "<Figure size 864x576 with 1 Axes>"
      ]
     },
     "metadata": {},
     "output_type": "display_data"
    }
   ],
   "source": [
    "Performance = pd.DataFrame(\n",
    "    data = {\n",
    "        'Model_after_resamppling': ['Random Forest','Decision Tree','XGBoost','SVClassifier'],\n",
    "        'Score': [acc_test_rf, acc_test_dt, acc_test_xgb, acc_test_svc],\n",
    "        \n",
    "        'ROC_AUC_Score': [rf_roc_auc_score, dt_roc_auc_score, xgb_roc_auc_score, svc_roc_auc_score]\n",
    "    }\n",
    ")\n",
    "\n",
    "plt.figure(figsize=(12, 8))\n",
    "ax = sns.barplot(x=\"Model_after_resamppling\", y=\"ROC_AUC_Score\", data= Performance, palette=\"YlOrBr\")\n",
    "ax.bar_label(ax.containers[0])\n",
    "plt.title('Performance analysis of different classifiers',fontsize=20)\n",
    "plt.show()"
   ]
  },
  {
   "cell_type": "code",
   "execution_count": 191,
   "id": "b807cd45",
   "metadata": {},
   "outputs": [
    {
     "data": {
      "text/html": [
       "<div>\n",
       "<style scoped>\n",
       "    .dataframe tbody tr th:only-of-type {\n",
       "        vertical-align: middle;\n",
       "    }\n",
       "\n",
       "    .dataframe tbody tr th {\n",
       "        vertical-align: top;\n",
       "    }\n",
       "\n",
       "    .dataframe thead th {\n",
       "        text-align: right;\n",
       "    }\n",
       "</style>\n",
       "<table border=\"1\" class=\"dataframe\">\n",
       "  <thead>\n",
       "    <tr style=\"text-align: right;\">\n",
       "      <th></th>\n",
       "      <th>Model_after_resamppling</th>\n",
       "      <th>Score</th>\n",
       "      <th>ROC_AUC_Score</th>\n",
       "    </tr>\n",
       "  </thead>\n",
       "  <tbody>\n",
       "    <tr>\n",
       "      <th>0</th>\n",
       "      <td>Random Forest</td>\n",
       "      <td>0.959347</td>\n",
       "      <td>0.992946</td>\n",
       "    </tr>\n",
       "    <tr>\n",
       "      <th>3</th>\n",
       "      <td>SVClassifier</td>\n",
       "      <td>0.967644</td>\n",
       "      <td>0.986880</td>\n",
       "    </tr>\n",
       "    <tr>\n",
       "      <th>1</th>\n",
       "      <td>Decision Tree</td>\n",
       "      <td>0.672290</td>\n",
       "      <td>0.749239</td>\n",
       "    </tr>\n",
       "    <tr>\n",
       "      <th>2</th>\n",
       "      <td>XGBoost</td>\n",
       "      <td>0.657356</td>\n",
       "      <td>0.707452</td>\n",
       "    </tr>\n",
       "  </tbody>\n",
       "</table>\n",
       "</div>"
      ],
      "text/plain": [
       "  Model_after_resamppling     Score  ROC_AUC_Score\n",
       "0           Random Forest  0.959347       0.992946\n",
       "3            SVClassifier  0.967644       0.986880\n",
       "1           Decision Tree  0.672290       0.749239\n",
       "2                 XGBoost  0.657356       0.707452"
      ]
     },
     "execution_count": 191,
     "metadata": {},
     "output_type": "execute_result"
    }
   ],
   "source": [
    "Performance.sort_values('ROC_AUC_Score',ascending=False)"
   ]
  },
  {
   "cell_type": "code",
   "execution_count": 155,
   "id": "c30be097",
   "metadata": {},
   "outputs": [
    {
     "data": {
      "text/html": [
       "<div>\n",
       "<style scoped>\n",
       "    .dataframe tbody tr th:only-of-type {\n",
       "        vertical-align: middle;\n",
       "    }\n",
       "\n",
       "    .dataframe tbody tr th {\n",
       "        vertical-align: top;\n",
       "    }\n",
       "\n",
       "    .dataframe thead th {\n",
       "        text-align: right;\n",
       "    }\n",
       "</style>\n",
       "<table border=\"1\" class=\"dataframe\">\n",
       "  <thead>\n",
       "    <tr style=\"text-align: right;\">\n",
       "      <th></th>\n",
       "      <th>bw_grams</th>\n",
       "      <th>psoc_hh</th>\n",
       "      <th>age_hh</th>\n",
       "      <th>whands</th>\n",
       "      <th>psccat_mom</th>\n",
       "    </tr>\n",
       "  </thead>\n",
       "  <tbody>\n",
       "    <tr>\n",
       "      <th>11131</th>\n",
       "      <td>2700</td>\n",
       "      <td>8</td>\n",
       "      <td>39</td>\n",
       "      <td>32</td>\n",
       "      <td>0</td>\n",
       "    </tr>\n",
       "    <tr>\n",
       "      <th>2532</th>\n",
       "      <td>2500</td>\n",
       "      <td>7</td>\n",
       "      <td>52</td>\n",
       "      <td>1</td>\n",
       "      <td>1</td>\n",
       "    </tr>\n",
       "    <tr>\n",
       "      <th>6803</th>\n",
       "      <td>3500</td>\n",
       "      <td>6</td>\n",
       "      <td>45</td>\n",
       "      <td>4</td>\n",
       "      <td>0</td>\n",
       "    </tr>\n",
       "    <tr>\n",
       "      <th>7401</th>\n",
       "      <td>1700</td>\n",
       "      <td>6</td>\n",
       "      <td>68</td>\n",
       "      <td>13</td>\n",
       "      <td>0</td>\n",
       "    </tr>\n",
       "    <tr>\n",
       "      <th>11880</th>\n",
       "      <td>2600</td>\n",
       "      <td>1</td>\n",
       "      <td>38</td>\n",
       "      <td>41</td>\n",
       "      <td>0</td>\n",
       "    </tr>\n",
       "    <tr>\n",
       "      <th>...</th>\n",
       "      <td>...</td>\n",
       "      <td>...</td>\n",
       "      <td>...</td>\n",
       "      <td>...</td>\n",
       "      <td>...</td>\n",
       "    </tr>\n",
       "    <tr>\n",
       "      <th>5191</th>\n",
       "      <td>3400</td>\n",
       "      <td>99</td>\n",
       "      <td>66</td>\n",
       "      <td>1</td>\n",
       "      <td>0</td>\n",
       "    </tr>\n",
       "    <tr>\n",
       "      <th>13418</th>\n",
       "      <td>3000</td>\n",
       "      <td>9</td>\n",
       "      <td>48</td>\n",
       "      <td>12</td>\n",
       "      <td>0</td>\n",
       "    </tr>\n",
       "    <tr>\n",
       "      <th>5390</th>\n",
       "      <td>2800</td>\n",
       "      <td>8</td>\n",
       "      <td>38</td>\n",
       "      <td>1</td>\n",
       "      <td>0</td>\n",
       "    </tr>\n",
       "    <tr>\n",
       "      <th>860</th>\n",
       "      <td>3300</td>\n",
       "      <td>8</td>\n",
       "      <td>41</td>\n",
       "      <td>1</td>\n",
       "      <td>0</td>\n",
       "    </tr>\n",
       "    <tr>\n",
       "      <th>7270</th>\n",
       "      <td>3300</td>\n",
       "      <td>1</td>\n",
       "      <td>54</td>\n",
       "      <td>4</td>\n",
       "      <td>2</td>\n",
       "    </tr>\n",
       "  </tbody>\n",
       "</table>\n",
       "<p>10845 rows × 5 columns</p>\n",
       "</div>"
      ],
      "text/plain": [
       "       bw_grams  psoc_hh  age_hh  whands  psccat_mom\n",
       "11131      2700        8      39      32           0\n",
       "2532       2500        7      52       1           1\n",
       "6803       3500        6      45       4           0\n",
       "7401       1700        6      68      13           0\n",
       "11880      2600        1      38      41           0\n",
       "...         ...      ...     ...     ...         ...\n",
       "5191       3400       99      66       1           0\n",
       "13418      3000        9      48      12           0\n",
       "5390       2800        8      38       1           0\n",
       "860        3300        8      41       1           0\n",
       "7270       3300        1      54       4           2\n",
       "\n",
       "[10845 rows x 5 columns]"
      ]
     },
     "execution_count": 155,
     "metadata": {},
     "output_type": "execute_result"
    }
   ],
   "source": [
    "X_train"
   ]
  },
  {
   "cell_type": "code",
   "execution_count": 156,
   "id": "807c8153",
   "metadata": {},
   "outputs": [
    {
     "data": {
      "text/html": [
       "<div>\n",
       "<style scoped>\n",
       "    .dataframe tbody tr th:only-of-type {\n",
       "        vertical-align: middle;\n",
       "    }\n",
       "\n",
       "    .dataframe tbody tr th {\n",
       "        vertical-align: top;\n",
       "    }\n",
       "\n",
       "    .dataframe thead th {\n",
       "        text-align: right;\n",
       "    }\n",
       "</style>\n",
       "<table border=\"1\" class=\"dataframe\">\n",
       "  <thead>\n",
       "    <tr style=\"text-align: right;\">\n",
       "      <th></th>\n",
       "      <th>bw_grams</th>\n",
       "      <th>psoc_hh</th>\n",
       "      <th>age_hh</th>\n",
       "      <th>whands</th>\n",
       "      <th>psccat_mom</th>\n",
       "    </tr>\n",
       "  </thead>\n",
       "  <tbody>\n",
       "    <tr>\n",
       "      <th>2900</th>\n",
       "      <td>3200</td>\n",
       "      <td>9</td>\n",
       "      <td>40</td>\n",
       "      <td>1</td>\n",
       "      <td>0</td>\n",
       "    </tr>\n",
       "    <tr>\n",
       "      <th>13523</th>\n",
       "      <td>2800</td>\n",
       "      <td>6</td>\n",
       "      <td>65</td>\n",
       "      <td>11</td>\n",
       "      <td>0</td>\n",
       "    </tr>\n",
       "    <tr>\n",
       "      <th>10043</th>\n",
       "      <td>2800</td>\n",
       "      <td>8</td>\n",
       "      <td>26</td>\n",
       "      <td>11</td>\n",
       "      <td>2</td>\n",
       "    </tr>\n",
       "    <tr>\n",
       "      <th>7900</th>\n",
       "      <td>3000</td>\n",
       "      <td>9</td>\n",
       "      <td>65</td>\n",
       "      <td>13</td>\n",
       "      <td>2</td>\n",
       "    </tr>\n",
       "    <tr>\n",
       "      <th>3479</th>\n",
       "      <td>2500</td>\n",
       "      <td>8</td>\n",
       "      <td>38</td>\n",
       "      <td>2</td>\n",
       "      <td>2</td>\n",
       "    </tr>\n",
       "    <tr>\n",
       "      <th>...</th>\n",
       "      <td>...</td>\n",
       "      <td>...</td>\n",
       "      <td>...</td>\n",
       "      <td>...</td>\n",
       "      <td>...</td>\n",
       "    </tr>\n",
       "    <tr>\n",
       "      <th>12829</th>\n",
       "      <td>3000</td>\n",
       "      <td>8</td>\n",
       "      <td>36</td>\n",
       "      <td>14</td>\n",
       "      <td>0</td>\n",
       "    </tr>\n",
       "    <tr>\n",
       "      <th>8998</th>\n",
       "      <td>2200</td>\n",
       "      <td>1</td>\n",
       "      <td>51</td>\n",
       "      <td>11</td>\n",
       "      <td>0</td>\n",
       "    </tr>\n",
       "    <tr>\n",
       "      <th>11436</th>\n",
       "      <td>2900</td>\n",
       "      <td>4</td>\n",
       "      <td>30</td>\n",
       "      <td>41</td>\n",
       "      <td>0</td>\n",
       "    </tr>\n",
       "    <tr>\n",
       "      <th>14055</th>\n",
       "      <td>2500</td>\n",
       "      <td>6</td>\n",
       "      <td>50</td>\n",
       "      <td>11</td>\n",
       "      <td>0</td>\n",
       "    </tr>\n",
       "    <tr>\n",
       "      <th>11203</th>\n",
       "      <td>2600</td>\n",
       "      <td>4</td>\n",
       "      <td>31</td>\n",
       "      <td>11</td>\n",
       "      <td>0</td>\n",
       "    </tr>\n",
       "  </tbody>\n",
       "</table>\n",
       "<p>3616 rows × 5 columns</p>\n",
       "</div>"
      ],
      "text/plain": [
       "       bw_grams  psoc_hh  age_hh  whands  psccat_mom\n",
       "2900       3200        9      40       1           0\n",
       "13523      2800        6      65      11           0\n",
       "10043      2800        8      26      11           2\n",
       "7900       3000        9      65      13           2\n",
       "3479       2500        8      38       2           2\n",
       "...         ...      ...     ...     ...         ...\n",
       "12829      3000        8      36      14           0\n",
       "8998       2200        1      51      11           0\n",
       "11436      2900        4      30      41           0\n",
       "14055      2500        6      50      11           0\n",
       "11203      2600        4      31      11           0\n",
       "\n",
       "[3616 rows x 5 columns]"
      ]
     },
     "execution_count": 156,
     "metadata": {},
     "output_type": "execute_result"
    }
   ],
   "source": [
    "x_test"
   ]
  },
  {
   "cell_type": "code",
   "execution_count": 157,
   "id": "1c967556",
   "metadata": {},
   "outputs": [
    {
     "data": {
      "text/html": [
       "<div>\n",
       "<style scoped>\n",
       "    .dataframe tbody tr th:only-of-type {\n",
       "        vertical-align: middle;\n",
       "    }\n",
       "\n",
       "    .dataframe tbody tr th {\n",
       "        vertical-align: top;\n",
       "    }\n",
       "\n",
       "    .dataframe thead th {\n",
       "        text-align: right;\n",
       "    }\n",
       "</style>\n",
       "<table border=\"1\" class=\"dataframe\">\n",
       "  <thead>\n",
       "    <tr style=\"text-align: right;\">\n",
       "      <th></th>\n",
       "      <th>stunting</th>\n",
       "    </tr>\n",
       "  </thead>\n",
       "  <tbody>\n",
       "    <tr>\n",
       "      <th>2900</th>\n",
       "      <td>0</td>\n",
       "    </tr>\n",
       "    <tr>\n",
       "      <th>13523</th>\n",
       "      <td>0</td>\n",
       "    </tr>\n",
       "    <tr>\n",
       "      <th>10043</th>\n",
       "      <td>0</td>\n",
       "    </tr>\n",
       "    <tr>\n",
       "      <th>7900</th>\n",
       "      <td>1</td>\n",
       "    </tr>\n",
       "    <tr>\n",
       "      <th>3479</th>\n",
       "      <td>1</td>\n",
       "    </tr>\n",
       "    <tr>\n",
       "      <th>...</th>\n",
       "      <td>...</td>\n",
       "    </tr>\n",
       "    <tr>\n",
       "      <th>12829</th>\n",
       "      <td>0</td>\n",
       "    </tr>\n",
       "    <tr>\n",
       "      <th>8998</th>\n",
       "      <td>1</td>\n",
       "    </tr>\n",
       "    <tr>\n",
       "      <th>11436</th>\n",
       "      <td>0</td>\n",
       "    </tr>\n",
       "    <tr>\n",
       "      <th>14055</th>\n",
       "      <td>1</td>\n",
       "    </tr>\n",
       "    <tr>\n",
       "      <th>11203</th>\n",
       "      <td>0</td>\n",
       "    </tr>\n",
       "  </tbody>\n",
       "</table>\n",
       "<p>3616 rows × 1 columns</p>\n",
       "</div>"
      ],
      "text/plain": [
       "       stunting\n",
       "2900          0\n",
       "13523         0\n",
       "10043         0\n",
       "7900          1\n",
       "3479          1\n",
       "...         ...\n",
       "12829         0\n",
       "8998          1\n",
       "11436         0\n",
       "14055         1\n",
       "11203         0\n",
       "\n",
       "[3616 rows x 1 columns]"
      ]
     },
     "execution_count": 157,
     "metadata": {},
     "output_type": "execute_result"
    }
   ],
   "source": [
    "y_test"
   ]
  },
  {
   "cell_type": "code",
   "execution_count": 194,
   "id": "1d004d06",
   "metadata": {},
   "outputs": [
    {
     "data": {
      "text/plain": [
       "array([1], dtype=int64)"
      ]
     },
     "execution_count": 194,
     "metadata": {},
     "output_type": "execute_result"
    }
   ],
   "source": [
    "rf.predict([[2500,6,50,11,0]])"
   ]
  },
  {
   "cell_type": "code",
   "execution_count": 192,
   "id": "d821a83b",
   "metadata": {},
   "outputs": [],
   "source": [
    "import pickle\n",
    "with open('stunting_59mos_rf.pkl','wb') as file:\n",
    "    pickle.dump(svc,file)\n",
    "x_test.to_csv(\"X_test_stuntingt.csv\")\n",
    "y_test.to_csv(\"y_test_stunting.csv\")"
   ]
  },
  {
   "cell_type": "code",
   "execution_count": null,
   "id": "9dfc9ed9",
   "metadata": {},
   "outputs": [],
   "source": []
  }
 ],
 "metadata": {
  "kernelspec": {
   "display_name": "Python 3 (ipykernel)",
   "language": "python",
   "name": "python3"
  },
  "language_info": {
   "codemirror_mode": {
    "name": "ipython",
    "version": 3
   },
   "file_extension": ".py",
   "mimetype": "text/x-python",
   "name": "python",
   "nbconvert_exporter": "python",
   "pygments_lexer": "ipython3",
   "version": "3.9.7"
  }
 },
 "nbformat": 4,
 "nbformat_minor": 5
}
